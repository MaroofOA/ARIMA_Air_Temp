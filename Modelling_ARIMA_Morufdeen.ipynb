{
  "cells": [
    {
      "cell_type": "code",
      "execution_count": 1,
      "metadata": {
        "colab": {
          "base_uri": "https://localhost:8080/"
        },
        "id": "5grtNCikX9Le",
        "outputId": "a8a73dda-4bec-4c56-f43b-9e50124b2fcf"
      },
      "outputs": [
        {
          "output_type": "stream",
          "name": "stdout",
          "text": [
            "Mounted at /content/drive\n"
          ]
        }
      ],
      "source": [
        "# Import potential libraries to use\n",
        "\n",
        "import time\n",
        "import numpy as np\n",
        "import pandas as pd\n",
        "import seaborn as sns\n",
        "import matplotlib.pyplot as plt\n",
        "import plotly.express as px\n",
        "from sklearn.metrics import mean_absolute_error, mean_squared_error\n",
        "from statsmodels.graphics.tsaplots import plot_acf, plot_pacf\n",
        "from statsmodels.tsa.arima.model import ARIMA\n",
        "from pandas.plotting import autocorrelation_plot\n",
        "\n",
        "from statsmodels.tsa.stattools import adfuller\n",
        "from numpy import log\n",
        "\n",
        "%matplotlib inline\n",
        "\n",
        "from google.colab import drive\n",
        "drive.mount('/content/drive')"
      ]
    },
    {
      "cell_type": "code",
      "execution_count": 2,
      "metadata": {
        "colab": {
          "base_uri": "https://localhost:8080/",
          "height": 342
        },
        "id": "Yr8WGoR4YM8g",
        "outputId": "592e7402-7c22-4667-fe67-85bc8fb4b290"
      },
      "outputs": [
        {
          "output_type": "execute_result",
          "data": {
            "text/plain": [
              "         date  UV000005502  UV000005507  UV000005522  UV000065501  \\\n",
              "0  1980-01-01        23.89        24.44        26.67        21.67   \n",
              "1  1980-01-02        24.44        24.44        27.22        24.44   \n",
              "2  1980-01-03        24.44        25.00        26.11        22.78   \n",
              "3  1980-01-04        23.33        25.00        26.11        23.33   \n",
              "4  1980-01-05        23.89        25.56        27.22        23.89   \n",
              "\n",
              "   UV000065516  UVM00065503  UVM00065510  UVM00065518  IV000005557  ...  \\\n",
              "0        24.44        23.33        24.44        26.67        25.56  ...   \n",
              "1        26.11        25.00        26.11        26.67        25.56  ...   \n",
              "2        25.00        25.56        25.00        26.67        26.11  ...   \n",
              "3        24.44        24.44        25.00        26.67        26.67  ...   \n",
              "4        25.56        25.56        26.67        26.67        26.11  ...   \n",
              "\n",
              "   SGM00061695  SGM00061697  SGM00061698  SGM00061699  SL000061856  \\\n",
              "0        23.33        26.67        28.89        30.00        26.67   \n",
              "1        24.44        26.67        27.78        26.11        26.67   \n",
              "2        23.33        26.67        28.89        27.78        26.67   \n",
              "3        21.67        26.67        23.33        28.33        26.67   \n",
              "4        24.44        26.67        23.33        27.22        26.67   \n",
              "\n",
              "   LIM00065660  GHM00065472  CVM00008594  GV000001832   avg_temp  \n",
              "0        27.78        26.11        21.67        26.11  24.630000  \n",
              "1        27.78        28.89        22.22        26.11  25.208750  \n",
              "2        27.78        28.89        21.11        26.11  25.409583  \n",
              "3        27.78        28.89        21.67        26.11  25.547778  \n",
              "4        27.78        28.89        21.67        26.11  25.339583  \n",
              "\n",
              "[5 rows x 74 columns]"
            ],
            "text/html": [
              "\n",
              "  <div id=\"df-0c8b8291-7034-43b9-9458-5b6306e77c29\" class=\"colab-df-container\">\n",
              "    <div>\n",
              "<style scoped>\n",
              "    .dataframe tbody tr th:only-of-type {\n",
              "        vertical-align: middle;\n",
              "    }\n",
              "\n",
              "    .dataframe tbody tr th {\n",
              "        vertical-align: top;\n",
              "    }\n",
              "\n",
              "    .dataframe thead th {\n",
              "        text-align: right;\n",
              "    }\n",
              "</style>\n",
              "<table border=\"1\" class=\"dataframe\">\n",
              "  <thead>\n",
              "    <tr style=\"text-align: right;\">\n",
              "      <th></th>\n",
              "      <th>date</th>\n",
              "      <th>UV000005502</th>\n",
              "      <th>UV000005507</th>\n",
              "      <th>UV000005522</th>\n",
              "      <th>UV000065501</th>\n",
              "      <th>UV000065516</th>\n",
              "      <th>UVM00065503</th>\n",
              "      <th>UVM00065510</th>\n",
              "      <th>UVM00065518</th>\n",
              "      <th>IV000005557</th>\n",
              "      <th>...</th>\n",
              "      <th>SGM00061695</th>\n",
              "      <th>SGM00061697</th>\n",
              "      <th>SGM00061698</th>\n",
              "      <th>SGM00061699</th>\n",
              "      <th>SL000061856</th>\n",
              "      <th>LIM00065660</th>\n",
              "      <th>GHM00065472</th>\n",
              "      <th>CVM00008594</th>\n",
              "      <th>GV000001832</th>\n",
              "      <th>avg_temp</th>\n",
              "    </tr>\n",
              "  </thead>\n",
              "  <tbody>\n",
              "    <tr>\n",
              "      <th>0</th>\n",
              "      <td>1980-01-01</td>\n",
              "      <td>23.89</td>\n",
              "      <td>24.44</td>\n",
              "      <td>26.67</td>\n",
              "      <td>21.67</td>\n",
              "      <td>24.44</td>\n",
              "      <td>23.33</td>\n",
              "      <td>24.44</td>\n",
              "      <td>26.67</td>\n",
              "      <td>25.56</td>\n",
              "      <td>...</td>\n",
              "      <td>23.33</td>\n",
              "      <td>26.67</td>\n",
              "      <td>28.89</td>\n",
              "      <td>30.00</td>\n",
              "      <td>26.67</td>\n",
              "      <td>27.78</td>\n",
              "      <td>26.11</td>\n",
              "      <td>21.67</td>\n",
              "      <td>26.11</td>\n",
              "      <td>24.630000</td>\n",
              "    </tr>\n",
              "    <tr>\n",
              "      <th>1</th>\n",
              "      <td>1980-01-02</td>\n",
              "      <td>24.44</td>\n",
              "      <td>24.44</td>\n",
              "      <td>27.22</td>\n",
              "      <td>24.44</td>\n",
              "      <td>26.11</td>\n",
              "      <td>25.00</td>\n",
              "      <td>26.11</td>\n",
              "      <td>26.67</td>\n",
              "      <td>25.56</td>\n",
              "      <td>...</td>\n",
              "      <td>24.44</td>\n",
              "      <td>26.67</td>\n",
              "      <td>27.78</td>\n",
              "      <td>26.11</td>\n",
              "      <td>26.67</td>\n",
              "      <td>27.78</td>\n",
              "      <td>28.89</td>\n",
              "      <td>22.22</td>\n",
              "      <td>26.11</td>\n",
              "      <td>25.208750</td>\n",
              "    </tr>\n",
              "    <tr>\n",
              "      <th>2</th>\n",
              "      <td>1980-01-03</td>\n",
              "      <td>24.44</td>\n",
              "      <td>25.00</td>\n",
              "      <td>26.11</td>\n",
              "      <td>22.78</td>\n",
              "      <td>25.00</td>\n",
              "      <td>25.56</td>\n",
              "      <td>25.00</td>\n",
              "      <td>26.67</td>\n",
              "      <td>26.11</td>\n",
              "      <td>...</td>\n",
              "      <td>23.33</td>\n",
              "      <td>26.67</td>\n",
              "      <td>28.89</td>\n",
              "      <td>27.78</td>\n",
              "      <td>26.67</td>\n",
              "      <td>27.78</td>\n",
              "      <td>28.89</td>\n",
              "      <td>21.11</td>\n",
              "      <td>26.11</td>\n",
              "      <td>25.409583</td>\n",
              "    </tr>\n",
              "    <tr>\n",
              "      <th>3</th>\n",
              "      <td>1980-01-04</td>\n",
              "      <td>23.33</td>\n",
              "      <td>25.00</td>\n",
              "      <td>26.11</td>\n",
              "      <td>23.33</td>\n",
              "      <td>24.44</td>\n",
              "      <td>24.44</td>\n",
              "      <td>25.00</td>\n",
              "      <td>26.67</td>\n",
              "      <td>26.67</td>\n",
              "      <td>...</td>\n",
              "      <td>21.67</td>\n",
              "      <td>26.67</td>\n",
              "      <td>23.33</td>\n",
              "      <td>28.33</td>\n",
              "      <td>26.67</td>\n",
              "      <td>27.78</td>\n",
              "      <td>28.89</td>\n",
              "      <td>21.67</td>\n",
              "      <td>26.11</td>\n",
              "      <td>25.547778</td>\n",
              "    </tr>\n",
              "    <tr>\n",
              "      <th>4</th>\n",
              "      <td>1980-01-05</td>\n",
              "      <td>23.89</td>\n",
              "      <td>25.56</td>\n",
              "      <td>27.22</td>\n",
              "      <td>23.89</td>\n",
              "      <td>25.56</td>\n",
              "      <td>25.56</td>\n",
              "      <td>26.67</td>\n",
              "      <td>26.67</td>\n",
              "      <td>26.11</td>\n",
              "      <td>...</td>\n",
              "      <td>24.44</td>\n",
              "      <td>26.67</td>\n",
              "      <td>23.33</td>\n",
              "      <td>27.22</td>\n",
              "      <td>26.67</td>\n",
              "      <td>27.78</td>\n",
              "      <td>28.89</td>\n",
              "      <td>21.67</td>\n",
              "      <td>26.11</td>\n",
              "      <td>25.339583</td>\n",
              "    </tr>\n",
              "  </tbody>\n",
              "</table>\n",
              "<p>5 rows × 74 columns</p>\n",
              "</div>\n",
              "    <div class=\"colab-df-buttons\">\n",
              "\n",
              "  <div class=\"colab-df-container\">\n",
              "    <button class=\"colab-df-convert\" onclick=\"convertToInteractive('df-0c8b8291-7034-43b9-9458-5b6306e77c29')\"\n",
              "            title=\"Convert this dataframe to an interactive table.\"\n",
              "            style=\"display:none;\">\n",
              "\n",
              "  <svg xmlns=\"http://www.w3.org/2000/svg\" height=\"24px\" viewBox=\"0 -960 960 960\">\n",
              "    <path d=\"M120-120v-720h720v720H120Zm60-500h600v-160H180v160Zm220 220h160v-160H400v160Zm0 220h160v-160H400v160ZM180-400h160v-160H180v160Zm440 0h160v-160H620v160ZM180-180h160v-160H180v160Zm440 0h160v-160H620v160Z\"/>\n",
              "  </svg>\n",
              "    </button>\n",
              "\n",
              "  <style>\n",
              "    .colab-df-container {\n",
              "      display:flex;\n",
              "      gap: 12px;\n",
              "    }\n",
              "\n",
              "    .colab-df-convert {\n",
              "      background-color: #E8F0FE;\n",
              "      border: none;\n",
              "      border-radius: 50%;\n",
              "      cursor: pointer;\n",
              "      display: none;\n",
              "      fill: #1967D2;\n",
              "      height: 32px;\n",
              "      padding: 0 0 0 0;\n",
              "      width: 32px;\n",
              "    }\n",
              "\n",
              "    .colab-df-convert:hover {\n",
              "      background-color: #E2EBFA;\n",
              "      box-shadow: 0px 1px 2px rgba(60, 64, 67, 0.3), 0px 1px 3px 1px rgba(60, 64, 67, 0.15);\n",
              "      fill: #174EA6;\n",
              "    }\n",
              "\n",
              "    .colab-df-buttons div {\n",
              "      margin-bottom: 4px;\n",
              "    }\n",
              "\n",
              "    [theme=dark] .colab-df-convert {\n",
              "      background-color: #3B4455;\n",
              "      fill: #D2E3FC;\n",
              "    }\n",
              "\n",
              "    [theme=dark] .colab-df-convert:hover {\n",
              "      background-color: #434B5C;\n",
              "      box-shadow: 0px 1px 3px 1px rgba(0, 0, 0, 0.15);\n",
              "      filter: drop-shadow(0px 1px 2px rgba(0, 0, 0, 0.3));\n",
              "      fill: #FFFFFF;\n",
              "    }\n",
              "  </style>\n",
              "\n",
              "    <script>\n",
              "      const buttonEl =\n",
              "        document.querySelector('#df-0c8b8291-7034-43b9-9458-5b6306e77c29 button.colab-df-convert');\n",
              "      buttonEl.style.display =\n",
              "        google.colab.kernel.accessAllowed ? 'block' : 'none';\n",
              "\n",
              "      async function convertToInteractive(key) {\n",
              "        const element = document.querySelector('#df-0c8b8291-7034-43b9-9458-5b6306e77c29');\n",
              "        const dataTable =\n",
              "          await google.colab.kernel.invokeFunction('convertToInteractive',\n",
              "                                                    [key], {});\n",
              "        if (!dataTable) return;\n",
              "\n",
              "        const docLinkHtml = 'Like what you see? Visit the ' +\n",
              "          '<a target=\"_blank\" href=https://colab.research.google.com/notebooks/data_table.ipynb>data table notebook</a>'\n",
              "          + ' to learn more about interactive tables.';\n",
              "        element.innerHTML = '';\n",
              "        dataTable['output_type'] = 'display_data';\n",
              "        await google.colab.output.renderOutput(dataTable, element);\n",
              "        const docLink = document.createElement('div');\n",
              "        docLink.innerHTML = docLinkHtml;\n",
              "        element.appendChild(docLink);\n",
              "      }\n",
              "    </script>\n",
              "  </div>\n",
              "\n",
              "\n",
              "<div id=\"df-29574b49-4588-46bc-9104-51a01210ec6d\">\n",
              "  <button class=\"colab-df-quickchart\" onclick=\"quickchart('df-29574b49-4588-46bc-9104-51a01210ec6d')\"\n",
              "            title=\"Suggest charts\"\n",
              "            style=\"display:none;\">\n",
              "\n",
              "<svg xmlns=\"http://www.w3.org/2000/svg\" height=\"24px\"viewBox=\"0 0 24 24\"\n",
              "     width=\"24px\">\n",
              "    <g>\n",
              "        <path d=\"M19 3H5c-1.1 0-2 .9-2 2v14c0 1.1.9 2 2 2h14c1.1 0 2-.9 2-2V5c0-1.1-.9-2-2-2zM9 17H7v-7h2v7zm4 0h-2V7h2v10zm4 0h-2v-4h2v4z\"/>\n",
              "    </g>\n",
              "</svg>\n",
              "  </button>\n",
              "\n",
              "<style>\n",
              "  .colab-df-quickchart {\n",
              "      --bg-color: #E8F0FE;\n",
              "      --fill-color: #1967D2;\n",
              "      --hover-bg-color: #E2EBFA;\n",
              "      --hover-fill-color: #174EA6;\n",
              "      --disabled-fill-color: #AAA;\n",
              "      --disabled-bg-color: #DDD;\n",
              "  }\n",
              "\n",
              "  [theme=dark] .colab-df-quickchart {\n",
              "      --bg-color: #3B4455;\n",
              "      --fill-color: #D2E3FC;\n",
              "      --hover-bg-color: #434B5C;\n",
              "      --hover-fill-color: #FFFFFF;\n",
              "      --disabled-bg-color: #3B4455;\n",
              "      --disabled-fill-color: #666;\n",
              "  }\n",
              "\n",
              "  .colab-df-quickchart {\n",
              "    background-color: var(--bg-color);\n",
              "    border: none;\n",
              "    border-radius: 50%;\n",
              "    cursor: pointer;\n",
              "    display: none;\n",
              "    fill: var(--fill-color);\n",
              "    height: 32px;\n",
              "    padding: 0;\n",
              "    width: 32px;\n",
              "  }\n",
              "\n",
              "  .colab-df-quickchart:hover {\n",
              "    background-color: var(--hover-bg-color);\n",
              "    box-shadow: 0 1px 2px rgba(60, 64, 67, 0.3), 0 1px 3px 1px rgba(60, 64, 67, 0.15);\n",
              "    fill: var(--button-hover-fill-color);\n",
              "  }\n",
              "\n",
              "  .colab-df-quickchart-complete:disabled,\n",
              "  .colab-df-quickchart-complete:disabled:hover {\n",
              "    background-color: var(--disabled-bg-color);\n",
              "    fill: var(--disabled-fill-color);\n",
              "    box-shadow: none;\n",
              "  }\n",
              "\n",
              "  .colab-df-spinner {\n",
              "    border: 2px solid var(--fill-color);\n",
              "    border-color: transparent;\n",
              "    border-bottom-color: var(--fill-color);\n",
              "    animation:\n",
              "      spin 1s steps(1) infinite;\n",
              "  }\n",
              "\n",
              "  @keyframes spin {\n",
              "    0% {\n",
              "      border-color: transparent;\n",
              "      border-bottom-color: var(--fill-color);\n",
              "      border-left-color: var(--fill-color);\n",
              "    }\n",
              "    20% {\n",
              "      border-color: transparent;\n",
              "      border-left-color: var(--fill-color);\n",
              "      border-top-color: var(--fill-color);\n",
              "    }\n",
              "    30% {\n",
              "      border-color: transparent;\n",
              "      border-left-color: var(--fill-color);\n",
              "      border-top-color: var(--fill-color);\n",
              "      border-right-color: var(--fill-color);\n",
              "    }\n",
              "    40% {\n",
              "      border-color: transparent;\n",
              "      border-right-color: var(--fill-color);\n",
              "      border-top-color: var(--fill-color);\n",
              "    }\n",
              "    60% {\n",
              "      border-color: transparent;\n",
              "      border-right-color: var(--fill-color);\n",
              "    }\n",
              "    80% {\n",
              "      border-color: transparent;\n",
              "      border-right-color: var(--fill-color);\n",
              "      border-bottom-color: var(--fill-color);\n",
              "    }\n",
              "    90% {\n",
              "      border-color: transparent;\n",
              "      border-bottom-color: var(--fill-color);\n",
              "    }\n",
              "  }\n",
              "</style>\n",
              "\n",
              "  <script>\n",
              "    async function quickchart(key) {\n",
              "      const quickchartButtonEl =\n",
              "        document.querySelector('#' + key + ' button');\n",
              "      quickchartButtonEl.disabled = true;  // To prevent multiple clicks.\n",
              "      quickchartButtonEl.classList.add('colab-df-spinner');\n",
              "      try {\n",
              "        const charts = await google.colab.kernel.invokeFunction(\n",
              "            'suggestCharts', [key], {});\n",
              "      } catch (error) {\n",
              "        console.error('Error during call to suggestCharts:', error);\n",
              "      }\n",
              "      quickchartButtonEl.classList.remove('colab-df-spinner');\n",
              "      quickchartButtonEl.classList.add('colab-df-quickchart-complete');\n",
              "    }\n",
              "    (() => {\n",
              "      let quickchartButtonEl =\n",
              "        document.querySelector('#df-29574b49-4588-46bc-9104-51a01210ec6d button');\n",
              "      quickchartButtonEl.style.display =\n",
              "        google.colab.kernel.accessAllowed ? 'block' : 'none';\n",
              "    })();\n",
              "  </script>\n",
              "</div>\n",
              "    </div>\n",
              "  </div>\n"
            ]
          },
          "metadata": {},
          "execution_count": 2
        }
      ],
      "source": [
        "model_df = pd.read_csv(\"/content/drive/My Drive/Colab Notebooks/modelling_data.csv\")\n",
        "model_df.head()"
      ]
    },
    {
      "cell_type": "code",
      "execution_count": 3,
      "metadata": {
        "colab": {
          "base_uri": "https://localhost:8080/"
        },
        "id": "0iXVJwf4Yj3j",
        "outputId": "e18a5262-9c85-4465-b46a-22df3b1e6472"
      },
      "outputs": [
        {
          "output_type": "stream",
          "name": "stdout",
          "text": [
            "<class 'pandas.core.frame.DataFrame'>\n",
            "RangeIndex: 15706 entries, 0 to 15705\n",
            "Data columns (total 74 columns):\n",
            " #   Column       Non-Null Count  Dtype  \n",
            "---  ------       --------------  -----  \n",
            " 0   date         15706 non-null  object \n",
            " 1   UV000005502  15706 non-null  float64\n",
            " 2   UV000005507  15706 non-null  float64\n",
            " 3   UV000005522  15706 non-null  float64\n",
            " 4   UV000065501  15706 non-null  float64\n",
            " 5   UV000065516  15706 non-null  float64\n",
            " 6   UVM00065503  15706 non-null  float64\n",
            " 7   UVM00065510  15706 non-null  float64\n",
            " 8   UVM00065518  15706 non-null  float64\n",
            " 9   IV000005557  15706 non-null  float64\n",
            " 10  IV000005562  15706 non-null  float64\n",
            " 11  IV000005592  15706 non-null  float64\n",
            " 12  IV000065585  15706 non-null  float64\n",
            " 13  IV000065599  15706 non-null  float64\n",
            " 14  IVM00065545  15706 non-null  float64\n",
            " 15  IVM00065560  15706 non-null  float64\n",
            " 16  IVM00065563  15706 non-null  float64\n",
            " 17  IVM00065578  15706 non-null  float64\n",
            " 18  IVM00065594  15706 non-null  float64\n",
            " 19  NG000001036  15706 non-null  float64\n",
            " 20  NG000001049  15706 non-null  float64\n",
            " 21  NG000001052  15706 non-null  float64\n",
            " 22  NG000001075  15706 non-null  float64\n",
            " 23  NG000001080  15706 non-null  float64\n",
            " 24  NG000001090  15706 non-null  float64\n",
            " 25  NG000061017  15706 non-null  float64\n",
            " 26  NG000061024  15706 non-null  float64\n",
            " 27  NG000061043  15706 non-null  float64\n",
            " 28  NG000061096  15706 non-null  float64\n",
            " 29  NGM00061045  15706 non-null  float64\n",
            " 30  NGM00061091  15706 non-null  float64\n",
            " 31  NGM00061099  15706 non-null  float64\n",
            " 32  UVM00065505  15706 non-null  float64\n",
            " 33  TO000005361  15706 non-null  float64\n",
            " 34  TO000005376  15706 non-null  float64\n",
            " 35  TOM00065352  15706 non-null  float64\n",
            " 36  TOM00065355  15706 non-null  float64\n",
            " 37  TOM00065387  15706 non-null  float64\n",
            " 38  GAM00061701  15706 non-null  float64\n",
            " 39  ML000061297  15706 non-null  float64\n",
            " 40  MLM00061230  15706 non-null  float64\n",
            " 41  MLM00061257  15706 non-null  float64\n",
            " 42  MLM00061265  15706 non-null  float64\n",
            " 43  MLM00061272  15706 non-null  float64\n",
            " 44  MLM00061277  15706 non-null  float64\n",
            " 45  MLM00061291  15706 non-null  float64\n",
            " 46  MLM00061293  15706 non-null  float64\n",
            " 47  MLM00061296  15706 non-null  float64\n",
            " 48  PUM00061766  15706 non-null  float64\n",
            " 49  BN000005319  15706 non-null  float64\n",
            " 50  BN000005344  15706 non-null  float64\n",
            " 51  BN000065306  15706 non-null  float64\n",
            " 52  BN000065335  15706 non-null  float64\n",
            " 53  BNM00065330  15706 non-null  float64\n",
            " 54  BNM00065338  15706 non-null  float64\n",
            " 55  NIM00065201  15706 non-null  float64\n",
            " 56  SG000001627  15706 non-null  float64\n",
            " 57  SG000061612  15706 non-null  float64\n",
            " 58  SG000061641  15706 non-null  float64\n",
            " 59  SG000061687  15706 non-null  float64\n",
            " 60  SGM00061600  15706 non-null  float64\n",
            " 61  SGM00061630  15706 non-null  float64\n",
            " 62  SGM00061666  15706 non-null  float64\n",
            " 63  SGM00061679  15706 non-null  float64\n",
            " 64  SGM00061695  15706 non-null  float64\n",
            " 65  SGM00061697  15706 non-null  float64\n",
            " 66  SGM00061698  15706 non-null  float64\n",
            " 67  SGM00061699  15706 non-null  float64\n",
            " 68  SL000061856  15706 non-null  float64\n",
            " 69  LIM00065660  15706 non-null  float64\n",
            " 70  GHM00065472  15706 non-null  float64\n",
            " 71  CVM00008594  15706 non-null  float64\n",
            " 72  GV000001832  15706 non-null  float64\n",
            " 73  avg_temp     15706 non-null  float64\n",
            "dtypes: float64(73), object(1)\n",
            "memory usage: 8.9+ MB\n"
          ]
        }
      ],
      "source": [
        "model_df.info()"
      ]
    },
    {
      "cell_type": "code",
      "execution_count": 4,
      "metadata": {
        "colab": {
          "base_uri": "https://localhost:8080/"
        },
        "id": "7lWTddDaMbQ9",
        "outputId": "d9e75d29-aaae-494e-d261-dbd4dea3c8c5"
      },
      "outputs": [
        {
          "output_type": "stream",
          "name": "stdout",
          "text": [
            "<class 'pandas.core.frame.DataFrame'>\n",
            "DatetimeIndex: 15706 entries, 1980-01-01 01:00:00+01:00 to 2022-12-31 01:00:00+01:00\n",
            "Data columns (total 73 columns):\n",
            " #   Column       Non-Null Count  Dtype  \n",
            "---  ------       --------------  -----  \n",
            " 0   UV000005502  15706 non-null  float64\n",
            " 1   UV000005507  15706 non-null  float64\n",
            " 2   UV000005522  15706 non-null  float64\n",
            " 3   UV000065501  15706 non-null  float64\n",
            " 4   UV000065516  15706 non-null  float64\n",
            " 5   UVM00065503  15706 non-null  float64\n",
            " 6   UVM00065510  15706 non-null  float64\n",
            " 7   UVM00065518  15706 non-null  float64\n",
            " 8   IV000005557  15706 non-null  float64\n",
            " 9   IV000005562  15706 non-null  float64\n",
            " 10  IV000005592  15706 non-null  float64\n",
            " 11  IV000065585  15706 non-null  float64\n",
            " 12  IV000065599  15706 non-null  float64\n",
            " 13  IVM00065545  15706 non-null  float64\n",
            " 14  IVM00065560  15706 non-null  float64\n",
            " 15  IVM00065563  15706 non-null  float64\n",
            " 16  IVM00065578  15706 non-null  float64\n",
            " 17  IVM00065594  15706 non-null  float64\n",
            " 18  NG000001036  15706 non-null  float64\n",
            " 19  NG000001049  15706 non-null  float64\n",
            " 20  NG000001052  15706 non-null  float64\n",
            " 21  NG000001075  15706 non-null  float64\n",
            " 22  NG000001080  15706 non-null  float64\n",
            " 23  NG000001090  15706 non-null  float64\n",
            " 24  NG000061017  15706 non-null  float64\n",
            " 25  NG000061024  15706 non-null  float64\n",
            " 26  NG000061043  15706 non-null  float64\n",
            " 27  NG000061096  15706 non-null  float64\n",
            " 28  NGM00061045  15706 non-null  float64\n",
            " 29  NGM00061091  15706 non-null  float64\n",
            " 30  NGM00061099  15706 non-null  float64\n",
            " 31  UVM00065505  15706 non-null  float64\n",
            " 32  TO000005361  15706 non-null  float64\n",
            " 33  TO000005376  15706 non-null  float64\n",
            " 34  TOM00065352  15706 non-null  float64\n",
            " 35  TOM00065355  15706 non-null  float64\n",
            " 36  TOM00065387  15706 non-null  float64\n",
            " 37  GAM00061701  15706 non-null  float64\n",
            " 38  ML000061297  15706 non-null  float64\n",
            " 39  MLM00061230  15706 non-null  float64\n",
            " 40  MLM00061257  15706 non-null  float64\n",
            " 41  MLM00061265  15706 non-null  float64\n",
            " 42  MLM00061272  15706 non-null  float64\n",
            " 43  MLM00061277  15706 non-null  float64\n",
            " 44  MLM00061291  15706 non-null  float64\n",
            " 45  MLM00061293  15706 non-null  float64\n",
            " 46  MLM00061296  15706 non-null  float64\n",
            " 47  PUM00061766  15706 non-null  float64\n",
            " 48  BN000005319  15706 non-null  float64\n",
            " 49  BN000005344  15706 non-null  float64\n",
            " 50  BN000065306  15706 non-null  float64\n",
            " 51  BN000065335  15706 non-null  float64\n",
            " 52  BNM00065330  15706 non-null  float64\n",
            " 53  BNM00065338  15706 non-null  float64\n",
            " 54  NIM00065201  15706 non-null  float64\n",
            " 55  SG000001627  15706 non-null  float64\n",
            " 56  SG000061612  15706 non-null  float64\n",
            " 57  SG000061641  15706 non-null  float64\n",
            " 58  SG000061687  15706 non-null  float64\n",
            " 59  SGM00061600  15706 non-null  float64\n",
            " 60  SGM00061630  15706 non-null  float64\n",
            " 61  SGM00061666  15706 non-null  float64\n",
            " 62  SGM00061679  15706 non-null  float64\n",
            " 63  SGM00061695  15706 non-null  float64\n",
            " 64  SGM00061697  15706 non-null  float64\n",
            " 65  SGM00061698  15706 non-null  float64\n",
            " 66  SGM00061699  15706 non-null  float64\n",
            " 67  SL000061856  15706 non-null  float64\n",
            " 68  LIM00065660  15706 non-null  float64\n",
            " 69  GHM00065472  15706 non-null  float64\n",
            " 70  CVM00008594  15706 non-null  float64\n",
            " 71  GV000001832  15706 non-null  float64\n",
            " 72  avg_temp     15706 non-null  float64\n",
            "dtypes: float64(73)\n",
            "memory usage: 8.9 MB\n"
          ]
        }
      ],
      "source": [
        "# Convert the date to datetime\n",
        "\n",
        "model_df[\"date\"] = pd.to_datetime(model_df[\"date\"], errors='coerce')\n",
        "\n",
        "# Set the date as index\n",
        "model_df = model_df.set_index('date')\n",
        "\n",
        "# COnvert datetime to GMT+1\n",
        "model_df.index = model_df.index.tz_localize(\"UTC\").tz_convert(\"Africa/Kinshasa\")\n",
        "\n",
        "model_df.info()"
      ]
    },
    {
      "cell_type": "code",
      "execution_count": 5,
      "metadata": {
        "colab": {
          "base_uri": "https://localhost:8080/"
        },
        "id": "a8Hb9cYRYnrl",
        "outputId": "b13d1613-7803-4613-9e2c-3c2394d04be9"
      },
      "outputs": [
        {
          "output_type": "execute_result",
          "data": {
            "text/plain": [
              "UV000005502    0\n",
              "UV000005507    0\n",
              "UV000005522    0\n",
              "UV000065501    0\n",
              "UV000065516    0\n",
              "              ..\n",
              "LIM00065660    0\n",
              "GHM00065472    0\n",
              "CVM00008594    0\n",
              "GV000001832    0\n",
              "avg_temp       0\n",
              "Length: 73, dtype: int64"
            ]
          },
          "metadata": {},
          "execution_count": 5
        }
      ],
      "source": [
        "model_df.isnull().sum()"
      ]
    },
    {
      "cell_type": "code",
      "execution_count": 6,
      "metadata": {
        "colab": {
          "base_uri": "https://localhost:8080/"
        },
        "id": "e3l6QMRdZo0F",
        "outputId": "5457140f-9389-4e1f-c401-6fd2934a6674"
      },
      "outputs": [
        {
          "output_type": "execute_result",
          "data": {
            "text/plain": [
              "Index(['UV000005502', 'UV000005507', 'UV000005522', 'UV000065501',\n",
              "       'UV000065516', 'UVM00065503', 'UVM00065510', 'UVM00065518',\n",
              "       'IV000005557', 'IV000005562', 'IV000005592', 'IV000065585',\n",
              "       'IV000065599', 'IVM00065545', 'IVM00065560', 'IVM00065563',\n",
              "       'IVM00065578', 'IVM00065594', 'NG000001036', 'NG000001049',\n",
              "       'NG000001052', 'NG000001075', 'NG000001080', 'NG000001090',\n",
              "       'NG000061017', 'NG000061024', 'NG000061043', 'NG000061096',\n",
              "       'NGM00061045', 'NGM00061091', 'NGM00061099', 'UVM00065505',\n",
              "       'TO000005361', 'TO000005376', 'TOM00065352', 'TOM00065355',\n",
              "       'TOM00065387', 'GAM00061701', 'ML000061297', 'MLM00061230',\n",
              "       'MLM00061257', 'MLM00061265', 'MLM00061272', 'MLM00061277',\n",
              "       'MLM00061291', 'MLM00061293', 'MLM00061296', 'PUM00061766',\n",
              "       'BN000005319', 'BN000005344', 'BN000065306', 'BN000065335',\n",
              "       'BNM00065330', 'BNM00065338', 'NIM00065201', 'SG000001627',\n",
              "       'SG000061612', 'SG000061641', 'SG000061687', 'SGM00061600',\n",
              "       'SGM00061630', 'SGM00061666', 'SGM00061679', 'SGM00061695',\n",
              "       'SGM00061697', 'SGM00061698', 'SGM00061699', 'SL000061856',\n",
              "       'LIM00065660', 'GHM00065472', 'CVM00008594', 'GV000001832', 'avg_temp'],\n",
              "      dtype='object')"
            ]
          },
          "metadata": {},
          "execution_count": 6
        }
      ],
      "source": [
        "model_df.columns"
      ]
    },
    {
      "cell_type": "markdown",
      "metadata": {
        "id": "lDuEK75rFERK"
      },
      "source": [
        "Creating a model with one of the stations"
      ]
    },
    {
      "cell_type": "code",
      "execution_count": 7,
      "metadata": {
        "colab": {
          "base_uri": "https://localhost:8080/"
        },
        "id": "vME3AaOzbAwg",
        "outputId": "8b98f23c-898f-43f1-8bbe-95a228f7259a"
      },
      "outputs": [
        {
          "output_type": "execute_result",
          "data": {
            "text/plain": [
              "date\n",
              "1980-01-01 01:00:00+01:00    23.89\n",
              "1980-01-02 01:00:00+01:00    24.44\n",
              "1980-01-03 01:00:00+01:00    24.44\n",
              "1980-01-04 01:00:00+01:00    23.33\n",
              "1980-01-05 01:00:00+01:00    23.89\n",
              "Name: UV000005502, dtype: float64"
            ]
          },
          "metadata": {},
          "execution_count": 7
        }
      ],
      "source": [
        "y = model_df['UV000005502']\n",
        "y.head()"
      ]
    },
    {
      "cell_type": "code",
      "execution_count": 8,
      "metadata": {
        "colab": {
          "base_uri": "https://localhost:8080/",
          "height": 521
        },
        "id": "pRD72foqUYkZ",
        "outputId": "31890d70-682d-486e-cbad-7f3a40110342"
      },
      "outputs": [
        {
          "output_type": "execute_result",
          "data": {
            "text/plain": [
              "<Axes: xlabel='date'>"
            ]
          },
          "metadata": {},
          "execution_count": 8
        },
        {
          "output_type": "display_data",
          "data": {
            "text/plain": [
              "<Figure size 1500x600 with 1 Axes>"
            ],
            "image/png": "[encoded data removed]"
          },
          "metadata": {}
        }
      ],
      "source": [
        "fig, ax = plt.subplots(figsize=(15,6))\n",
        "\n",
        "y.plot(ax=ax)"
      ]
    },
    {
      "cell_type": "code",
      "execution_count": 9,
      "metadata": {
        "colab": {
          "base_uri": "https://localhost:8080/",
          "height": 564
        },
        "id": "88JVIKa1B7d6",
        "outputId": "3534c02d-3e2e-4bc4-d0c6-5352bbcf558b"
      },
      "outputs": [
        {
          "output_type": "execute_result",
          "data": {
            "text/plain": [
              "<Axes: xlabel='Lag', ylabel='Autocorrelation'>"
            ]
          },
          "metadata": {},
          "execution_count": 9
        },
        {
          "output_type": "display_data",
          "data": {
            "text/plain": [
              "<Figure size 1500x600 with 1 Axes>"
            ],
            "image/png": "[encoded data removed]"
          },
          "metadata": {}
        }
      ],
      "source": [
        "fig, ax = plt.subplots(figsize=(15,6))\n",
        "\n",
        "autocorrelation_plot(y)"
      ]
    },
    {
      "cell_type": "code",
      "execution_count": 10,
      "metadata": {
        "colab": {
          "base_uri": "https://localhost:8080/",
          "height": 564
        },
        "id": "YDemeNUIHD9C",
        "outputId": "36762f45-19e0-4ccb-ea2f-933af0e90d22"
      },
      "outputs": [
        {
          "output_type": "display_data",
          "data": {
            "text/plain": [
              "<Figure size 1500x600 with 1 Axes>"
            ],
            "image/png": "[encoded data removed]"
          },
          "metadata": {}
        }
      ],
      "source": [
        "# ACF Plot\n",
        "\n",
        "fig, ax = plt.subplots(figsize=(15,6))\n",
        "plot_acf(y, ax=ax)\n",
        "plt.xlabel(\"Lag [days]\")\n",
        "plt.ylabel(\"Correlation Coefficient\");"
      ]
    },
    {
      "cell_type": "code",
      "execution_count": 11,
      "metadata": {
        "colab": {
          "base_uri": "https://localhost:8080/",
          "height": 564
        },
        "id": "qB-akditN7Y1",
        "outputId": "83a447a4-1aba-4f57-caf8-ec4aa8691520"
      },
      "outputs": [
        {
          "output_type": "display_data",
          "data": {
            "text/plain": [
              "<Figure size 1500x600 with 1 Axes>"
            ],
            "image/png": "[encoded data removed]"
          },
          "metadata": {}
        }
      ],
      "source": [
        "fig, ax = plt.subplots(figsize=(15,6))\n",
        "plot_pacf(y, ax=ax)\n",
        "plt.xlabel(\"Lag [days]\")\n",
        "plt.ylabel(\"Correlation Coefficient\");"
      ]
    },
    {
      "cell_type": "code",
      "execution_count": 12,
      "metadata": {
        "colab": {
          "base_uri": "https://localhost:8080/"
        },
        "id": "MWkBQeMUQf8C",
        "outputId": "c93dd74b-2475-4af3-ce0b-e008297c01e1"
      },
      "outputs": [
        {
          "output_type": "stream",
          "name": "stdout",
          "text": [
            "1980-01-01 01:00:00+01:00 2022-12-31 01:00:00+01:00\n"
          ]
        }
      ],
      "source": [
        "print(y.index.min(), y.index.max())"
      ]
    },
    {
      "cell_type": "code",
      "execution_count": 13,
      "metadata": {
        "colab": {
          "base_uri": "https://localhost:8080/"
        },
        "id": "lFvs9hNIQmWn",
        "outputId": "0b39e5df-2207-417f-a3b5-8aa1c5603212"
      },
      "outputs": [
        {
          "output_type": "execute_result",
          "data": {
            "text/plain": [
              "(15706,)"
            ]
          },
          "metadata": {},
          "execution_count": 13
        }
      ],
      "source": [
        "y.index.shape"
      ]
    },
    {
      "cell_type": "code",
      "execution_count": 14,
      "metadata": {
        "colab": {
          "base_uri": "https://localhost:8080/"
        },
        "id": "Ey4JToVSPVvU",
        "outputId": "c91a71d1-8bd1-456e-da64-f7aac5f8575d"
      },
      "outputs": [
        {
          "output_type": "stream",
          "name": "stdout",
          "text": [
            "ADF Statistic: -14.608482\n",
            "p-value: 0.000000\n"
          ]
        }
      ],
      "source": [
        "result = adfuller(y)\n",
        "print('ADF Statistic: %f' % result[0])\n",
        "print('p-value: %f' % result[1])"
      ]
    },
    {
      "cell_type": "markdown",
      "metadata": {
        "id": "S3MiEfQDPe3P"
      },
      "source": [
        "Since p-value(0.00) is less than the significance level (p_value = 0.05) then we reject the null hypothesis and infer that the time series is indeed stationary. The null hypothesis (Ho) of the ADF test is that the time series is non-stationary.\n",
        "\n",
        "So, if the p-value of the test is less than the significance level (0.05) then we reject the null hypothesis and infer that the time series is indeed stationary.\n",
        "\n",
        "If P Value > 0.05 we go ahead with finding the order of differencing."
      ]
    },
    {
      "cell_type": "markdown",
      "metadata": {
        "id": "2C9K7Cj6SCry"
      },
      "source": [
        "#### Train Test Split\n",
        "\n",
        "Splitting the data with 90% training set"
      ]
    },
    {
      "cell_type": "code",
      "execution_count": 15,
      "metadata": {
        "colab": {
          "base_uri": "https://localhost:8080/"
        },
        "id": "F3FlaWycQ4Mh",
        "outputId": "c193311d-b196-4060-f5a4-29915464aa9d"
      },
      "outputs": [
        {
          "output_type": "stream",
          "name": "stdout",
          "text": [
            "y_train shape: (14920,)\n",
            "y_test shape: (786,)\n",
            "Total dataset 15706\n"
          ]
        }
      ],
      "source": [
        "cutoff_test = int(len(y) * 0.95)\n",
        "\n",
        "y_train = y.iloc[:cutoff_test]\n",
        "y_test = y.iloc[cutoff_test:]\n",
        "\n",
        "print(\"y_train shape:\", y_train.shape)\n",
        "print(\"y_test shape:\", y_test.shape)\n",
        "print(\"Total dataset\", len(y_train + y_test))"
      ]
    },
    {
      "cell_type": "markdown",
      "metadata": {
        "id": "RLh4bzPNSlvJ"
      },
      "source": [
        "#### Baseline Model"
      ]
    },
    {
      "cell_type": "code",
      "execution_count": 16,
      "metadata": {
        "colab": {
          "base_uri": "https://localhost:8080/"
        },
        "id": "jTzRbmOgR6Qz",
        "outputId": "f8c41082-bbdf-40ab-c28e-82d55bf14eec"
      },
      "outputs": [
        {
          "output_type": "stream",
          "name": "stdout",
          "text": [
            "Mean Temperatrure Reading: 29.2\n",
            "Baseline MAE: 2.88\n"
          ]
        }
      ],
      "source": [
        "y_train_mean = y_train.mean()\n",
        "y_pred_baseline = [y_train_mean] * len(y_train)\n",
        "mae_baseline = mean_absolute_error(y_train, y_pred_baseline)\n",
        "\n",
        "print(\"Mean Temperatrure Reading:\", round(y_train_mean, 2))\n",
        "print(\"Baseline MAE:\", round(mae_baseline, 2))"
      ]
    },
    {
      "cell_type": "markdown",
      "metadata": {
        "id": "tMF-u1G5TMeI"
      },
      "source": [
        "#### Iterate\n",
        "\n",
        "Create ranges for possible  𝑝 and  𝑞 values. p_params should range between 0 and 25, by steps of 8. q_params should range between 0 and 3 by steps of 1."
      ]
    },
    {
      "cell_type": "code",
      "execution_count": 49,
      "metadata": {
        "id": "ng2x5Yy2SzEM"
      },
      "outputs": [],
      "source": [
        "p_params = range(0, 25, 8)\n",
        "q_params = range(0, 3, 1)"
      ]
    },
    {
      "cell_type": "markdown",
      "metadata": {
        "id": "Ije43KNmTurw"
      },
      "source": [
        "Train a model with every combination of hyperparameters in p_params and q_params. Every time the model is trained, the mean absolute error is calculated and then saved to a dictionary."
      ]
    },
    {
      "cell_type": "code",
      "execution_count": null,
      "metadata": {
        "colab": {
          "base_uri": "https://localhost:8080/"
        },
        "id": "19QOcJu2Tsc3",
        "outputId": "d2304590-3be2-4624-9328-f1f2ca4f3f0a"
      },
      "outputs": [
        {
          "name": "stderr",
          "output_type": "stream",
          "text": [
            "/usr/local/lib/python3.10/dist-packages/statsmodels/tsa/base/tsa_model.py:473: ValueWarning: No frequency information was provided, so inferred frequency D will be used.\n",
            "  self._init_dates(dates, freq)\n",
            "/usr/local/lib/python3.10/dist-packages/statsmodels/tsa/base/tsa_model.py:473: ValueWarning: No frequency information was provided, so inferred frequency D will be used.\n",
            "  self._init_dates(dates, freq)\n",
            "/usr/local/lib/python3.10/dist-packages/statsmodels/tsa/base/tsa_model.py:473: ValueWarning: No frequency information was provided, so inferred frequency D will be used.\n",
            "  self._init_dates(dates, freq)\n"
          ]
        },
        {
          "name": "stdout",
          "output_type": "stream",
          "text": [
            "Trained ARIMA (0, 0, 0) in 4.24 seconds.\n",
            "2.8857633149515265\n"
          ]
        },
        {
          "name": "stderr",
          "output_type": "stream",
          "text": [
            "/usr/local/lib/python3.10/dist-packages/statsmodels/tsa/base/tsa_model.py:473: ValueWarning: No frequency information was provided, so inferred frequency D will be used.\n",
            "  self._init_dates(dates, freq)\n",
            "/usr/local/lib/python3.10/dist-packages/statsmodels/tsa/base/tsa_model.py:473: ValueWarning: No frequency information was provided, so inferred frequency D will be used.\n",
            "  self._init_dates(dates, freq)\n",
            "/usr/local/lib/python3.10/dist-packages/statsmodels/tsa/base/tsa_model.py:473: ValueWarning: No frequency information was provided, so inferred frequency D will be used.\n",
            "  self._init_dates(dates, freq)\n"
          ]
        },
        {
          "name": "stdout",
          "output_type": "stream",
          "text": [
            "Trained ARIMA (0, 0, 1) in 5.21 seconds.\n",
            "1.993373869825028\n"
          ]
        },
        {
          "name": "stderr",
          "output_type": "stream",
          "text": [
            "/usr/local/lib/python3.10/dist-packages/statsmodels/tsa/base/tsa_model.py:473: ValueWarning: No frequency information was provided, so inferred frequency D will be used.\n",
            "  self._init_dates(dates, freq)\n",
            "/usr/local/lib/python3.10/dist-packages/statsmodels/tsa/base/tsa_model.py:473: ValueWarning: No frequency information was provided, so inferred frequency D will be used.\n",
            "  self._init_dates(dates, freq)\n",
            "/usr/local/lib/python3.10/dist-packages/statsmodels/tsa/base/tsa_model.py:473: ValueWarning: No frequency information was provided, so inferred frequency D will be used.\n",
            "  self._init_dates(dates, freq)\n"
          ]
        },
        {
          "name": "stdout",
          "output_type": "stream",
          "text": [
            "Trained ARIMA (0, 0, 2) in 6.94 seconds.\n",
            "1.683604772696413\n"
          ]
        },
        {
          "name": "stderr",
          "output_type": "stream",
          "text": [
            "/usr/local/lib/python3.10/dist-packages/statsmodels/tsa/base/tsa_model.py:473: ValueWarning: No frequency information was provided, so inferred frequency D will be used.\n",
            "  self._init_dates(dates, freq)\n",
            "/usr/local/lib/python3.10/dist-packages/statsmodels/tsa/base/tsa_model.py:473: ValueWarning: No frequency information was provided, so inferred frequency D will be used.\n",
            "  self._init_dates(dates, freq)\n",
            "/usr/local/lib/python3.10/dist-packages/statsmodels/tsa/base/tsa_model.py:473: ValueWarning: No frequency information was provided, so inferred frequency D will be used.\n",
            "  self._init_dates(dates, freq)\n"
          ]
        },
        {
          "name": "stdout",
          "output_type": "stream",
          "text": [
            "Trained ARIMA (8, 0, 0) in 8.57 seconds.\n",
            "1.1967356574581156\n"
          ]
        },
        {
          "name": "stderr",
          "output_type": "stream",
          "text": [
            "/usr/local/lib/python3.10/dist-packages/statsmodels/tsa/base/tsa_model.py:473: ValueWarning: No frequency information was provided, so inferred frequency D will be used.\n",
            "  self._init_dates(dates, freq)\n",
            "/usr/local/lib/python3.10/dist-packages/statsmodels/tsa/base/tsa_model.py:473: ValueWarning: No frequency information was provided, so inferred frequency D will be used.\n",
            "  self._init_dates(dates, freq)\n",
            "/usr/local/lib/python3.10/dist-packages/statsmodels/tsa/base/tsa_model.py:473: ValueWarning: No frequency information was provided, so inferred frequency D will be used.\n",
            "  self._init_dates(dates, freq)\n"
          ]
        },
        {
          "name": "stdout",
          "output_type": "stream",
          "text": [
            "Trained ARIMA (8, 0, 1) in 80.23 seconds.\n",
            "1.1948497844504196\n"
          ]
        },
        {
          "name": "stderr",
          "output_type": "stream",
          "text": [
            "/usr/local/lib/python3.10/dist-packages/statsmodels/tsa/base/tsa_model.py:473: ValueWarning: No frequency information was provided, so inferred frequency D will be used.\n",
            "  self._init_dates(dates, freq)\n",
            "/usr/local/lib/python3.10/dist-packages/statsmodels/tsa/base/tsa_model.py:473: ValueWarning: No frequency information was provided, so inferred frequency D will be used.\n",
            "  self._init_dates(dates, freq)\n",
            "/usr/local/lib/python3.10/dist-packages/statsmodels/tsa/base/tsa_model.py:473: ValueWarning: No frequency information was provided, so inferred frequency D will be used.\n",
            "  self._init_dates(dates, freq)\n"
          ]
        },
        {
          "name": "stdout",
          "output_type": "stream",
          "text": [
            "Trained ARIMA (8, 0, 2) in 50.43 seconds.\n",
            "1.1947700053379415\n"
          ]
        },
        {
          "name": "stderr",
          "output_type": "stream",
          "text": [
            "/usr/local/lib/python3.10/dist-packages/statsmodels/tsa/base/tsa_model.py:473: ValueWarning: No frequency information was provided, so inferred frequency D will be used.\n",
            "  self._init_dates(dates, freq)\n",
            "/usr/local/lib/python3.10/dist-packages/statsmodels/tsa/base/tsa_model.py:473: ValueWarning: No frequency information was provided, so inferred frequency D will be used.\n",
            "  self._init_dates(dates, freq)\n",
            "/usr/local/lib/python3.10/dist-packages/statsmodels/tsa/base/tsa_model.py:473: ValueWarning: No frequency information was provided, so inferred frequency D will be used.\n",
            "  self._init_dates(dates, freq)\n"
          ]
        },
        {
          "name": "stdout",
          "output_type": "stream",
          "text": [
            "Trained ARIMA (16, 0, 0) in 22.42 seconds.\n",
            "1.194438783762583\n"
          ]
        },
        {
          "name": "stderr",
          "output_type": "stream",
          "text": [
            "/usr/local/lib/python3.10/dist-packages/statsmodels/tsa/base/tsa_model.py:473: ValueWarning: No frequency information was provided, so inferred frequency D will be used.\n",
            "  self._init_dates(dates, freq)\n",
            "/usr/local/lib/python3.10/dist-packages/statsmodels/tsa/base/tsa_model.py:473: ValueWarning: No frequency information was provided, so inferred frequency D will be used.\n",
            "  self._init_dates(dates, freq)\n",
            "/usr/local/lib/python3.10/dist-packages/statsmodels/tsa/base/tsa_model.py:473: ValueWarning: No frequency information was provided, so inferred frequency D will be used.\n",
            "  self._init_dates(dates, freq)\n",
            "/usr/local/lib/python3.10/dist-packages/statsmodels/base/model.py:607: ConvergenceWarning: Maximum Likelihood optimization failed to converge. Check mle_retvals\n",
            "  warnings.warn(\"Maximum Likelihood optimization failed to \"\n"
          ]
        },
        {
          "name": "stdout",
          "output_type": "stream",
          "text": [
            "Trained ARIMA (16, 0, 1) in 216.34 seconds.\n",
            "1.194264431428126\n"
          ]
        },
        {
          "name": "stderr",
          "output_type": "stream",
          "text": [
            "/usr/local/lib/python3.10/dist-packages/statsmodels/tsa/base/tsa_model.py:473: ValueWarning: No frequency information was provided, so inferred frequency D will be used.\n",
            "  self._init_dates(dates, freq)\n",
            "/usr/local/lib/python3.10/dist-packages/statsmodels/tsa/base/tsa_model.py:473: ValueWarning: No frequency information was provided, so inferred frequency D will be used.\n",
            "  self._init_dates(dates, freq)\n",
            "/usr/local/lib/python3.10/dist-packages/statsmodels/tsa/base/tsa_model.py:473: ValueWarning: No frequency information was provided, so inferred frequency D will be used.\n",
            "  self._init_dates(dates, freq)\n"
          ]
        },
        {
          "name": "stdout",
          "output_type": "stream",
          "text": [
            "Trained ARIMA (16, 0, 2) in 136.38 seconds.\n",
            "1.1945477332955323\n"
          ]
        },
        {
          "name": "stderr",
          "output_type": "stream",
          "text": [
            "/usr/local/lib/python3.10/dist-packages/statsmodels/tsa/base/tsa_model.py:473: ValueWarning: No frequency information was provided, so inferred frequency D will be used.\n",
            "  self._init_dates(dates, freq)\n",
            "/usr/local/lib/python3.10/dist-packages/statsmodels/tsa/base/tsa_model.py:473: ValueWarning: No frequency information was provided, so inferred frequency D will be used.\n",
            "  self._init_dates(dates, freq)\n",
            "/usr/local/lib/python3.10/dist-packages/statsmodels/tsa/base/tsa_model.py:473: ValueWarning: No frequency information was provided, so inferred frequency D will be used.\n",
            "  self._init_dates(dates, freq)\n"
          ]
        },
        {
          "name": "stdout",
          "output_type": "stream",
          "text": [
            "Trained ARIMA (24, 0, 0) in 52.75 seconds.\n",
            "1.193799517015791\n"
          ]
        },
        {
          "name": "stderr",
          "output_type": "stream",
          "text": [
            "/usr/local/lib/python3.10/dist-packages/statsmodels/tsa/base/tsa_model.py:473: ValueWarning: No frequency information was provided, so inferred frequency D will be used.\n",
            "  self._init_dates(dates, freq)\n",
            "/usr/local/lib/python3.10/dist-packages/statsmodels/tsa/base/tsa_model.py:473: ValueWarning: No frequency information was provided, so inferred frequency D will be used.\n",
            "  self._init_dates(dates, freq)\n",
            "/usr/local/lib/python3.10/dist-packages/statsmodels/tsa/base/tsa_model.py:473: ValueWarning: No frequency information was provided, so inferred frequency D will be used.\n",
            "  self._init_dates(dates, freq)\n",
            "/usr/local/lib/python3.10/dist-packages/statsmodels/base/model.py:607: ConvergenceWarning: Maximum Likelihood optimization failed to converge. Check mle_retvals\n",
            "  warnings.warn(\"Maximum Likelihood optimization failed to \"\n"
          ]
        },
        {
          "name": "stdout",
          "output_type": "stream",
          "text": [
            "Trained ARIMA (24, 0, 1) in 440.82 seconds.\n",
            "1.2040897958592667\n"
          ]
        },
        {
          "name": "stderr",
          "output_type": "stream",
          "text": [
            "/usr/local/lib/python3.10/dist-packages/statsmodels/tsa/base/tsa_model.py:473: ValueWarning: No frequency information was provided, so inferred frequency D will be used.\n",
            "  self._init_dates(dates, freq)\n",
            "/usr/local/lib/python3.10/dist-packages/statsmodels/tsa/base/tsa_model.py:473: ValueWarning: No frequency information was provided, so inferred frequency D will be used.\n",
            "  self._init_dates(dates, freq)\n",
            "/usr/local/lib/python3.10/dist-packages/statsmodels/tsa/base/tsa_model.py:473: ValueWarning: No frequency information was provided, so inferred frequency D will be used.\n",
            "  self._init_dates(dates, freq)\n",
            "/usr/local/lib/python3.10/dist-packages/statsmodels/base/model.py:607: ConvergenceWarning: Maximum Likelihood optimization failed to converge. Check mle_retvals\n",
            "  warnings.warn(\"Maximum Likelihood optimization failed to \"\n"
          ]
        },
        {
          "name": "stdout",
          "output_type": "stream",
          "text": [
            "Trained ARIMA (24, 0, 2) in 473.17 seconds.\n",
            "1.1912163544241963\n",
            "\n",
            "{0: [2.8857633149515265, 1.993373869825028, 1.683604772696413], 8: [1.1967356574581156, 1.1948497844504196, 1.1947700053379415], 16: [1.194438783762583, 1.194264431428126, 1.1945477332955323], 24: [1.193799517015791, 1.2040897958592667, 1.1912163544241963]}\n"
          ]
        }
      ],
      "source": [
        "# Create dictionary to store MAEs\n",
        "mae_grid = {}\n",
        "# Outer loop: Iterate through possible values for `p`\n",
        "for p in p_params:\n",
        "    # Create key-value pair in dict. Key is `p`, value is empty list.\n",
        "    mae_grid[p] = []\n",
        "    # Inner loop: Iterate through possible values for `q`\n",
        "    for q in q_params:\n",
        "        # Combination of hyperparameters for model\n",
        "        order = (p, 0, q)\n",
        "        # Note start time\n",
        "        start_time = time.time()\n",
        "        # Train model\n",
        "        model = ARIMA(y_train, order=order).fit()\n",
        "        # Calculate model training time\n",
        "        elapsed_time = round(time.time() - start_time, 2)\n",
        "        print(f\"Trained ARIMA {order} in {elapsed_time} seconds.\")\n",
        "        # Generate in-sample (training) predictions\n",
        "        y_pred = model.predict()\n",
        "        # Calculate training MAE\n",
        "        mae = mean_absolute_error(y_train, y_pred)\n",
        "        print(mae)\n",
        "        # Append MAE to list in dictionary\n",
        "        mae_grid[p].append(mae)\n",
        "\n",
        "print()\n",
        "print(mae_grid)"
      ]
    },
    {
      "cell_type": "code",
      "execution_count": null,
      "metadata": {
        "colab": {
          "base_uri": "https://localhost:8080/",
          "height": 143
        },
        "id": "pZPkMR4eUzME",
        "outputId": "87f7ebbb-287b-4382-d9f0-a63dcddc313c"
      },
      "outputs": [
        {
          "data": {
            "text/html": [
              "\n",
              "  <div id=\"df-87a139f4-fde3-4a4c-bfbe-bc633f18c315\" class=\"colab-df-container\">\n",
              "    <div>\n",
              "<style scoped>\n",
              "    .dataframe tbody tr th:only-of-type {\n",
              "        vertical-align: middle;\n",
              "    }\n",
              "\n",
              "    .dataframe tbody tr th {\n",
              "        vertical-align: top;\n",
              "    }\n",
              "\n",
              "    .dataframe thead th {\n",
              "        text-align: right;\n",
              "    }\n",
              "</style>\n",
              "<table border=\"1\" class=\"dataframe\">\n",
              "  <thead>\n",
              "    <tr style=\"text-align: right;\">\n",
              "      <th></th>\n",
              "      <th>0</th>\n",
              "      <th>8</th>\n",
              "      <th>16</th>\n",
              "      <th>24</th>\n",
              "    </tr>\n",
              "  </thead>\n",
              "  <tbody>\n",
              "    <tr>\n",
              "      <th>0</th>\n",
              "      <td>2.8858</td>\n",
              "      <td>1.1967</td>\n",
              "      <td>1.1944</td>\n",
              "      <td>1.1938</td>\n",
              "    </tr>\n",
              "    <tr>\n",
              "      <th>1</th>\n",
              "      <td>1.9934</td>\n",
              "      <td>1.1948</td>\n",
              "      <td>1.1943</td>\n",
              "      <td>1.2041</td>\n",
              "    </tr>\n",
              "    <tr>\n",
              "      <th>2</th>\n",
              "      <td>1.6836</td>\n",
              "      <td>1.1948</td>\n",
              "      <td>1.1945</td>\n",
              "      <td>1.1912</td>\n",
              "    </tr>\n",
              "  </tbody>\n",
              "</table>\n",
              "</div>\n",
              "    <div class=\"colab-df-buttons\">\n",
              "\n",
              "  <div class=\"colab-df-container\">\n",
              "    <button class=\"colab-df-convert\" onclick=\"convertToInteractive('df-87a139f4-fde3-4a4c-bfbe-bc633f18c315')\"\n",
              "            title=\"Convert this dataframe to an interactive table.\"\n",
              "            style=\"display:none;\">\n",
              "\n",
              "  <svg xmlns=\"http://www.w3.org/2000/svg\" height=\"24px\" viewBox=\"0 -960 960 960\">\n",
              "    <path d=\"M120-120v-720h720v720H120Zm60-500h600v-160H180v160Zm220 220h160v-160H400v160Zm0 220h160v-160H400v160ZM180-400h160v-160H180v160Zm440 0h160v-160H620v160ZM180-180h160v-160H180v160Zm440 0h160v-160H620v160Z\"/>\n",
              "  </svg>\n",
              "    </button>\n",
              "\n",
              "  <style>\n",
              "    .colab-df-container {\n",
              "      display:flex;\n",
              "      gap: 12px;\n",
              "    }\n",
              "\n",
              "    .colab-df-convert {\n",
              "      background-color: #E8F0FE;\n",
              "      border: none;\n",
              "      border-radius: 50%;\n",
              "      cursor: pointer;\n",
              "      display: none;\n",
              "      fill: #1967D2;\n",
              "      height: 32px;\n",
              "      padding: 0 0 0 0;\n",
              "      width: 32px;\n",
              "    }\n",
              "\n",
              "    .colab-df-convert:hover {\n",
              "      background-color: #E2EBFA;\n",
              "      box-shadow: 0px 1px 2px rgba(60, 64, 67, 0.3), 0px 1px 3px 1px rgba(60, 64, 67, 0.15);\n",
              "      fill: #174EA6;\n",
              "    }\n",
              "\n",
              "    .colab-df-buttons div {\n",
              "      margin-bottom: 4px;\n",
              "    }\n",
              "\n",
              "    [theme=dark] .colab-df-convert {\n",
              "      background-color: #3B4455;\n",
              "      fill: #D2E3FC;\n",
              "    }\n",
              "\n",
              "    [theme=dark] .colab-df-convert:hover {\n",
              "      background-color: #434B5C;\n",
              "      box-shadow: 0px 1px 3px 1px rgba(0, 0, 0, 0.15);\n",
              "      filter: drop-shadow(0px 1px 2px rgba(0, 0, 0, 0.3));\n",
              "      fill: #FFFFFF;\n",
              "    }\n",
              "  </style>\n",
              "\n",
              "    <script>\n",
              "      const buttonEl =\n",
              "        document.querySelector('#df-87a139f4-fde3-4a4c-bfbe-bc633f18c315 button.colab-df-convert');\n",
              "      buttonEl.style.display =\n",
              "        google.colab.kernel.accessAllowed ? 'block' : 'none';\n",
              "\n",
              "      async function convertToInteractive(key) {\n",
              "        const element = document.querySelector('#df-87a139f4-fde3-4a4c-bfbe-bc633f18c315');\n",
              "        const dataTable =\n",
              "          await google.colab.kernel.invokeFunction('convertToInteractive',\n",
              "                                                    [key], {});\n",
              "        if (!dataTable) return;\n",
              "\n",
              "        const docLinkHtml = 'Like what you see? Visit the ' +\n",
              "          '<a target=\"_blank\" href=https://colab.research.google.com/notebooks/data_table.ipynb>data table notebook</a>'\n",
              "          + ' to learn more about interactive tables.';\n",
              "        element.innerHTML = '';\n",
              "        dataTable['output_type'] = 'display_data';\n",
              "        await google.colab.output.renderOutput(dataTable, element);\n",
              "        const docLink = document.createElement('div');\n",
              "        docLink.innerHTML = docLinkHtml;\n",
              "        element.appendChild(docLink);\n",
              "      }\n",
              "    </script>\n",
              "  </div>\n",
              "\n",
              "\n",
              "<div id=\"df-4fcce603-d6ae-413b-be86-a321c85ffff1\">\n",
              "  <button class=\"colab-df-quickchart\" onclick=\"quickchart('df-4fcce603-d6ae-413b-be86-a321c85ffff1')\"\n",
              "            title=\"Suggest charts\"\n",
              "            style=\"display:none;\">\n",
              "\n",
              "<svg xmlns=\"http://www.w3.org/2000/svg\" height=\"24px\"viewBox=\"0 0 24 24\"\n",
              "     width=\"24px\">\n",
              "    <g>\n",
              "        <path d=\"M19 3H5c-1.1 0-2 .9-2 2v14c0 1.1.9 2 2 2h14c1.1 0 2-.9 2-2V5c0-1.1-.9-2-2-2zM9 17H7v-7h2v7zm4 0h-2V7h2v10zm4 0h-2v-4h2v4z\"/>\n",
              "    </g>\n",
              "</svg>\n",
              "  </button>\n",
              "\n",
              "<style>\n",
              "  .colab-df-quickchart {\n",
              "      --bg-color: #E8F0FE;\n",
              "      --fill-color: #1967D2;\n",
              "      --hover-bg-color: #E2EBFA;\n",
              "      --hover-fill-color: #174EA6;\n",
              "      --disabled-fill-color: #AAA;\n",
              "      --disabled-bg-color: #DDD;\n",
              "  }\n",
              "\n",
              "  [theme=dark] .colab-df-quickchart {\n",
              "      --bg-color: #3B4455;\n",
              "      --fill-color: #D2E3FC;\n",
              "      --hover-bg-color: #434B5C;\n",
              "      --hover-fill-color: #FFFFFF;\n",
              "      --disabled-bg-color: #3B4455;\n",
              "      --disabled-fill-color: #666;\n",
              "  }\n",
              "\n",
              "  .colab-df-quickchart {\n",
              "    background-color: var(--bg-color);\n",
              "    border: none;\n",
              "    border-radius: 50%;\n",
              "    cursor: pointer;\n",
              "    display: none;\n",
              "    fill: var(--fill-color);\n",
              "    height: 32px;\n",
              "    padding: 0;\n",
              "    width: 32px;\n",
              "  }\n",
              "\n",
              "  .colab-df-quickchart:hover {\n",
              "    background-color: var(--hover-bg-color);\n",
              "    box-shadow: 0 1px 2px rgba(60, 64, 67, 0.3), 0 1px 3px 1px rgba(60, 64, 67, 0.15);\n",
              "    fill: var(--button-hover-fill-color);\n",
              "  }\n",
              "\n",
              "  .colab-df-quickchart-complete:disabled,\n",
              "  .colab-df-quickchart-complete:disabled:hover {\n",
              "    background-color: var(--disabled-bg-color);\n",
              "    fill: var(--disabled-fill-color);\n",
              "    box-shadow: none;\n",
              "  }\n",
              "\n",
              "  .colab-df-spinner {\n",
              "    border: 2px solid var(--fill-color);\n",
              "    border-color: transparent;\n",
              "    border-bottom-color: var(--fill-color);\n",
              "    animation:\n",
              "      spin 1s steps(1) infinite;\n",
              "  }\n",
              "\n",
              "  @keyframes spin {\n",
              "    0% {\n",
              "      border-color: transparent;\n",
              "      border-bottom-color: var(--fill-color);\n",
              "      border-left-color: var(--fill-color);\n",
              "    }\n",
              "    20% {\n",
              "      border-color: transparent;\n",
              "      border-left-color: var(--fill-color);\n",
              "      border-top-color: var(--fill-color);\n",
              "    }\n",
              "    30% {\n",
              "      border-color: transparent;\n",
              "      border-left-color: var(--fill-color);\n",
              "      border-top-color: var(--fill-color);\n",
              "      border-right-color: var(--fill-color);\n",
              "    }\n",
              "    40% {\n",
              "      border-color: transparent;\n",
              "      border-right-color: var(--fill-color);\n",
              "      border-top-color: var(--fill-color);\n",
              "    }\n",
              "    60% {\n",
              "      border-color: transparent;\n",
              "      border-right-color: var(--fill-color);\n",
              "    }\n",
              "    80% {\n",
              "      border-color: transparent;\n",
              "      border-right-color: var(--fill-color);\n",
              "      border-bottom-color: var(--fill-color);\n",
              "    }\n",
              "    90% {\n",
              "      border-color: transparent;\n",
              "      border-bottom-color: var(--fill-color);\n",
              "    }\n",
              "  }\n",
              "</style>\n",
              "\n",
              "  <script>\n",
              "    async function quickchart(key) {\n",
              "      const quickchartButtonEl =\n",
              "        document.querySelector('#' + key + ' button');\n",
              "      quickchartButtonEl.disabled = true;  // To prevent multiple clicks.\n",
              "      quickchartButtonEl.classList.add('colab-df-spinner');\n",
              "      try {\n",
              "        const charts = await google.colab.kernel.invokeFunction(\n",
              "            'suggestCharts', [key], {});\n",
              "      } catch (error) {\n",
              "        console.error('Error during call to suggestCharts:', error);\n",
              "      }\n",
              "      quickchartButtonEl.classList.remove('colab-df-spinner');\n",
              "      quickchartButtonEl.classList.add('colab-df-quickchart-complete');\n",
              "    }\n",
              "    (() => {\n",
              "      let quickchartButtonEl =\n",
              "        document.querySelector('#df-4fcce603-d6ae-413b-be86-a321c85ffff1 button');\n",
              "      quickchartButtonEl.style.display =\n",
              "        google.colab.kernel.accessAllowed ? 'block' : 'none';\n",
              "    })();\n",
              "  </script>\n",
              "</div>\n",
              "    </div>\n",
              "  </div>\n"
            ],
            "text/plain": [
              "       0       8       16      24\n",
              "0  2.8858  1.1967  1.1944  1.1938\n",
              "1  1.9934  1.1948  1.1943  1.2041\n",
              "2  1.6836  1.1948  1.1945  1.1912"
            ]
          },
          "execution_count": 104,
          "metadata": {},
          "output_type": "execute_result"
        }
      ],
      "source": [
        "mae_df = pd.DataFrame(mae_grid)\n",
        "mae_df.round(4)"
      ]
    },
    {
      "cell_type": "code",
      "execution_count": null,
      "metadata": {
        "colab": {
          "base_uri": "https://localhost:8080/",
          "height": 489
        },
        "id": "HWRR8pB5cyrA",
        "outputId": "010801f0-00d1-4aa7-91f2-645b37e6b82e"
      },
      "outputs": [
        {
          "data": {
            "text/plain": [
              "Text(0.5, 1.0, 'ARMA Grid Search (Criterion: MAE)')"
            ]
          },
          "execution_count": 105,
          "metadata": {},
          "output_type": "execute_result"
        },
        {
          "data": {
            "image/png": "[encoded data removed]",
            "text/plain": [
              "<Figure size 640x480 with 2 Axes>"
            ]
          },
          "metadata": {},
          "output_type": "display_data"
        }
      ],
      "source": [
        "sns.heatmap(mae_df, cmap = \"Blues\")\n",
        "plt.xlabel(\"p values\")\n",
        "plt.ylabel(\"q values\")\n",
        "plt.title(\"ARMA Grid Search (Criterion: MAE)\")"
      ]
    },
    {
      "cell_type": "code",
      "execution_count": null,
      "metadata": {
        "id": "SsD0JfkOdBmc"
      },
      "outputs": [],
      "source": [
        "fig, ax = plt.subplots(figsize=(20, 12))\n",
        "model.plot_diagnostics(fig=fig);"
      ]
    },
    {
      "cell_type": "code",
      "execution_count": 19,
      "metadata": {
        "colab": {
          "base_uri": "https://localhost:8080/"
        },
        "id": "pjNUeClu-8Sg",
        "outputId": "29a1ba63-5909-4b5b-ba35-bac9b5d89eab"
      },
      "outputs": [
        {
          "output_type": "stream",
          "name": "stderr",
          "text": [
            "/usr/local/lib/python3.10/dist-packages/statsmodels/tsa/base/tsa_model.py:473: ValueWarning: No frequency information was provided, so inferred frequency D will be used.\n",
            "  self._init_dates(dates, freq)\n",
            "/usr/local/lib/python3.10/dist-packages/statsmodels/tsa/base/tsa_model.py:473: ValueWarning: No frequency information was provided, so inferred frequency D will be used.\n",
            "  self._init_dates(dates, freq)\n",
            "/usr/local/lib/python3.10/dist-packages/statsmodels/tsa/base/tsa_model.py:473: ValueWarning: No frequency information was provided, so inferred frequency D will be used.\n",
            "  self._init_dates(dates, freq)\n",
            "/usr/local/lib/python3.10/dist-packages/statsmodels/base/model.py:607: ConvergenceWarning: Maximum Likelihood optimization failed to converge. Check mle_retvals\n",
            "  warnings.warn(\"Maximum Likelihood optimization failed to \"\n"
          ]
        },
        {
          "output_type": "stream",
          "name": "stdout",
          "text": [
            "1.18\n"
          ]
        }
      ],
      "source": [
        "model = ARIMA(y_train, order= (24,0,2)).fit()\n",
        "\n",
        "y_pred = model.predict()\n",
        "\n",
        "# Calculate training MAE\n",
        "mae = mean_absolute_error(y_train, y_pred)\n",
        "print(round(mae, 2))"
      ]
    },
    {
      "cell_type": "code",
      "source": [
        "model.forecast(2022-12-31)"
      ],
      "metadata": {
        "colab": {
          "base_uri": "https://localhost:8080/"
        },
        "id": "iAVZ1rznSAJB",
        "outputId": "f130f326-2d49-43f8-9c62-934750c5412b"
      },
      "execution_count": 20,
      "outputs": [
        {
          "output_type": "execute_result",
          "data": {
            "text/plain": [
              "2020-11-06 01:00:00+01:00    29.823922\n",
              "2020-11-07 01:00:00+01:00    29.723045\n",
              "2020-11-08 01:00:00+01:00    29.685065\n",
              "2020-11-09 01:00:00+01:00    29.658734\n",
              "2020-11-10 01:00:00+01:00    29.682991\n",
              "                               ...    \n",
              "2026-04-03 01:00:00+01:00    29.174513\n",
              "2026-04-04 01:00:00+01:00    29.174513\n",
              "2026-04-05 01:00:00+01:00    29.174513\n",
              "2026-04-06 01:00:00+01:00    29.174514\n",
              "2026-04-07 01:00:00+01:00    29.174514\n",
              "Freq: D, Name: predicted_mean, Length: 1979, dtype: float64"
            ]
          },
          "metadata": {},
          "execution_count": 20
        }
      ]
    },
    {
      "cell_type": "code",
      "source": [
        "print(model.summary())"
      ],
      "metadata": {
        "colab": {
          "base_uri": "https://localhost:8080/"
        },
        "id": "_Er-g3V0cAZD",
        "outputId": "35dd15b9-fb5b-450f-ee01-7013fa2f6de8"
      },
      "execution_count": 21,
      "outputs": [
        {
          "output_type": "stream",
          "name": "stdout",
          "text": [
            "                               SARIMAX Results                                \n",
            "==============================================================================\n",
            "Dep. Variable:            UV000005502   No. Observations:                14920\n",
            "Model:                ARIMA(24, 0, 2)   Log Likelihood              -27998.230\n",
            "Date:                Tue, 12 Dec 2023   AIC                          56052.461\n",
            "Time:                        18:07:51   BIC                          56265.554\n",
            "Sample:                    01-01-1980   HQIC                         56123.180\n",
            "                         - 11-05-2020                                         \n",
            "Covariance Type:                  opg                                         \n",
            "==============================================================================\n",
            "                 coef    std err          z      P>|z|      [0.025      0.975]\n",
            "------------------------------------------------------------------------------\n",
            "const         29.1745      0.062    467.245      0.000      29.052      29.297\n",
            "ar.L1          0.6184      0.022     28.514      0.000       0.576       0.661\n",
            "ar.L2          1.0004      0.034     29.730      0.000       0.934       1.066\n",
            "ar.L3         -0.5530      0.016    -33.599      0.000      -0.585      -0.521\n",
            "ar.L4          0.0371      0.012      3.079      0.002       0.013       0.061\n",
            "ar.L5         -0.0080      0.012     -0.641      0.521      -0.032       0.016\n",
            "ar.L6         -0.0338      0.012     -2.810      0.005      -0.057      -0.010\n",
            "ar.L7         -0.0329      0.012     -2.697      0.007      -0.057      -0.009\n",
            "ar.L8         -0.0022      0.012     -0.180      0.857      -0.026       0.022\n",
            "ar.L9          0.0003      0.012      0.026      0.979      -0.024       0.024\n",
            "ar.L10         0.0105      0.012      0.851      0.395      -0.014       0.035\n",
            "ar.L11        -0.0015      0.012     -0.126      0.899      -0.025       0.022\n",
            "ar.L12        -0.0220      0.012     -1.765      0.078      -0.046       0.002\n",
            "ar.L13         0.0100      0.012      0.815      0.415      -0.014       0.034\n",
            "ar.L14        -0.0084      0.012     -0.685      0.493      -0.032       0.016\n",
            "ar.L15         0.0068      0.012      0.551      0.581      -0.017       0.031\n",
            "ar.L16         0.0171      0.012      1.377      0.168      -0.007       0.041\n",
            "ar.L17        -0.0374      0.013     -2.886      0.004      -0.063      -0.012\n",
            "ar.L18        -0.0039      0.013     -0.308      0.758      -0.028       0.021\n",
            "ar.L19         0.0065      0.013      0.508      0.612      -0.019       0.031\n",
            "ar.L20        -0.0061      0.012     -0.501      0.616      -0.030       0.018\n",
            "ar.L21         0.0124      0.012      1.001      0.317      -0.012       0.037\n",
            "ar.L22         0.0066      0.012      0.565      0.572      -0.016       0.029\n",
            "ar.L23        -0.0093      0.009     -1.029      0.304      -0.027       0.008\n",
            "ar.L24        -0.0115      0.008     -1.455      0.146      -0.027       0.004\n",
            "ma.L1         -0.0014      0.020     -0.072      0.943      -0.041       0.038\n",
            "ma.L2         -0.9812      0.020    -49.091      0.000      -1.020      -0.942\n",
            "sigma2         2.4959      0.023    110.003      0.000       2.451       2.540\n",
            "===================================================================================\n",
            "Ljung-Box (L1) (Q):                   0.09   Jarque-Bera (JB):              2549.86\n",
            "Prob(Q):                              0.76   Prob(JB):                         0.00\n",
            "Heteroskedasticity (H):               0.82   Skew:                            -0.44\n",
            "Prob(H) (two-sided):                  0.00   Kurtosis:                         4.82\n",
            "===================================================================================\n",
            "\n",
            "Warnings:\n",
            "[1] Covariance matrix calculated using the outer product of gradients (complex-step).\n"
          ]
        }
      ]
    },
    {
      "cell_type": "code",
      "execution_count": 22,
      "metadata": {
        "colab": {
          "base_uri": "https://localhost:8080/"
        },
        "id": "mMOhWfDmCbzJ",
        "outputId": "d2c6e179-3c73-4807-a95f-1ab83461298d"
      },
      "outputs": [
        {
          "output_type": "stream",
          "name": "stderr",
          "text": [
            "/usr/local/lib/python3.10/dist-packages/statsmodels/tsa/base/tsa_model.py:473: ValueWarning: No frequency information was provided, so inferred frequency D will be used.\n",
            "  self._init_dates(dates, freq)\n",
            "/usr/local/lib/python3.10/dist-packages/statsmodels/tsa/base/tsa_model.py:473: ValueWarning: No frequency information was provided, so inferred frequency D will be used.\n",
            "  self._init_dates(dates, freq)\n",
            "/usr/local/lib/python3.10/dist-packages/statsmodels/tsa/base/tsa_model.py:473: ValueWarning: No frequency information was provided, so inferred frequency D will be used.\n",
            "  self._init_dates(dates, freq)\n",
            "/usr/local/lib/python3.10/dist-packages/statsmodels/base/model.py:607: ConvergenceWarning: Maximum Likelihood optimization failed to converge. Check mle_retvals\n",
            "  warnings.warn(\"Maximum Likelihood optimization failed to \"\n"
          ]
        },
        {
          "output_type": "stream",
          "name": "stdout",
          "text": [
            "1.04\n",
            "1.41\n"
          ]
        }
      ],
      "source": [
        "model_test = ARIMA(y_test, order= (24,0,2)).fit()\n",
        "\n",
        "y_pred_test = model_test.predict()\n",
        "\n",
        "# Calculate training MAE\n",
        "mae_test = mean_absolute_error(y_test, y_pred_test)\n",
        "rmse_test = np.sqrt(mean_squared_error(y_test, y_pred_test))\n",
        "print(round(mae_test, 2))\n",
        "print(round(rmse_test, 2))"
      ]
    },
    {
      "cell_type": "code",
      "execution_count": 23,
      "metadata": {
        "colab": {
          "base_uri": "https://localhost:8080/",
          "height": 1000
        },
        "id": "pkjgj3g5Ds44",
        "outputId": "3a3b189d-3cf0-4b80-e1e6-5f93e0b20055"
      },
      "outputs": [
        {
          "output_type": "stream",
          "name": "stdout",
          "text": [
            "                               SARIMAX Results                                \n",
            "==============================================================================\n",
            "Dep. Variable:            UV000005502   No. Observations:                  786\n",
            "Model:                ARIMA(24, 0, 2)   Log Likelihood               -1383.258\n",
            "Date:                Tue, 12 Dec 2023   AIC                           2822.517\n",
            "Time:                        18:08:18   BIC                           2953.191\n",
            "Sample:                    11-06-2020   HQIC                          2872.758\n",
            "                         - 12-31-2022                                         \n",
            "Covariance Type:                  opg                                         \n",
            "==============================================================================\n",
            "                 coef    std err          z      P>|z|      [0.025      0.975]\n",
            "------------------------------------------------------------------------------\n",
            "const         28.4471      1.003     28.358      0.000      26.481      30.413\n",
            "ar.L1          0.8506      0.342      2.486      0.013       0.180       1.521\n",
            "ar.L2          0.3916      0.361      1.084      0.278      -0.317       1.100\n",
            "ar.L3         -0.2487      0.113     -2.196      0.028      -0.471      -0.027\n",
            "ar.L4          0.0811      0.046      1.750      0.080      -0.010       0.172\n",
            "ar.L5         -0.1233      0.062     -2.003      0.045      -0.244      -0.003\n",
            "ar.L6         -0.0502      0.058     -0.867      0.386      -0.164       0.063\n",
            "ar.L7          0.0625      0.045      1.397      0.162      -0.025       0.150\n",
            "ar.L8          0.0411      0.049      0.841      0.400      -0.055       0.137\n",
            "ar.L9          0.0204      0.048      0.424      0.672      -0.074       0.115\n",
            "ar.L10         0.0053      0.051      0.103      0.918      -0.095       0.106\n",
            "ar.L11        -0.0591      0.050     -1.172      0.241      -0.158       0.040\n",
            "ar.L12        -0.0852      0.055     -1.554      0.120      -0.193       0.022\n",
            "ar.L13         0.0888      0.050      1.766      0.077      -0.010       0.187\n",
            "ar.L14         0.0652      0.057      1.152      0.249      -0.046       0.176\n",
            "ar.L15        -0.0369      0.051     -0.729      0.466      -0.136       0.062\n",
            "ar.L16         0.0179      0.048      0.374      0.709      -0.076       0.112\n",
            "ar.L17         0.0451      0.049      0.929      0.353      -0.050       0.140\n",
            "ar.L18        -0.0348      0.050     -0.697      0.486      -0.133       0.063\n",
            "ar.L19         0.0090      0.047      0.193      0.847      -0.083       0.101\n",
            "ar.L20        -0.0740      0.044     -1.664      0.096      -0.161       0.013\n",
            "ar.L21        -0.0141      0.052     -0.274      0.784      -0.115       0.087\n",
            "ar.L22         0.1695      0.047      3.606      0.000       0.077       0.262\n",
            "ar.L23        -0.1564      0.072     -2.171      0.030      -0.298      -0.015\n",
            "ar.L24         0.0191      0.069      0.279      0.780      -0.115       0.154\n",
            "ma.L1         -0.2497      0.347     -0.719      0.472      -0.930       0.431\n",
            "ma.L2         -0.4981      0.198     -2.514      0.012      -0.886      -0.110\n",
            "sigma2         1.9734      0.076     25.852      0.000       1.824       2.123\n",
            "===================================================================================\n",
            "Ljung-Box (L1) (Q):                   0.09   Jarque-Bera (JB):               880.63\n",
            "Prob(Q):                              0.76   Prob(JB):                         0.00\n",
            "Heteroskedasticity (H):               1.03   Skew:                            -0.19\n",
            "Prob(H) (two-sided):                  0.83   Kurtosis:                         8.17\n",
            "===================================================================================\n",
            "\n",
            "Warnings:\n",
            "[1] Covariance matrix calculated using the outer product of gradients (complex-step).\n",
            "                0\n",
            "count  786.000000\n",
            "mean     0.041268\n",
            "std      1.405322\n",
            "min     -6.808649\n",
            "25%     -0.691099\n",
            "50%      0.145251\n",
            "75%      0.906102\n",
            "max     10.318286\n"
          ]
        },
        {
          "output_type": "display_data",
          "data": {
            "text/plain": [
              "<Figure size 640x480 with 1 Axes>"
            ],
            "image/png": "[encoded data removed]"
          },
          "metadata": {}
        },
        {
          "output_type": "display_data",
          "data": {
            "text/plain": [
              "<Figure size 640x480 with 1 Axes>"
            ],
            "image/png": "[encoded data removed]"
          },
          "metadata": {}
        }
      ],
      "source": [
        "print(model_test.summary())\n",
        "# line plot of residuals\n",
        "residuals = pd.DataFrame(model_test.resid)\n",
        "residuals.plot()\n",
        "\n",
        "# density plot of residuals\n",
        "residuals.plot(kind='kde')\n",
        "\n",
        "# summary stats of residuals\n",
        "print(residuals.describe())"
      ]
    },
    {
      "cell_type": "code",
      "execution_count": 24,
      "metadata": {
        "id": "W1a6vFDhhBPt"
      },
      "outputs": [],
      "source": [
        "df_pred_test = pd.DataFrame(\n",
        "    {\"y_test\": y_test, \"y_pred\": y_pred_test}, index=y_test.index\n",
        ")\n"
      ]
    },
    {
      "cell_type": "code",
      "execution_count": 25,
      "metadata": {
        "colab": {
          "base_uri": "https://localhost:8080/",
          "height": 542
        },
        "id": "fJlK12-FhNCk",
        "outputId": "93f79280-c4c6-4d3e-ab25-7d89fce95cd2"
      },
      "outputs": [
        {
          "output_type": "display_data",
          "data": {
            "text/html": [
              "<html>\n",
              "<head><meta charset=\"utf-8\" /></head>\n",
              "<body>\n",
              "    <div>            <script src=\"https://cdnjs.cloudflare.com/ajax/libs/mathjax/2.7.5/MathJax.js?config=TeX-AMS-MML_SVG\"></script><script type=\"text/javascript\">if (window.MathJax && window.MathJax.Hub && window.MathJax.Hub.Config) {window.MathJax.Hub.Config({SVG: {font: \"STIX-Web\"}});}</script>                <script type=\"text/javascript\">window.PlotlyConfig = {MathJaxConfig: 'local'};</script>\n",
              "        <script charset=\"utf-8\" src=\"https://cdn.plot.ly/plotly-2.24.1.min.js\"></script>                <div id=\"1be9a382-5169-48e5-a991-3f3d1573a070\" class=\"plotly-graph-div\" style=\"height:525px; width:100%;\"></div>            <script type=\"text/javascript\">                                    window.PLOTLYENV=window.PLOTLYENV || {};                                    if (document.getElementById(\"1be9a382-5169-48e5-a991-3f3d1573a070\")) {                    Plotly.newPlot(                        \"1be9a382-5169-48e5-a991-3f3d1573a070\",                        [{\"hovertemplate\":\"variable=y_test\\u003cbr\\u003edate=%{x}\\u003cbr\\u003eAir Temp.=%{y}\\u003cextra\\u003e\\u003c\\u002fextra\\u003e\",\"legendgroup\":\"y_test\",\"line\":{\"color\":\"#636efa\",\"dash\":\"solid\"},\"marker\":{\"symbol\":\"circle\"},\"mode\":\"lines\",\"name\":\"y_test\",\"showlegend\":true,\"x\":[\"2020-11-06T01:00:00+01:00\",\"2020-11-07T01:00:00+01:00\",\"2020-11-08T01:00:00+01:00\",\"2020-11-09T01:00:00+01:00\",\"2020-11-10T01:00:00+01:00\",\"2020-11-11T01:00:00+01:00\",\"2020-11-12T01:00:00+01:00\",\"2020-11-13T01:00:00+01:00\",\"2020-11-14T01:00:00+01:00\",\"2020-11-15T01:00:00+01:00\",\"2020-11-16T01:00:00+01:00\",\"2020-11-17T01:00:00+01:00\",\"2020-11-18T01:00:00+01:00\",\"2020-11-19T01:00:00+01:00\",\"2020-11-20T01:00:00+01:00\",\"2020-11-21T01:00:00+01:00\",\"2020-11-22T01:00:00+01:00\",\"2020-11-23T01:00:00+01:00\",\"2020-11-24T01:00:00+01:00\",\"2020-11-25T01:00:00+01:00\",\"2020-11-26T01:00:00+01:00\",\"2020-11-27T01:00:00+01:00\",\"2020-11-28T01:00:00+01:00\",\"2020-11-29T01:00:00+01:00\",\"2020-11-30T01:00:00+01:00\",\"2020-12-01T01:00:00+01:00\",\"2020-12-02T01:00:00+01:00\",\"2020-12-03T01:00:00+01:00\",\"2020-12-04T01:00:00+01:00\",\"2020-12-05T01:00:00+01:00\",\"2020-12-06T01:00:00+01:00\",\"2020-12-07T01:00:00+01:00\",\"2020-12-08T01:00:00+01:00\",\"2020-12-09T01:00:00+01:00\",\"2020-12-10T01:00:00+01:00\",\"2020-12-11T01:00:00+01:00\",\"2020-12-12T01:00:00+01:00\",\"2020-12-13T01:00:00+01:00\",\"2020-12-14T01:00:00+01:00\",\"2020-12-15T01:00:00+01:00\",\"2020-12-16T01:00:00+01:00\",\"2020-12-17T01:00:00+01:00\",\"2020-12-18T01:00:00+01:00\",\"2020-12-19T01:00:00+01:00\",\"2020-12-20T01:00:00+01:00\",\"2020-12-21T01:00:00+01:00\",\"2020-12-22T01:00:00+01:00\",\"2020-12-23T01:00:00+01:00\",\"2020-12-24T01:00:00+01:00\",\"2020-12-25T01:00:00+01:00\",\"2020-12-26T01:00:00+01:00\",\"2020-12-27T01:00:00+01:00\",\"2020-12-28T01:00:00+01:00\",\"2020-12-29T01:00:00+01:00\",\"2020-12-30T01:00:00+01:00\",\"2020-12-31T01:00:00+01:00\",\"2021-01-01T01:00:00+01:00\",\"2021-01-02T01:00:00+01:00\",\"2021-01-03T01:00:00+01:00\",\"2021-01-04T01:00:00+01:00\",\"2021-01-05T01:00:00+01:00\",\"2021-01-06T01:00:00+01:00\",\"2021-01-07T01:00:00+01:00\",\"2021-01-08T01:00:00+01:00\",\"2021-01-09T01:00:00+01:00\",\"2021-01-10T01:00:00+01:00\",\"2021-01-11T01:00:00+01:00\",\"2021-01-12T01:00:00+01:00\",\"2021-01-13T01:00:00+01:00\",\"2021-01-14T01:00:00+01:00\",\"2021-01-15T01:00:00+01:00\",\"2021-01-16T01:00:00+01:00\",\"2021-01-17T01:00:00+01:00\",\"2021-01-18T01:00:00+01:00\",\"2021-01-19T01:00:00+01:00\",\"2021-01-20T01:00:00+01:00\",\"2021-01-21T01:00:00+01:00\",\"2021-01-22T01:00:00+01:00\",\"2021-01-23T01:00:00+01:00\",\"2021-01-24T01:00:00+01:00\",\"2021-01-25T01:00:00+01:00\",\"2021-01-26T01:00:00+01:00\",\"2021-01-27T01:00:00+01:00\",\"2021-01-28T01:00:00+01:00\",\"2021-01-29T01:00:00+01:00\",\"2021-01-30T01:00:00+01:00\",\"2021-01-31T01:00:00+01:00\",\"2021-02-01T01:00:00+01:00\",\"2021-02-02T01:00:00+01:00\",\"2021-02-03T01:00:00+01:00\",\"2021-02-04T01:00:00+01:00\",\"2021-02-05T01:00:00+01:00\",\"2021-02-06T01:00:00+01:00\",\"2021-02-07T01:00:00+01:00\",\"2021-02-08T01:00:00+01:00\",\"2021-02-09T01:00:00+01:00\",\"2021-02-10T01:00:00+01:00\",\"2021-02-11T01:00:00+01:00\",\"2021-02-12T01:00:00+01:00\",\"2021-02-13T01:00:00+01:00\",\"2021-02-14T01:00:00+01:00\",\"2021-02-15T01:00:00+01:00\",\"2021-02-16T01:00:00+01:00\",\"2021-02-17T01:00:00+01:00\",\"2021-02-18T01:00:00+01:00\",\"2021-02-19T01:00:00+01:00\",\"2021-02-20T01:00:00+01:00\",\"2021-02-21T01:00:00+01:00\",\"2021-02-22T01:00:00+01:00\",\"2021-02-23T01:00:00+01:00\",\"2021-02-24T01:00:00+01:00\",\"2021-02-25T01:00:00+01:00\",\"2021-02-26T01:00:00+01:00\",\"2021-02-27T01:00:00+01:00\",\"2021-02-28T01:00:00+01:00\",\"2021-03-01T01:00:00+01:00\",\"2021-03-02T01:00:00+01:00\",\"2021-03-03T01:00:00+01:00\",\"2021-03-04T01:00:00+01:00\",\"2021-03-05T01:00:00+01:00\",\"2021-03-06T01:00:00+01:00\",\"2021-03-07T01:00:00+01:00\",\"2021-03-08T01:00:00+01:00\",\"2021-03-09T01:00:00+01:00\",\"2021-03-10T01:00:00+01:00\",\"2021-03-11T01:00:00+01:00\",\"2021-03-12T01:00:00+01:00\",\"2021-03-13T01:00:00+01:00\",\"2021-03-14T01:00:00+01:00\",\"2021-03-15T01:00:00+01:00\",\"2021-03-16T01:00:00+01:00\",\"2021-03-17T01:00:00+01:00\",\"2021-03-18T01:00:00+01:00\",\"2021-03-19T01:00:00+01:00\",\"2021-03-20T01:00:00+01:00\",\"2021-03-21T01:00:00+01:00\",\"2021-03-22T01:00:00+01:00\",\"2021-03-23T01:00:00+01:00\",\"2021-03-24T01:00:00+01:00\",\"2021-03-25T01:00:00+01:00\",\"2021-03-26T01:00:00+01:00\",\"2021-03-27T01:00:00+01:00\",\"2021-03-28T01:00:00+01:00\",\"2021-03-29T01:00:00+01:00\",\"2021-03-30T01:00:00+01:00\",\"2021-03-31T01:00:00+01:00\",\"2021-04-01T01:00:00+01:00\",\"2021-04-02T01:00:00+01:00\",\"2021-04-03T01:00:00+01:00\",\"2021-04-04T01:00:00+01:00\",\"2021-04-05T01:00:00+01:00\",\"2021-04-06T01:00:00+01:00\",\"2021-04-07T01:00:00+01:00\",\"2021-04-08T01:00:00+01:00\",\"2021-04-09T01:00:00+01:00\",\"2021-04-10T01:00:00+01:00\",\"2021-04-11T01:00:00+01:00\",\"2021-04-12T01:00:00+01:00\",\"2021-04-13T01:00:00+01:00\",\"2021-04-14T01:00:00+01:00\",\"2021-04-15T01:00:00+01:00\",\"2021-04-16T01:00:00+01:00\",\"2021-04-17T01:00:00+01:00\",\"2021-04-18T01:00:00+01:00\",\"2021-04-19T01:00:00+01:00\",\"2021-04-20T01:00:00+01:00\",\"2021-04-21T01:00:00+01:00\",\"2021-04-22T01:00:00+01:00\",\"2021-04-23T01:00:00+01:00\",\"2021-04-24T01:00:00+01:00\",\"2021-04-25T01:00:00+01:00\",\"2021-04-26T01:00:00+01:00\",\"2021-04-27T01:00:00+01:00\",\"2021-04-28T01:00:00+01:00\",\"2021-04-29T01:00:00+01:00\",\"2021-04-30T01:00:00+01:00\",\"2021-05-01T01:00:00+01:00\",\"2021-05-02T01:00:00+01:00\",\"2021-05-03T01:00:00+01:00\",\"2021-05-04T01:00:00+01:00\",\"2021-05-05T01:00:00+01:00\",\"2021-05-06T01:00:00+01:00\",\"2021-05-07T01:00:00+01:00\",\"2021-05-08T01:00:00+01:00\",\"2021-05-09T01:00:00+01:00\",\"2021-05-10T01:00:00+01:00\",\"2021-05-11T01:00:00+01:00\",\"2021-05-12T01:00:00+01:00\",\"2021-05-13T01:00:00+01:00\",\"2021-05-14T01:00:00+01:00\",\"2021-05-15T01:00:00+01:00\",\"2021-05-16T01:00:00+01:00\",\"2021-05-17T01:00:00+01:00\",\"2021-05-18T01:00:00+01:00\",\"2021-05-19T01:00:00+01:00\",\"2021-05-20T01:00:00+01:00\",\"2021-05-21T01:00:00+01:00\",\"2021-05-22T01:00:00+01:00\",\"2021-05-23T01:00:00+01:00\",\"2021-05-24T01:00:00+01:00\",\"2021-05-25T01:00:00+01:00\",\"2021-05-26T01:00:00+01:00\",\"2021-05-27T01:00:00+01:00\",\"2021-05-28T01:00:00+01:00\",\"2021-05-29T01:00:00+01:00\",\"2021-05-30T01:00:00+01:00\",\"2021-05-31T01:00:00+01:00\",\"2021-06-01T01:00:00+01:00\",\"2021-06-02T01:00:00+01:00\",\"2021-06-03T01:00:00+01:00\",\"2021-06-04T01:00:00+01:00\",\"2021-06-05T01:00:00+01:00\",\"2021-06-06T01:00:00+01:00\",\"2021-06-07T01:00:00+01:00\",\"2021-06-08T01:00:00+01:00\",\"2021-06-09T01:00:00+01:00\",\"2021-06-10T01:00:00+01:00\",\"2021-06-11T01:00:00+01:00\",\"2021-06-12T01:00:00+01:00\",\"2021-06-13T01:00:00+01:00\",\"2021-06-14T01:00:00+01:00\",\"2021-06-15T01:00:00+01:00\",\"2021-06-16T01:00:00+01:00\",\"2021-06-17T01:00:00+01:00\",\"2021-06-18T01:00:00+01:00\",\"2021-06-19T01:00:00+01:00\",\"2021-06-20T01:00:00+01:00\",\"2021-06-21T01:00:00+01:00\",\"2021-06-22T01:00:00+01:00\",\"2021-06-23T01:00:00+01:00\",\"2021-06-24T01:00:00+01:00\",\"2021-06-25T01:00:00+01:00\",\"2021-06-26T01:00:00+01:00\",\"2021-06-27T01:00:00+01:00\",\"2021-06-28T01:00:00+01:00\",\"2021-06-29T01:00:00+01:00\",\"2021-06-30T01:00:00+01:00\",\"2021-07-01T01:00:00+01:00\",\"2021-07-02T01:00:00+01:00\",\"2021-07-03T01:00:00+01:00\",\"2021-07-04T01:00:00+01:00\",\"2021-07-05T01:00:00+01:00\",\"2021-07-06T01:00:00+01:00\",\"2021-07-07T01:00:00+01:00\",\"2021-07-08T01:00:00+01:00\",\"2021-07-09T01:00:00+01:00\",\"2021-07-10T01:00:00+01:00\",\"2021-07-11T01:00:00+01:00\",\"2021-07-12T01:00:00+01:00\",\"2021-07-13T01:00:00+01:00\",\"2021-07-14T01:00:00+01:00\",\"2021-07-15T01:00:00+01:00\",\"2021-07-16T01:00:00+01:00\",\"2021-07-17T01:00:00+01:00\",\"2021-07-18T01:00:00+01:00\",\"2021-07-19T01:00:00+01:00\",\"2021-07-20T01:00:00+01:00\",\"2021-07-21T01:00:00+01:00\",\"2021-07-22T01:00:00+01:00\",\"2021-07-23T01:00:00+01:00\",\"2021-07-24T01:00:00+01:00\",\"2021-07-25T01:00:00+01:00\",\"2021-07-26T01:00:00+01:00\",\"2021-07-27T01:00:00+01:00\",\"2021-07-28T01:00:00+01:00\",\"2021-07-29T01:00:00+01:00\",\"2021-07-30T01:00:00+01:00\",\"2021-07-31T01:00:00+01:00\",\"2021-08-01T01:00:00+01:00\",\"2021-08-02T01:00:00+01:00\",\"2021-08-03T01:00:00+01:00\",\"2021-08-04T01:00:00+01:00\",\"2021-08-05T01:00:00+01:00\",\"2021-08-06T01:00:00+01:00\",\"2021-08-07T01:00:00+01:00\",\"2021-08-08T01:00:00+01:00\",\"2021-08-09T01:00:00+01:00\",\"2021-08-10T01:00:00+01:00\",\"2021-08-11T01:00:00+01:00\",\"2021-08-12T01:00:00+01:00\",\"2021-08-13T01:00:00+01:00\",\"2021-08-14T01:00:00+01:00\",\"2021-08-15T01:00:00+01:00\",\"2021-08-16T01:00:00+01:00\",\"2021-08-17T01:00:00+01:00\",\"2021-08-18T01:00:00+01:00\",\"2021-08-19T01:00:00+01:00\",\"2021-08-20T01:00:00+01:00\",\"2021-08-21T01:00:00+01:00\",\"2021-08-22T01:00:00+01:00\",\"2021-08-23T01:00:00+01:00\",\"2021-08-24T01:00:00+01:00\",\"2021-08-25T01:00:00+01:00\",\"2021-08-26T01:00:00+01:00\",\"2021-08-27T01:00:00+01:00\",\"2021-08-28T01:00:00+01:00\",\"2021-08-29T01:00:00+01:00\",\"2021-08-30T01:00:00+01:00\",\"2021-08-31T01:00:00+01:00\",\"2021-09-01T01:00:00+01:00\",\"2021-09-02T01:00:00+01:00\",\"2021-09-03T01:00:00+01:00\",\"2021-09-04T01:00:00+01:00\",\"2021-09-05T01:00:00+01:00\",\"2021-09-06T01:00:00+01:00\",\"2021-09-07T01:00:00+01:00\",\"2021-09-08T01:00:00+01:00\",\"2021-09-09T01:00:00+01:00\",\"2021-09-10T01:00:00+01:00\",\"2021-09-11T01:00:00+01:00\",\"2021-09-12T01:00:00+01:00\",\"2021-09-13T01:00:00+01:00\",\"2021-09-14T01:00:00+01:00\",\"2021-09-15T01:00:00+01:00\",\"2021-09-16T01:00:00+01:00\",\"2021-09-17T01:00:00+01:00\",\"2021-09-18T01:00:00+01:00\",\"2021-09-19T01:00:00+01:00\",\"2021-09-20T01:00:00+01:00\",\"2021-09-21T01:00:00+01:00\",\"2021-09-22T01:00:00+01:00\",\"2021-09-23T01:00:00+01:00\",\"2021-09-24T01:00:00+01:00\",\"2021-09-25T01:00:00+01:00\",\"2021-09-26T01:00:00+01:00\",\"2021-09-27T01:00:00+01:00\",\"2021-09-28T01:00:00+01:00\",\"2021-09-29T01:00:00+01:00\",\"2021-09-30T01:00:00+01:00\",\"2021-10-01T01:00:00+01:00\",\"2021-10-02T01:00:00+01:00\",\"2021-10-03T01:00:00+01:00\",\"2021-10-04T01:00:00+01:00\",\"2021-10-05T01:00:00+01:00\",\"2021-10-06T01:00:00+01:00\",\"2021-10-07T01:00:00+01:00\",\"2021-10-08T01:00:00+01:00\",\"2021-10-09T01:00:00+01:00\",\"2021-10-10T01:00:00+01:00\",\"2021-10-11T01:00:00+01:00\",\"2021-10-12T01:00:00+01:00\",\"2021-10-13T01:00:00+01:00\",\"2021-10-14T01:00:00+01:00\",\"2021-10-15T01:00:00+01:00\",\"2021-10-16T01:00:00+01:00\",\"2021-10-17T01:00:00+01:00\",\"2021-10-18T01:00:00+01:00\",\"2021-10-19T01:00:00+01:00\",\"2021-10-20T01:00:00+01:00\",\"2021-10-21T01:00:00+01:00\",\"2021-10-22T01:00:00+01:00\",\"2021-10-23T01:00:00+01:00\",\"2021-10-24T01:00:00+01:00\",\"2021-10-25T01:00:00+01:00\",\"2021-10-26T01:00:00+01:00\",\"2021-10-27T01:00:00+01:00\",\"2021-10-28T01:00:00+01:00\",\"2021-10-29T01:00:00+01:00\",\"2021-10-30T01:00:00+01:00\",\"2021-10-31T01:00:00+01:00\",\"2021-11-01T01:00:00+01:00\",\"2021-11-02T01:00:00+01:00\",\"2021-11-03T01:00:00+01:00\",\"2021-11-04T01:00:00+01:00\",\"2021-11-05T01:00:00+01:00\",\"2021-11-06T01:00:00+01:00\",\"2021-11-07T01:00:00+01:00\",\"2021-11-08T01:00:00+01:00\",\"2021-11-09T01:00:00+01:00\",\"2021-11-10T01:00:00+01:00\",\"2021-11-11T01:00:00+01:00\",\"2021-11-12T01:00:00+01:00\",\"2021-11-13T01:00:00+01:00\",\"2021-11-14T01:00:00+01:00\",\"2021-11-15T01:00:00+01:00\",\"2021-11-16T01:00:00+01:00\",\"2021-11-17T01:00:00+01:00\",\"2021-11-18T01:00:00+01:00\",\"2021-11-19T01:00:00+01:00\",\"2021-11-20T01:00:00+01:00\",\"2021-11-21T01:00:00+01:00\",\"2021-11-22T01:00:00+01:00\",\"2021-11-23T01:00:00+01:00\",\"2021-11-24T01:00:00+01:00\",\"2021-11-25T01:00:00+01:00\",\"2021-11-26T01:00:00+01:00\",\"2021-11-27T01:00:00+01:00\",\"2021-11-28T01:00:00+01:00\",\"2021-11-29T01:00:00+01:00\",\"2021-11-30T01:00:00+01:00\",\"2021-12-01T01:00:00+01:00\",\"2021-12-02T01:00:00+01:00\",\"2021-12-03T01:00:00+01:00\",\"2021-12-04T01:00:00+01:00\",\"2021-12-05T01:00:00+01:00\",\"2021-12-06T01:00:00+01:00\",\"2021-12-07T01:00:00+01:00\",\"2021-12-08T01:00:00+01:00\",\"2021-12-09T01:00:00+01:00\",\"2021-12-10T01:00:00+01:00\",\"2021-12-11T01:00:00+01:00\",\"2021-12-12T01:00:00+01:00\",\"2021-12-13T01:00:00+01:00\",\"2021-12-14T01:00:00+01:00\",\"2021-12-15T01:00:00+01:00\",\"2021-12-16T01:00:00+01:00\",\"2021-12-17T01:00:00+01:00\",\"2021-12-18T01:00:00+01:00\",\"2021-12-19T01:00:00+01:00\",\"2021-12-20T01:00:00+01:00\",\"2021-12-21T01:00:00+01:00\",\"2021-12-22T01:00:00+01:00\",\"2021-12-23T01:00:00+01:00\",\"2021-12-24T01:00:00+01:00\",\"2021-12-25T01:00:00+01:00\",\"2021-12-26T01:00:00+01:00\",\"2021-12-27T01:00:00+01:00\",\"2021-12-28T01:00:00+01:00\",\"2021-12-29T01:00:00+01:00\",\"2021-12-30T01:00:00+01:00\",\"2021-12-31T01:00:00+01:00\",\"2022-01-01T01:00:00+01:00\",\"2022-01-02T01:00:00+01:00\",\"2022-01-03T01:00:00+01:00\",\"2022-01-04T01:00:00+01:00\",\"2022-01-05T01:00:00+01:00\",\"2022-01-06T01:00:00+01:00\",\"2022-01-07T01:00:00+01:00\",\"2022-01-08T01:00:00+01:00\",\"2022-01-09T01:00:00+01:00\",\"2022-01-10T01:00:00+01:00\",\"2022-01-11T01:00:00+01:00\",\"2022-01-12T01:00:00+01:00\",\"2022-01-13T01:00:00+01:00\",\"2022-01-14T01:00:00+01:00\",\"2022-01-15T01:00:00+01:00\",\"2022-01-16T01:00:00+01:00\",\"2022-01-17T01:00:00+01:00\",\"2022-01-18T01:00:00+01:00\",\"2022-01-19T01:00:00+01:00\",\"2022-01-20T01:00:00+01:00\",\"2022-01-21T01:00:00+01:00\",\"2022-01-22T01:00:00+01:00\",\"2022-01-23T01:00:00+01:00\",\"2022-01-24T01:00:00+01:00\",\"2022-01-25T01:00:00+01:00\",\"2022-01-26T01:00:00+01:00\",\"2022-01-27T01:00:00+01:00\",\"2022-01-28T01:00:00+01:00\",\"2022-01-29T01:00:00+01:00\",\"2022-01-30T01:00:00+01:00\",\"2022-01-31T01:00:00+01:00\",\"2022-02-01T01:00:00+01:00\",\"2022-02-02T01:00:00+01:00\",\"2022-02-03T01:00:00+01:00\",\"2022-02-04T01:00:00+01:00\",\"2022-02-05T01:00:00+01:00\",\"2022-02-06T01:00:00+01:00\",\"2022-02-07T01:00:00+01:00\",\"2022-02-08T01:00:00+01:00\",\"2022-02-09T01:00:00+01:00\",\"2022-02-10T01:00:00+01:00\",\"2022-02-11T01:00:00+01:00\",\"2022-02-12T01:00:00+01:00\",\"2022-02-13T01:00:00+01:00\",\"2022-02-14T01:00:00+01:00\",\"2022-02-15T01:00:00+01:00\",\"2022-02-16T01:00:00+01:00\",\"2022-02-17T01:00:00+01:00\",\"2022-02-18T01:00:00+01:00\",\"2022-02-19T01:00:00+01:00\",\"2022-02-20T01:00:00+01:00\",\"2022-02-21T01:00:00+01:00\",\"2022-02-22T01:00:00+01:00\",\"2022-02-23T01:00:00+01:00\",\"2022-02-24T01:00:00+01:00\",\"2022-02-25T01:00:00+01:00\",\"2022-02-26T01:00:00+01:00\",\"2022-02-27T01:00:00+01:00\",\"2022-02-28T01:00:00+01:00\",\"2022-03-01T01:00:00+01:00\",\"2022-03-02T01:00:00+01:00\",\"2022-03-03T01:00:00+01:00\",\"2022-03-04T01:00:00+01:00\",\"2022-03-05T01:00:00+01:00\",\"2022-03-06T01:00:00+01:00\",\"2022-03-07T01:00:00+01:00\",\"2022-03-08T01:00:00+01:00\",\"2022-03-09T01:00:00+01:00\",\"2022-03-10T01:00:00+01:00\",\"2022-03-11T01:00:00+01:00\",\"2022-03-12T01:00:00+01:00\",\"2022-03-13T01:00:00+01:00\",\"2022-03-14T01:00:00+01:00\",\"2022-03-15T01:00:00+01:00\",\"2022-03-16T01:00:00+01:00\",\"2022-03-17T01:00:00+01:00\",\"2022-03-18T01:00:00+01:00\",\"2022-03-19T01:00:00+01:00\",\"2022-03-20T01:00:00+01:00\",\"2022-03-21T01:00:00+01:00\",\"2022-03-22T01:00:00+01:00\",\"2022-03-23T01:00:00+01:00\",\"2022-03-24T01:00:00+01:00\",\"2022-03-25T01:00:00+01:00\",\"2022-03-26T01:00:00+01:00\",\"2022-03-27T01:00:00+01:00\",\"2022-03-28T01:00:00+01:00\",\"2022-03-29T01:00:00+01:00\",\"2022-03-30T01:00:00+01:00\",\"2022-03-31T01:00:00+01:00\",\"2022-04-01T01:00:00+01:00\",\"2022-04-02T01:00:00+01:00\",\"2022-04-03T01:00:00+01:00\",\"2022-04-04T01:00:00+01:00\",\"2022-04-05T01:00:00+01:00\",\"2022-04-06T01:00:00+01:00\",\"2022-04-07T01:00:00+01:00\",\"2022-04-08T01:00:00+01:00\",\"2022-04-09T01:00:00+01:00\",\"2022-04-10T01:00:00+01:00\",\"2022-04-11T01:00:00+01:00\",\"2022-04-12T01:00:00+01:00\",\"2022-04-13T01:00:00+01:00\",\"2022-04-14T01:00:00+01:00\",\"2022-04-15T01:00:00+01:00\",\"2022-04-16T01:00:00+01:00\",\"2022-04-17T01:00:00+01:00\",\"2022-04-18T01:00:00+01:00\",\"2022-04-19T01:00:00+01:00\",\"2022-04-20T01:00:00+01:00\",\"2022-04-21T01:00:00+01:00\",\"2022-04-22T01:00:00+01:00\",\"2022-04-23T01:00:00+01:00\",\"2022-04-24T01:00:00+01:00\",\"2022-04-25T01:00:00+01:00\",\"2022-04-26T01:00:00+01:00\",\"2022-04-27T01:00:00+01:00\",\"2022-04-28T01:00:00+01:00\",\"2022-04-29T01:00:00+01:00\",\"2022-04-30T01:00:00+01:00\",\"2022-05-01T01:00:00+01:00\",\"2022-05-02T01:00:00+01:00\",\"2022-05-03T01:00:00+01:00\",\"2022-05-04T01:00:00+01:00\",\"2022-05-05T01:00:00+01:00\",\"2022-05-06T01:00:00+01:00\",\"2022-05-07T01:00:00+01:00\",\"2022-05-08T01:00:00+01:00\",\"2022-05-09T01:00:00+01:00\",\"2022-05-10T01:00:00+01:00\",\"2022-05-11T01:00:00+01:00\",\"2022-05-12T01:00:00+01:00\",\"2022-05-13T01:00:00+01:00\",\"2022-05-14T01:00:00+01:00\",\"2022-05-15T01:00:00+01:00\",\"2022-05-16T01:00:00+01:00\",\"2022-05-17T01:00:00+01:00\",\"2022-05-18T01:00:00+01:00\",\"2022-05-19T01:00:00+01:00\",\"2022-05-20T01:00:00+01:00\",\"2022-05-21T01:00:00+01:00\",\"2022-05-22T01:00:00+01:00\",\"2022-05-23T01:00:00+01:00\",\"2022-05-24T01:00:00+01:00\",\"2022-05-25T01:00:00+01:00\",\"2022-05-26T01:00:00+01:00\",\"2022-05-27T01:00:00+01:00\",\"2022-05-28T01:00:00+01:00\",\"2022-05-29T01:00:00+01:00\",\"2022-05-30T01:00:00+01:00\",\"2022-05-31T01:00:00+01:00\",\"2022-06-01T01:00:00+01:00\",\"2022-06-02T01:00:00+01:00\",\"2022-06-03T01:00:00+01:00\",\"2022-06-04T01:00:00+01:00\",\"2022-06-05T01:00:00+01:00\",\"2022-06-06T01:00:00+01:00\",\"2022-06-07T01:00:00+01:00\",\"2022-06-08T01:00:00+01:00\",\"2022-06-09T01:00:00+01:00\",\"2022-06-10T01:00:00+01:00\",\"2022-06-11T01:00:00+01:00\",\"2022-06-12T01:00:00+01:00\",\"2022-06-13T01:00:00+01:00\",\"2022-06-14T01:00:00+01:00\",\"2022-06-15T01:00:00+01:00\",\"2022-06-16T01:00:00+01:00\",\"2022-06-17T01:00:00+01:00\",\"2022-06-18T01:00:00+01:00\",\"2022-06-19T01:00:00+01:00\",\"2022-06-20T01:00:00+01:00\",\"2022-06-21T01:00:00+01:00\",\"2022-06-22T01:00:00+01:00\",\"2022-06-23T01:00:00+01:00\",\"2022-06-24T01:00:00+01:00\",\"2022-06-25T01:00:00+01:00\",\"2022-06-26T01:00:00+01:00\",\"2022-06-27T01:00:00+01:00\",\"2022-06-28T01:00:00+01:00\",\"2022-06-29T01:00:00+01:00\",\"2022-06-30T01:00:00+01:00\",\"2022-07-01T01:00:00+01:00\",\"2022-07-02T01:00:00+01:00\",\"2022-07-03T01:00:00+01:00\",\"2022-07-04T01:00:00+01:00\",\"2022-07-05T01:00:00+01:00\",\"2022-07-06T01:00:00+01:00\",\"2022-07-07T01:00:00+01:00\",\"2022-07-08T01:00:00+01:00\",\"2022-07-09T01:00:00+01:00\",\"2022-07-10T01:00:00+01:00\",\"2022-07-11T01:00:00+01:00\",\"2022-07-12T01:00:00+01:00\",\"2022-07-13T01:00:00+01:00\",\"2022-07-14T01:00:00+01:00\",\"2022-07-15T01:00:00+01:00\",\"2022-07-16T01:00:00+01:00\",\"2022-07-17T01:00:00+01:00\",\"2022-07-18T01:00:00+01:00\",\"2022-07-19T01:00:00+01:00\",\"2022-07-20T01:00:00+01:00\",\"2022-07-21T01:00:00+01:00\",\"2022-07-22T01:00:00+01:00\",\"2022-07-23T01:00:00+01:00\",\"2022-07-24T01:00:00+01:00\",\"2022-07-25T01:00:00+01:00\",\"2022-07-26T01:00:00+01:00\",\"2022-07-27T01:00:00+01:00\",\"2022-07-28T01:00:00+01:00\",\"2022-07-29T01:00:00+01:00\",\"2022-07-30T01:00:00+01:00\",\"2022-07-31T01:00:00+01:00\",\"2022-08-01T01:00:00+01:00\",\"2022-08-02T01:00:00+01:00\",\"2022-08-03T01:00:00+01:00\",\"2022-08-04T01:00:00+01:00\",\"2022-08-05T01:00:00+01:00\",\"2022-08-06T01:00:00+01:00\",\"2022-08-07T01:00:00+01:00\",\"2022-08-08T01:00:00+01:00\",\"2022-08-09T01:00:00+01:00\",\"2022-08-10T01:00:00+01:00\",\"2022-08-11T01:00:00+01:00\",\"2022-08-12T01:00:00+01:00\",\"2022-08-13T01:00:00+01:00\",\"2022-08-14T01:00:00+01:00\",\"2022-08-15T01:00:00+01:00\",\"2022-08-16T01:00:00+01:00\",\"2022-08-17T01:00:00+01:00\",\"2022-08-18T01:00:00+01:00\",\"2022-08-19T01:00:00+01:00\",\"2022-08-20T01:00:00+01:00\",\"2022-08-21T01:00:00+01:00\",\"2022-08-22T01:00:00+01:00\",\"2022-08-23T01:00:00+01:00\",\"2022-08-24T01:00:00+01:00\",\"2022-08-25T01:00:00+01:00\",\"2022-08-26T01:00:00+01:00\",\"2022-08-27T01:00:00+01:00\",\"2022-08-28T01:00:00+01:00\",\"2022-08-29T01:00:00+01:00\",\"2022-08-30T01:00:00+01:00\",\"2022-08-31T01:00:00+01:00\",\"2022-09-01T01:00:00+01:00\",\"2022-09-02T01:00:00+01:00\",\"2022-09-03T01:00:00+01:00\",\"2022-09-04T01:00:00+01:00\",\"2022-09-05T01:00:00+01:00\",\"2022-09-06T01:00:00+01:00\",\"2022-09-07T01:00:00+01:00\",\"2022-09-08T01:00:00+01:00\",\"2022-09-09T01:00:00+01:00\",\"2022-09-10T01:00:00+01:00\",\"2022-09-11T01:00:00+01:00\",\"2022-09-12T01:00:00+01:00\",\"2022-09-13T01:00:00+01:00\",\"2022-09-14T01:00:00+01:00\",\"2022-09-15T01:00:00+01:00\",\"2022-09-16T01:00:00+01:00\",\"2022-09-17T01:00:00+01:00\",\"2022-09-18T01:00:00+01:00\",\"2022-09-19T01:00:00+01:00\",\"2022-09-20T01:00:00+01:00\",\"2022-09-21T01:00:00+01:00\",\"2022-09-22T01:00:00+01:00\",\"2022-09-23T01:00:00+01:00\",\"2022-09-24T01:00:00+01:00\",\"2022-09-25T01:00:00+01:00\",\"2022-09-26T01:00:00+01:00\",\"2022-09-27T01:00:00+01:00\",\"2022-09-28T01:00:00+01:00\",\"2022-09-29T01:00:00+01:00\",\"2022-09-30T01:00:00+01:00\",\"2022-10-01T01:00:00+01:00\",\"2022-10-02T01:00:00+01:00\",\"2022-10-03T01:00:00+01:00\",\"2022-10-04T01:00:00+01:00\",\"2022-10-05T01:00:00+01:00\",\"2022-10-06T01:00:00+01:00\",\"2022-10-07T01:00:00+01:00\",\"2022-10-08T01:00:00+01:00\",\"2022-10-09T01:00:00+01:00\",\"2022-10-10T01:00:00+01:00\",\"2022-10-11T01:00:00+01:00\",\"2022-10-12T01:00:00+01:00\",\"2022-10-13T01:00:00+01:00\",\"2022-10-14T01:00:00+01:00\",\"2022-10-15T01:00:00+01:00\",\"2022-10-16T01:00:00+01:00\",\"2022-10-17T01:00:00+01:00\",\"2022-10-18T01:00:00+01:00\",\"2022-10-19T01:00:00+01:00\",\"2022-10-20T01:00:00+01:00\",\"2022-10-21T01:00:00+01:00\",\"2022-10-22T01:00:00+01:00\",\"2022-10-23T01:00:00+01:00\",\"2022-10-24T01:00:00+01:00\",\"2022-10-25T01:00:00+01:00\",\"2022-10-26T01:00:00+01:00\",\"2022-10-27T01:00:00+01:00\",\"2022-10-28T01:00:00+01:00\",\"2022-10-29T01:00:00+01:00\",\"2022-10-30T01:00:00+01:00\",\"2022-10-31T01:00:00+01:00\",\"2022-11-01T01:00:00+01:00\",\"2022-11-02T01:00:00+01:00\",\"2022-11-03T01:00:00+01:00\",\"2022-11-04T01:00:00+01:00\",\"2022-11-05T01:00:00+01:00\",\"2022-11-06T01:00:00+01:00\",\"2022-11-07T01:00:00+01:00\",\"2022-11-08T01:00:00+01:00\",\"2022-11-09T01:00:00+01:00\",\"2022-11-10T01:00:00+01:00\",\"2022-11-11T01:00:00+01:00\",\"2022-11-12T01:00:00+01:00\",\"2022-11-13T01:00:00+01:00\",\"2022-11-14T01:00:00+01:00\",\"2022-11-15T01:00:00+01:00\",\"2022-11-16T01:00:00+01:00\",\"2022-11-17T01:00:00+01:00\",\"2022-11-18T01:00:00+01:00\",\"2022-11-19T01:00:00+01:00\",\"2022-11-20T01:00:00+01:00\",\"2022-11-21T01:00:00+01:00\",\"2022-11-22T01:00:00+01:00\",\"2022-11-23T01:00:00+01:00\",\"2022-11-24T01:00:00+01:00\",\"2022-11-25T01:00:00+01:00\",\"2022-11-26T01:00:00+01:00\",\"2022-11-27T01:00:00+01:00\",\"2022-11-28T01:00:00+01:00\",\"2022-11-29T01:00:00+01:00\",\"2022-11-30T01:00:00+01:00\",\"2022-12-01T01:00:00+01:00\",\"2022-12-02T01:00:00+01:00\",\"2022-12-03T01:00:00+01:00\",\"2022-12-04T01:00:00+01:00\",\"2022-12-05T01:00:00+01:00\",\"2022-12-06T01:00:00+01:00\",\"2022-12-07T01:00:00+01:00\",\"2022-12-08T01:00:00+01:00\",\"2022-12-09T01:00:00+01:00\",\"2022-12-10T01:00:00+01:00\",\"2022-12-11T01:00:00+01:00\",\"2022-12-12T01:00:00+01:00\",\"2022-12-13T01:00:00+01:00\",\"2022-12-14T01:00:00+01:00\",\"2022-12-15T01:00:00+01:00\",\"2022-12-16T01:00:00+01:00\",\"2022-12-17T01:00:00+01:00\",\"2022-12-18T01:00:00+01:00\",\"2022-12-19T01:00:00+01:00\",\"2022-12-20T01:00:00+01:00\",\"2022-12-21T01:00:00+01:00\",\"2022-12-22T01:00:00+01:00\",\"2022-12-23T01:00:00+01:00\",\"2022-12-24T01:00:00+01:00\",\"2022-12-25T01:00:00+01:00\",\"2022-12-26T01:00:00+01:00\",\"2022-12-27T01:00:00+01:00\",\"2022-12-28T01:00:00+01:00\",\"2022-12-29T01:00:00+01:00\",\"2022-12-30T01:00:00+01:00\",\"2022-12-31T01:00:00+01:00\"],\"xaxis\":\"x\",\"y\":[30.0,28.33,28.33,27.78,27.22,27.78,27.22,26.67,26.67,28.33,27.78,28.33,28.33,27.78,26.67,26.67,26.67,27.22,26.67,26.11,25.56,26.11,27.22,27.78,30.0,29.44,29.44,29.44,29.44,29.44,28.89,28.89,29.44,29.44,29.44,28.89,28.89,28.33,28.89,28.89,28.89,28.33,28.33,26.67,27.78,26.67,26.11,26.11,26.67,26.67,26.67,25.0,25.56,25.0,26.11,27.22,27.78,27.78,28.33,28.33,28.33,29.44,29.44,30.0,29.44,29.44,28.89,27.22,27.22,27.22,26.11,26.11,25.56,26.67,26.67,26.67,25.0,24.44,25.0,25.0,25.56,26.67,26.67,25.56,27.22,26.67,26.11,26.11,26.11,27.22,28.33,28.89,28.89,27.22,26.67,28.33,23.89,23.89,23.89,35.56,30.56,31.11,31.67,30.56,29.44,24.44,24.44,24.44,27.22,27.22,27.22,26.67,26.11,26.11,28.89,28.89,28.89,32.22,31.67,32.22,32.22,33.33,32.78,34.44,32.22,30.56,28.33,27.78,28.33,30.56,31.11,31.67,32.22,31.67,32.78,33.33,33.33,33.33,33.89,36.67,33.33,32.78,31.67,30.56,31.67,32.22,32.22,31.67,31.11,32.22,33.33,33.89,33.89,33.89,35.56,35.0,35.0,35.0,35.56,35.0,36.11,36.11,34.44,34.44,35.0,35.0,34.44,35.0,33.89,35.0,34.44,35.0,34.44,35.0,35.0,36.67,36.11,36.67,33.89,34.44,33.89,34.44,33.89,35.0,33.89,35.0,35.56,35.0,36.11,34.44,33.89,35.0,35.56,37.22,35.0,31.67,32.22,31.67,32.78,32.78,33.33,34.44,33.33,32.22,32.22,34.44,33.33,32.22,33.89,33.33,33.89,33.89,31.11,32.22,31.67,30.56,32.78,31.67,33.89,32.78,35.56,33.89,29.44,32.78,32.22,28.89,32.22,31.11,26.11,30.56,31.11,26.67,28.33,29.44,31.67,31.67,28.89,31.67,30.0,30.56,31.67,25.56,28.89,31.11,31.67,25.56,25.56,27.78,30.56,30.56,28.33,30.56,29.44,30.56,30.0,27.78,29.44,26.11,27.22,26.11,26.67,28.89,30.56,26.11,26.11,27.22,28.89,25.56,26.67,28.33,30.56,26.67,26.11,27.78,28.33,26.67,28.89,26.67,27.22,27.22,28.33,24.44,25.56,24.44,25.56,26.11,25.0,27.22,28.33,25.56,27.78,28.89,26.67,25.56,26.67,27.78,26.67,27.22,26.67,28.89,27.78,27.78,28.33,27.22,26.67,29.44,27.78,27.22,28.89,28.33,28.33,29.44,30.0,28.89,29.44,29.44,30.0,31.11,30.56,31.11,28.33,27.78,28.33,28.33,29.44,28.89,28.89,30.0,28.89,29.44,30.56,30.56,31.67,32.22,33.33,32.22,31.67,31.67,32.22,32.22,31.67,31.67,31.11,30.56,32.22,32.22,30.56,28.33,29.44,30.56,31.67,30.56,30.56,30.56,31.11,31.67,30.56,28.89,30.56,31.11,30.56,31.67,31.67,31.11,32.22,32.22,32.78,32.22,32.22,30.56,30.56,29.44,30.0,30.56,30.56,30.0,29.44,28.89,30.0,30.56,30.56,30.0,29.44,30.56,30.0,30.0,32.78,30.0,29.44,29.44,28.89,28.89,29.44,28.89,27.22,27.78,27.78,28.33,26.67,26.11,26.11,27.22,27.78,28.33,27.22,28.33,27.78,27.22,25.56,24.44,24.44,25.0,25.56,26.67,26.11,26.11,26.11,24.44,24.44,24.44,24.44,24.44,24.44,24.44,24.44,23.89,23.33,26.67,21.67,23.33,23.33,23.33,23.33,28.33,27.22,26.11,24.44,24.44,22.22,22.78,23.33,23.33,23.89,23.89,23.33,24.44,23.89,25.0,25.0,26.11,26.67,26.67,25.0,24.44,23.89,25.0,24.44,25.56,26.11,26.67,28.33,28.33,26.67,26.67,26.11,26.67,27.22,27.78,30.56,30.56,31.11,31.11,28.89,28.33,29.44,30.0,31.11,31.11,30.0,32.22,28.33,30.56,31.67,30.56,30.0,31.11,30.56,28.89,30.0,31.11,31.67,32.78,32.78,33.33,33.33,33.33,33.89,33.33,34.44,35.0,33.89,33.33,33.33,33.89,30.56,30.56,33.33,33.89,33.33,32.78,33.33,33.89,33.33,34.44,35.0,35.56,35.56,35.56,36.67,36.11,35.56,35.56,33.89,35.56,35.56,35.0,28.33,28.89,31.11,32.22,33.33,33.33,34.44,35.0,35.56,33.89,34.44,33.89,32.78,32.22,34.44,34.44,35.56,35.0,34.44,35.56,36.67,36.67,36.67,36.11,33.33,35.0,36.67,36.11,35.0,35.56,35.56,36.11,36.11,34.44,35.0,31.11,31.11,26.67,30.56,32.22,31.67,33.33,35.56,35.0,27.22,28.89,33.89,34.44,33.33,32.78,35.0,32.22,32.22,28.89,32.22,33.33,30.0,28.33,30.0,30.0,31.11,27.78,26.67,25.56,29.44,31.67,28.89,26.11,28.33,31.11,27.78,30.56,28.89,31.11,27.78,29.44,30.0,29.44,26.67,28.33,27.22,28.33,30.56,30.56,30.0,30.0,30.0,28.89,27.78,26.67,29.44,27.22,28.33,29.44,23.33,25.56,27.22,27.78,28.33,25.56,28.33,28.89,28.33,27.78,27.22,27.22,29.44,24.44,26.67,27.22,27.22,25.0,27.22,28.89,26.11,27.78,26.67,28.33,26.67,28.89,26.11,27.22,24.44,25.56,27.78,28.89,25.0,27.22,28.89,25.0,25.0,26.11,27.22,23.33,24.44,26.11,25.56,26.11,25.56,26.67,25.56,28.33,29.44,27.78,27.78,27.22,26.11,26.11,26.11,26.67,25.56,28.33,27.78,26.11,26.67,25.56,27.22,25.0,26.11,27.78,27.22,28.33,28.33,26.67,26.11,28.33,27.78,26.67,25.56,27.78,29.44,30.0,28.89,26.67,28.33,29.44,28.89,28.33,28.89,30.0,30.0,29.44,28.89,28.33,31.11,31.11,30.56,30.0,29.44,30.0,29.44,30.0,31.11,30.56,30.56,29.44,28.89,27.78,28.89,28.89,28.89,28.89,28.89,29.44,28.89,28.89,27.78,28.89,28.89,28.33,29.44,29.44,29.44,26.67,26.11,26.67,26.11,27.22,27.78,27.78,27.22,27.22,27.22,25.56,27.22,26.11,26.11,26.67,27.78,27.78,29.44,29.44,30.56,30.56,30.0,28.89,27.78,26.67,26.11,25.56,26.11,26.11,26.11,26.67,26.11,26.11,27.22,26.67,25.56,25.56,24.44,23.33,23.33,23.33,22.78,25.0,25.56,25.0,25.0,24.44],\"yaxis\":\"y\",\"type\":\"scattergl\"},{\"hovertemplate\":\"variable=y_pred\\u003cbr\\u003edate=%{x}\\u003cbr\\u003eAir Temp.=%{y}\\u003cextra\\u003e\\u003c\\u002fextra\\u003e\",\"legendgroup\":\"y_pred\",\"line\":{\"color\":\"#EF553B\",\"dash\":\"solid\"},\"marker\":{\"symbol\":\"circle\"},\"mode\":\"lines\",\"name\":\"y_pred\",\"showlegend\":true,\"x\":[\"2020-11-06T01:00:00+01:00\",\"2020-11-07T01:00:00+01:00\",\"2020-11-08T01:00:00+01:00\",\"2020-11-09T01:00:00+01:00\",\"2020-11-10T01:00:00+01:00\",\"2020-11-11T01:00:00+01:00\",\"2020-11-12T01:00:00+01:00\",\"2020-11-13T01:00:00+01:00\",\"2020-11-14T01:00:00+01:00\",\"2020-11-15T01:00:00+01:00\",\"2020-11-16T01:00:00+01:00\",\"2020-11-17T01:00:00+01:00\",\"2020-11-18T01:00:00+01:00\",\"2020-11-19T01:00:00+01:00\",\"2020-11-20T01:00:00+01:00\",\"2020-11-21T01:00:00+01:00\",\"2020-11-22T01:00:00+01:00\",\"2020-11-23T01:00:00+01:00\",\"2020-11-24T01:00:00+01:00\",\"2020-11-25T01:00:00+01:00\",\"2020-11-26T01:00:00+01:00\",\"2020-11-27T01:00:00+01:00\",\"2020-11-28T01:00:00+01:00\",\"2020-11-29T01:00:00+01:00\",\"2020-11-30T01:00:00+01:00\",\"2020-12-01T01:00:00+01:00\",\"2020-12-02T01:00:00+01:00\",\"2020-12-03T01:00:00+01:00\",\"2020-12-04T01:00:00+01:00\",\"2020-12-05T01:00:00+01:00\",\"2020-12-06T01:00:00+01:00\",\"2020-12-07T01:00:00+01:00\",\"2020-12-08T01:00:00+01:00\",\"2020-12-09T01:00:00+01:00\",\"2020-12-10T01:00:00+01:00\",\"2020-12-11T01:00:00+01:00\",\"2020-12-12T01:00:00+01:00\",\"2020-12-13T01:00:00+01:00\",\"2020-12-14T01:00:00+01:00\",\"2020-12-15T01:00:00+01:00\",\"2020-12-16T01:00:00+01:00\",\"2020-12-17T01:00:00+01:00\",\"2020-12-18T01:00:00+01:00\",\"2020-12-19T01:00:00+01:00\",\"2020-12-20T01:00:00+01:00\",\"2020-12-21T01:00:00+01:00\",\"2020-12-22T01:00:00+01:00\",\"2020-12-23T01:00:00+01:00\",\"2020-12-24T01:00:00+01:00\",\"2020-12-25T01:00:00+01:00\",\"2020-12-26T01:00:00+01:00\",\"2020-12-27T01:00:00+01:00\",\"2020-12-28T01:00:00+01:00\",\"2020-12-29T01:00:00+01:00\",\"2020-12-30T01:00:00+01:00\",\"2020-12-31T01:00:00+01:00\",\"2021-01-01T01:00:00+01:00\",\"2021-01-02T01:00:00+01:00\",\"2021-01-03T01:00:00+01:00\",\"2021-01-04T01:00:00+01:00\",\"2021-01-05T01:00:00+01:00\",\"2021-01-06T01:00:00+01:00\",\"2021-01-07T01:00:00+01:00\",\"2021-01-08T01:00:00+01:00\",\"2021-01-09T01:00:00+01:00\",\"2021-01-10T01:00:00+01:00\",\"2021-01-11T01:00:00+01:00\",\"2021-01-12T01:00:00+01:00\",\"2021-01-13T01:00:00+01:00\",\"2021-01-14T01:00:00+01:00\",\"2021-01-15T01:00:00+01:00\",\"2021-01-16T01:00:00+01:00\",\"2021-01-17T01:00:00+01:00\",\"2021-01-18T01:00:00+01:00\",\"2021-01-19T01:00:00+01:00\",\"2021-01-20T01:00:00+01:00\",\"2021-01-21T01:00:00+01:00\",\"2021-01-22T01:00:00+01:00\",\"2021-01-23T01:00:00+01:00\",\"2021-01-24T01:00:00+01:00\",\"2021-01-25T01:00:00+01:00\",\"2021-01-26T01:00:00+01:00\",\"2021-01-27T01:00:00+01:00\",\"2021-01-28T01:00:00+01:00\",\"2021-01-29T01:00:00+01:00\",\"2021-01-30T01:00:00+01:00\",\"2021-01-31T01:00:00+01:00\",\"2021-02-01T01:00:00+01:00\",\"2021-02-02T01:00:00+01:00\",\"2021-02-03T01:00:00+01:00\",\"2021-02-04T01:00:00+01:00\",\"2021-02-05T01:00:00+01:00\",\"2021-02-06T01:00:00+01:00\",\"2021-02-07T01:00:00+01:00\",\"2021-02-08T01:00:00+01:00\",\"2021-02-09T01:00:00+01:00\",\"2021-02-10T01:00:00+01:00\",\"2021-02-11T01:00:00+01:00\",\"2021-02-12T01:00:00+01:00\",\"2021-02-13T01:00:00+01:00\",\"2021-02-14T01:00:00+01:00\",\"2021-02-15T01:00:00+01:00\",\"2021-02-16T01:00:00+01:00\",\"2021-02-17T01:00:00+01:00\",\"2021-02-18T01:00:00+01:00\",\"2021-02-19T01:00:00+01:00\",\"2021-02-20T01:00:00+01:00\",\"2021-02-21T01:00:00+01:00\",\"2021-02-22T01:00:00+01:00\",\"2021-02-23T01:00:00+01:00\",\"2021-02-24T01:00:00+01:00\",\"2021-02-25T01:00:00+01:00\",\"2021-02-26T01:00:00+01:00\",\"2021-02-27T01:00:00+01:00\",\"2021-02-28T01:00:00+01:00\",\"2021-03-01T01:00:00+01:00\",\"2021-03-02T01:00:00+01:00\",\"2021-03-03T01:00:00+01:00\",\"2021-03-04T01:00:00+01:00\",\"2021-03-05T01:00:00+01:00\",\"2021-03-06T01:00:00+01:00\",\"2021-03-07T01:00:00+01:00\",\"2021-03-08T01:00:00+01:00\",\"2021-03-09T01:00:00+01:00\",\"2021-03-10T01:00:00+01:00\",\"2021-03-11T01:00:00+01:00\",\"2021-03-12T01:00:00+01:00\",\"2021-03-13T01:00:00+01:00\",\"2021-03-14T01:00:00+01:00\",\"2021-03-15T01:00:00+01:00\",\"2021-03-16T01:00:00+01:00\",\"2021-03-17T01:00:00+01:00\",\"2021-03-18T01:00:00+01:00\",\"2021-03-19T01:00:00+01:00\",\"2021-03-20T01:00:00+01:00\",\"2021-03-21T01:00:00+01:00\",\"2021-03-22T01:00:00+01:00\",\"2021-03-23T01:00:00+01:00\",\"2021-03-24T01:00:00+01:00\",\"2021-03-25T01:00:00+01:00\",\"2021-03-26T01:00:00+01:00\",\"2021-03-27T01:00:00+01:00\",\"2021-03-28T01:00:00+01:00\",\"2021-03-29T01:00:00+01:00\",\"2021-03-30T01:00:00+01:00\",\"2021-03-31T01:00:00+01:00\",\"2021-04-01T01:00:00+01:00\",\"2021-04-02T01:00:00+01:00\",\"2021-04-03T01:00:00+01:00\",\"2021-04-04T01:00:00+01:00\",\"2021-04-05T01:00:00+01:00\",\"2021-04-06T01:00:00+01:00\",\"2021-04-07T01:00:00+01:00\",\"2021-04-08T01:00:00+01:00\",\"2021-04-09T01:00:00+01:00\",\"2021-04-10T01:00:00+01:00\",\"2021-04-11T01:00:00+01:00\",\"2021-04-12T01:00:00+01:00\",\"2021-04-13T01:00:00+01:00\",\"2021-04-14T01:00:00+01:00\",\"2021-04-15T01:00:00+01:00\",\"2021-04-16T01:00:00+01:00\",\"2021-04-17T01:00:00+01:00\",\"2021-04-18T01:00:00+01:00\",\"2021-04-19T01:00:00+01:00\",\"2021-04-20T01:00:00+01:00\",\"2021-04-21T01:00:00+01:00\",\"2021-04-22T01:00:00+01:00\",\"2021-04-23T01:00:00+01:00\",\"2021-04-24T01:00:00+01:00\",\"2021-04-25T01:00:00+01:00\",\"2021-04-26T01:00:00+01:00\",\"2021-04-27T01:00:00+01:00\",\"2021-04-28T01:00:00+01:00\",\"2021-04-29T01:00:00+01:00\",\"2021-04-30T01:00:00+01:00\",\"2021-05-01T01:00:00+01:00\",\"2021-05-02T01:00:00+01:00\",\"2021-05-03T01:00:00+01:00\",\"2021-05-04T01:00:00+01:00\",\"2021-05-05T01:00:00+01:00\",\"2021-05-06T01:00:00+01:00\",\"2021-05-07T01:00:00+01:00\",\"2021-05-08T01:00:00+01:00\",\"2021-05-09T01:00:00+01:00\",\"2021-05-10T01:00:00+01:00\",\"2021-05-11T01:00:00+01:00\",\"2021-05-12T01:00:00+01:00\",\"2021-05-13T01:00:00+01:00\",\"2021-05-14T01:00:00+01:00\",\"2021-05-15T01:00:00+01:00\",\"2021-05-16T01:00:00+01:00\",\"2021-05-17T01:00:00+01:00\",\"2021-05-18T01:00:00+01:00\",\"2021-05-19T01:00:00+01:00\",\"2021-05-20T01:00:00+01:00\",\"2021-05-21T01:00:00+01:00\",\"2021-05-22T01:00:00+01:00\",\"2021-05-23T01:00:00+01:00\",\"2021-05-24T01:00:00+01:00\",\"2021-05-25T01:00:00+01:00\",\"2021-05-26T01:00:00+01:00\",\"2021-05-27T01:00:00+01:00\",\"2021-05-28T01:00:00+01:00\",\"2021-05-29T01:00:00+01:00\",\"2021-05-30T01:00:00+01:00\",\"2021-05-31T01:00:00+01:00\",\"2021-06-01T01:00:00+01:00\",\"2021-06-02T01:00:00+01:00\",\"2021-06-03T01:00:00+01:00\",\"2021-06-04T01:00:00+01:00\",\"2021-06-05T01:00:00+01:00\",\"2021-06-06T01:00:00+01:00\",\"2021-06-07T01:00:00+01:00\",\"2021-06-08T01:00:00+01:00\",\"2021-06-09T01:00:00+01:00\",\"2021-06-10T01:00:00+01:00\",\"2021-06-11T01:00:00+01:00\",\"2021-06-12T01:00:00+01:00\",\"2021-06-13T01:00:00+01:00\",\"2021-06-14T01:00:00+01:00\",\"2021-06-15T01:00:00+01:00\",\"2021-06-16T01:00:00+01:00\",\"2021-06-17T01:00:00+01:00\",\"2021-06-18T01:00:00+01:00\",\"2021-06-19T01:00:00+01:00\",\"2021-06-20T01:00:00+01:00\",\"2021-06-21T01:00:00+01:00\",\"2021-06-22T01:00:00+01:00\",\"2021-06-23T01:00:00+01:00\",\"2021-06-24T01:00:00+01:00\",\"2021-06-25T01:00:00+01:00\",\"2021-06-26T01:00:00+01:00\",\"2021-06-27T01:00:00+01:00\",\"2021-06-28T01:00:00+01:00\",\"2021-06-29T01:00:00+01:00\",\"2021-06-30T01:00:00+01:00\",\"2021-07-01T01:00:00+01:00\",\"2021-07-02T01:00:00+01:00\",\"2021-07-03T01:00:00+01:00\",\"2021-07-04T01:00:00+01:00\",\"2021-07-05T01:00:00+01:00\",\"2021-07-06T01:00:00+01:00\",\"2021-07-07T01:00:00+01:00\",\"2021-07-08T01:00:00+01:00\",\"2021-07-09T01:00:00+01:00\",\"2021-07-10T01:00:00+01:00\",\"2021-07-11T01:00:00+01:00\",\"2021-07-12T01:00:00+01:00\",\"2021-07-13T01:00:00+01:00\",\"2021-07-14T01:00:00+01:00\",\"2021-07-15T01:00:00+01:00\",\"2021-07-16T01:00:00+01:00\",\"2021-07-17T01:00:00+01:00\",\"2021-07-18T01:00:00+01:00\",\"2021-07-19T01:00:00+01:00\",\"2021-07-20T01:00:00+01:00\",\"2021-07-21T01:00:00+01:00\",\"2021-07-22T01:00:00+01:00\",\"2021-07-23T01:00:00+01:00\",\"2021-07-24T01:00:00+01:00\",\"2021-07-25T01:00:00+01:00\",\"2021-07-26T01:00:00+01:00\",\"2021-07-27T01:00:00+01:00\",\"2021-07-28T01:00:00+01:00\",\"2021-07-29T01:00:00+01:00\",\"2021-07-30T01:00:00+01:00\",\"2021-07-31T01:00:00+01:00\",\"2021-08-01T01:00:00+01:00\",\"2021-08-02T01:00:00+01:00\",\"2021-08-03T01:00:00+01:00\",\"2021-08-04T01:00:00+01:00\",\"2021-08-05T01:00:00+01:00\",\"2021-08-06T01:00:00+01:00\",\"2021-08-07T01:00:00+01:00\",\"2021-08-08T01:00:00+01:00\",\"2021-08-09T01:00:00+01:00\",\"2021-08-10T01:00:00+01:00\",\"2021-08-11T01:00:00+01:00\",\"2021-08-12T01:00:00+01:00\",\"2021-08-13T01:00:00+01:00\",\"2021-08-14T01:00:00+01:00\",\"2021-08-15T01:00:00+01:00\",\"2021-08-16T01:00:00+01:00\",\"2021-08-17T01:00:00+01:00\",\"2021-08-18T01:00:00+01:00\",\"2021-08-19T01:00:00+01:00\",\"2021-08-20T01:00:00+01:00\",\"2021-08-21T01:00:00+01:00\",\"2021-08-22T01:00:00+01:00\",\"2021-08-23T01:00:00+01:00\",\"2021-08-24T01:00:00+01:00\",\"2021-08-25T01:00:00+01:00\",\"2021-08-26T01:00:00+01:00\",\"2021-08-27T01:00:00+01:00\",\"2021-08-28T01:00:00+01:00\",\"2021-08-29T01:00:00+01:00\",\"2021-08-30T01:00:00+01:00\",\"2021-08-31T01:00:00+01:00\",\"2021-09-01T01:00:00+01:00\",\"2021-09-02T01:00:00+01:00\",\"2021-09-03T01:00:00+01:00\",\"2021-09-04T01:00:00+01:00\",\"2021-09-05T01:00:00+01:00\",\"2021-09-06T01:00:00+01:00\",\"2021-09-07T01:00:00+01:00\",\"2021-09-08T01:00:00+01:00\",\"2021-09-09T01:00:00+01:00\",\"2021-09-10T01:00:00+01:00\",\"2021-09-11T01:00:00+01:00\",\"2021-09-12T01:00:00+01:00\",\"2021-09-13T01:00:00+01:00\",\"2021-09-14T01:00:00+01:00\",\"2021-09-15T01:00:00+01:00\",\"2021-09-16T01:00:00+01:00\",\"2021-09-17T01:00:00+01:00\",\"2021-09-18T01:00:00+01:00\",\"2021-09-19T01:00:00+01:00\",\"2021-09-20T01:00:00+01:00\",\"2021-09-21T01:00:00+01:00\",\"2021-09-22T01:00:00+01:00\",\"2021-09-23T01:00:00+01:00\",\"2021-09-24T01:00:00+01:00\",\"2021-09-25T01:00:00+01:00\",\"2021-09-26T01:00:00+01:00\",\"2021-09-27T01:00:00+01:00\",\"2021-09-28T01:00:00+01:00\",\"2021-09-29T01:00:00+01:00\",\"2021-09-30T01:00:00+01:00\",\"2021-10-01T01:00:00+01:00\",\"2021-10-02T01:00:00+01:00\",\"2021-10-03T01:00:00+01:00\",\"2021-10-04T01:00:00+01:00\",\"2021-10-05T01:00:00+01:00\",\"2021-10-06T01:00:00+01:00\",\"2021-10-07T01:00:00+01:00\",\"2021-10-08T01:00:00+01:00\",\"2021-10-09T01:00:00+01:00\",\"2021-10-10T01:00:00+01:00\",\"2021-10-11T01:00:00+01:00\",\"2021-10-12T01:00:00+01:00\",\"2021-10-13T01:00:00+01:00\",\"2021-10-14T01:00:00+01:00\",\"2021-10-15T01:00:00+01:00\",\"2021-10-16T01:00:00+01:00\",\"2021-10-17T01:00:00+01:00\",\"2021-10-18T01:00:00+01:00\",\"2021-10-19T01:00:00+01:00\",\"2021-10-20T01:00:00+01:00\",\"2021-10-21T01:00:00+01:00\",\"2021-10-22T01:00:00+01:00\",\"2021-10-23T01:00:00+01:00\",\"2021-10-24T01:00:00+01:00\",\"2021-10-25T01:00:00+01:00\",\"2021-10-26T01:00:00+01:00\",\"2021-10-27T01:00:00+01:00\",\"2021-10-28T01:00:00+01:00\",\"2021-10-29T01:00:00+01:00\",\"2021-10-30T01:00:00+01:00\",\"2021-10-31T01:00:00+01:00\",\"2021-11-01T01:00:00+01:00\",\"2021-11-02T01:00:00+01:00\",\"2021-11-03T01:00:00+01:00\",\"2021-11-04T01:00:00+01:00\",\"2021-11-05T01:00:00+01:00\",\"2021-11-06T01:00:00+01:00\",\"2021-11-07T01:00:00+01:00\",\"2021-11-08T01:00:00+01:00\",\"2021-11-09T01:00:00+01:00\",\"2021-11-10T01:00:00+01:00\",\"2021-11-11T01:00:00+01:00\",\"2021-11-12T01:00:00+01:00\",\"2021-11-13T01:00:00+01:00\",\"2021-11-14T01:00:00+01:00\",\"2021-11-15T01:00:00+01:00\",\"2021-11-16T01:00:00+01:00\",\"2021-11-17T01:00:00+01:00\",\"2021-11-18T01:00:00+01:00\",\"2021-11-19T01:00:00+01:00\",\"2021-11-20T01:00:00+01:00\",\"2021-11-21T01:00:00+01:00\",\"2021-11-22T01:00:00+01:00\",\"2021-11-23T01:00:00+01:00\",\"2021-11-24T01:00:00+01:00\",\"2021-11-25T01:00:00+01:00\",\"2021-11-26T01:00:00+01:00\",\"2021-11-27T01:00:00+01:00\",\"2021-11-28T01:00:00+01:00\",\"2021-11-29T01:00:00+01:00\",\"2021-11-30T01:00:00+01:00\",\"2021-12-01T01:00:00+01:00\",\"2021-12-02T01:00:00+01:00\",\"2021-12-03T01:00:00+01:00\",\"2021-12-04T01:00:00+01:00\",\"2021-12-05T01:00:00+01:00\",\"2021-12-06T01:00:00+01:00\",\"2021-12-07T01:00:00+01:00\",\"2021-12-08T01:00:00+01:00\",\"2021-12-09T01:00:00+01:00\",\"2021-12-10T01:00:00+01:00\",\"2021-12-11T01:00:00+01:00\",\"2021-12-12T01:00:00+01:00\",\"2021-12-13T01:00:00+01:00\",\"2021-12-14T01:00:00+01:00\",\"2021-12-15T01:00:00+01:00\",\"2021-12-16T01:00:00+01:00\",\"2021-12-17T01:00:00+01:00\",\"2021-12-18T01:00:00+01:00\",\"2021-12-19T01:00:00+01:00\",\"2021-12-20T01:00:00+01:00\",\"2021-12-21T01:00:00+01:00\",\"2021-12-22T01:00:00+01:00\",\"2021-12-23T01:00:00+01:00\",\"2021-12-24T01:00:00+01:00\",\"2021-12-25T01:00:00+01:00\",\"2021-12-26T01:00:00+01:00\",\"2021-12-27T01:00:00+01:00\",\"2021-12-28T01:00:00+01:00\",\"2021-12-29T01:00:00+01:00\",\"2021-12-30T01:00:00+01:00\",\"2021-12-31T01:00:00+01:00\",\"2022-01-01T01:00:00+01:00\",\"2022-01-02T01:00:00+01:00\",\"2022-01-03T01:00:00+01:00\",\"2022-01-04T01:00:00+01:00\",\"2022-01-05T01:00:00+01:00\",\"2022-01-06T01:00:00+01:00\",\"2022-01-07T01:00:00+01:00\",\"2022-01-08T01:00:00+01:00\",\"2022-01-09T01:00:00+01:00\",\"2022-01-10T01:00:00+01:00\",\"2022-01-11T01:00:00+01:00\",\"2022-01-12T01:00:00+01:00\",\"2022-01-13T01:00:00+01:00\",\"2022-01-14T01:00:00+01:00\",\"2022-01-15T01:00:00+01:00\",\"2022-01-16T01:00:00+01:00\",\"2022-01-17T01:00:00+01:00\",\"2022-01-18T01:00:00+01:00\",\"2022-01-19T01:00:00+01:00\",\"2022-01-20T01:00:00+01:00\",\"2022-01-21T01:00:00+01:00\",\"2022-01-22T01:00:00+01:00\",\"2022-01-23T01:00:00+01:00\",\"2022-01-24T01:00:00+01:00\",\"2022-01-25T01:00:00+01:00\",\"2022-01-26T01:00:00+01:00\",\"2022-01-27T01:00:00+01:00\",\"2022-01-28T01:00:00+01:00\",\"2022-01-29T01:00:00+01:00\",\"2022-01-30T01:00:00+01:00\",\"2022-01-31T01:00:00+01:00\",\"2022-02-01T01:00:00+01:00\",\"2022-02-02T01:00:00+01:00\",\"2022-02-03T01:00:00+01:00\",\"2022-02-04T01:00:00+01:00\",\"2022-02-05T01:00:00+01:00\",\"2022-02-06T01:00:00+01:00\",\"2022-02-07T01:00:00+01:00\",\"2022-02-08T01:00:00+01:00\",\"2022-02-09T01:00:00+01:00\",\"2022-02-10T01:00:00+01:00\",\"2022-02-11T01:00:00+01:00\",\"2022-02-12T01:00:00+01:00\",\"2022-02-13T01:00:00+01:00\",\"2022-02-14T01:00:00+01:00\",\"2022-02-15T01:00:00+01:00\",\"2022-02-16T01:00:00+01:00\",\"2022-02-17T01:00:00+01:00\",\"2022-02-18T01:00:00+01:00\",\"2022-02-19T01:00:00+01:00\",\"2022-02-20T01:00:00+01:00\",\"2022-02-21T01:00:00+01:00\",\"2022-02-22T01:00:00+01:00\",\"2022-02-23T01:00:00+01:00\",\"2022-02-24T01:00:00+01:00\",\"2022-02-25T01:00:00+01:00\",\"2022-02-26T01:00:00+01:00\",\"2022-02-27T01:00:00+01:00\",\"2022-02-28T01:00:00+01:00\",\"2022-03-01T01:00:00+01:00\",\"2022-03-02T01:00:00+01:00\",\"2022-03-03T01:00:00+01:00\",\"2022-03-04T01:00:00+01:00\",\"2022-03-05T01:00:00+01:00\",\"2022-03-06T01:00:00+01:00\",\"2022-03-07T01:00:00+01:00\",\"2022-03-08T01:00:00+01:00\",\"2022-03-09T01:00:00+01:00\",\"2022-03-10T01:00:00+01:00\",\"2022-03-11T01:00:00+01:00\",\"2022-03-12T01:00:00+01:00\",\"2022-03-13T01:00:00+01:00\",\"2022-03-14T01:00:00+01:00\",\"2022-03-15T01:00:00+01:00\",\"2022-03-16T01:00:00+01:00\",\"2022-03-17T01:00:00+01:00\",\"2022-03-18T01:00:00+01:00\",\"2022-03-19T01:00:00+01:00\",\"2022-03-20T01:00:00+01:00\",\"2022-03-21T01:00:00+01:00\",\"2022-03-22T01:00:00+01:00\",\"2022-03-23T01:00:00+01:00\",\"2022-03-24T01:00:00+01:00\",\"2022-03-25T01:00:00+01:00\",\"2022-03-26T01:00:00+01:00\",\"2022-03-27T01:00:00+01:00\",\"2022-03-28T01:00:00+01:00\",\"2022-03-29T01:00:00+01:00\",\"2022-03-30T01:00:00+01:00\",\"2022-03-31T01:00:00+01:00\",\"2022-04-01T01:00:00+01:00\",\"2022-04-02T01:00:00+01:00\",\"2022-04-03T01:00:00+01:00\",\"2022-04-04T01:00:00+01:00\",\"2022-04-05T01:00:00+01:00\",\"2022-04-06T01:00:00+01:00\",\"2022-04-07T01:00:00+01:00\",\"2022-04-08T01:00:00+01:00\",\"2022-04-09T01:00:00+01:00\",\"2022-04-10T01:00:00+01:00\",\"2022-04-11T01:00:00+01:00\",\"2022-04-12T01:00:00+01:00\",\"2022-04-13T01:00:00+01:00\",\"2022-04-14T01:00:00+01:00\",\"2022-04-15T01:00:00+01:00\",\"2022-04-16T01:00:00+01:00\",\"2022-04-17T01:00:00+01:00\",\"2022-04-18T01:00:00+01:00\",\"2022-04-19T01:00:00+01:00\",\"2022-04-20T01:00:00+01:00\",\"2022-04-21T01:00:00+01:00\",\"2022-04-22T01:00:00+01:00\",\"2022-04-23T01:00:00+01:00\",\"2022-04-24T01:00:00+01:00\",\"2022-04-25T01:00:00+01:00\",\"2022-04-26T01:00:00+01:00\",\"2022-04-27T01:00:00+01:00\",\"2022-04-28T01:00:00+01:00\",\"2022-04-29T01:00:00+01:00\",\"2022-04-30T01:00:00+01:00\",\"2022-05-01T01:00:00+01:00\",\"2022-05-02T01:00:00+01:00\",\"2022-05-03T01:00:00+01:00\",\"2022-05-04T01:00:00+01:00\",\"2022-05-05T01:00:00+01:00\",\"2022-05-06T01:00:00+01:00\",\"2022-05-07T01:00:00+01:00\",\"2022-05-08T01:00:00+01:00\",\"2022-05-09T01:00:00+01:00\",\"2022-05-10T01:00:00+01:00\",\"2022-05-11T01:00:00+01:00\",\"2022-05-12T01:00:00+01:00\",\"2022-05-13T01:00:00+01:00\",\"2022-05-14T01:00:00+01:00\",\"2022-05-15T01:00:00+01:00\",\"2022-05-16T01:00:00+01:00\",\"2022-05-17T01:00:00+01:00\",\"2022-05-18T01:00:00+01:00\",\"2022-05-19T01:00:00+01:00\",\"2022-05-20T01:00:00+01:00\",\"2022-05-21T01:00:00+01:00\",\"2022-05-22T01:00:00+01:00\",\"2022-05-23T01:00:00+01:00\",\"2022-05-24T01:00:00+01:00\",\"2022-05-25T01:00:00+01:00\",\"2022-05-26T01:00:00+01:00\",\"2022-05-27T01:00:00+01:00\",\"2022-05-28T01:00:00+01:00\",\"2022-05-29T01:00:00+01:00\",\"2022-05-30T01:00:00+01:00\",\"2022-05-31T01:00:00+01:00\",\"2022-06-01T01:00:00+01:00\",\"2022-06-02T01:00:00+01:00\",\"2022-06-03T01:00:00+01:00\",\"2022-06-04T01:00:00+01:00\",\"2022-06-05T01:00:00+01:00\",\"2022-06-06T01:00:00+01:00\",\"2022-06-07T01:00:00+01:00\",\"2022-06-08T01:00:00+01:00\",\"2022-06-09T01:00:00+01:00\",\"2022-06-10T01:00:00+01:00\",\"2022-06-11T01:00:00+01:00\",\"2022-06-12T01:00:00+01:00\",\"2022-06-13T01:00:00+01:00\",\"2022-06-14T01:00:00+01:00\",\"2022-06-15T01:00:00+01:00\",\"2022-06-16T01:00:00+01:00\",\"2022-06-17T01:00:00+01:00\",\"2022-06-18T01:00:00+01:00\",\"2022-06-19T01:00:00+01:00\",\"2022-06-20T01:00:00+01:00\",\"2022-06-21T01:00:00+01:00\",\"2022-06-22T01:00:00+01:00\",\"2022-06-23T01:00:00+01:00\",\"2022-06-24T01:00:00+01:00\",\"2022-06-25T01:00:00+01:00\",\"2022-06-26T01:00:00+01:00\",\"2022-06-27T01:00:00+01:00\",\"2022-06-28T01:00:00+01:00\",\"2022-06-29T01:00:00+01:00\",\"2022-06-30T01:00:00+01:00\",\"2022-07-01T01:00:00+01:00\",\"2022-07-02T01:00:00+01:00\",\"2022-07-03T01:00:00+01:00\",\"2022-07-04T01:00:00+01:00\",\"2022-07-05T01:00:00+01:00\",\"2022-07-06T01:00:00+01:00\",\"2022-07-07T01:00:00+01:00\",\"2022-07-08T01:00:00+01:00\",\"2022-07-09T01:00:00+01:00\",\"2022-07-10T01:00:00+01:00\",\"2022-07-11T01:00:00+01:00\",\"2022-07-12T01:00:00+01:00\",\"2022-07-13T01:00:00+01:00\",\"2022-07-14T01:00:00+01:00\",\"2022-07-15T01:00:00+01:00\",\"2022-07-16T01:00:00+01:00\",\"2022-07-17T01:00:00+01:00\",\"2022-07-18T01:00:00+01:00\",\"2022-07-19T01:00:00+01:00\",\"2022-07-20T01:00:00+01:00\",\"2022-07-21T01:00:00+01:00\",\"2022-07-22T01:00:00+01:00\",\"2022-07-23T01:00:00+01:00\",\"2022-07-24T01:00:00+01:00\",\"2022-07-25T01:00:00+01:00\",\"2022-07-26T01:00:00+01:00\",\"2022-07-27T01:00:00+01:00\",\"2022-07-28T01:00:00+01:00\",\"2022-07-29T01:00:00+01:00\",\"2022-07-30T01:00:00+01:00\",\"2022-07-31T01:00:00+01:00\",\"2022-08-01T01:00:00+01:00\",\"2022-08-02T01:00:00+01:00\",\"2022-08-03T01:00:00+01:00\",\"2022-08-04T01:00:00+01:00\",\"2022-08-05T01:00:00+01:00\",\"2022-08-06T01:00:00+01:00\",\"2022-08-07T01:00:00+01:00\",\"2022-08-08T01:00:00+01:00\",\"2022-08-09T01:00:00+01:00\",\"2022-08-10T01:00:00+01:00\",\"2022-08-11T01:00:00+01:00\",\"2022-08-12T01:00:00+01:00\",\"2022-08-13T01:00:00+01:00\",\"2022-08-14T01:00:00+01:00\",\"2022-08-15T01:00:00+01:00\",\"2022-08-16T01:00:00+01:00\",\"2022-08-17T01:00:00+01:00\",\"2022-08-18T01:00:00+01:00\",\"2022-08-19T01:00:00+01:00\",\"2022-08-20T01:00:00+01:00\",\"2022-08-21T01:00:00+01:00\",\"2022-08-22T01:00:00+01:00\",\"2022-08-23T01:00:00+01:00\",\"2022-08-24T01:00:00+01:00\",\"2022-08-25T01:00:00+01:00\",\"2022-08-26T01:00:00+01:00\",\"2022-08-27T01:00:00+01:00\",\"2022-08-28T01:00:00+01:00\",\"2022-08-29T01:00:00+01:00\",\"2022-08-30T01:00:00+01:00\",\"2022-08-31T01:00:00+01:00\",\"2022-09-01T01:00:00+01:00\",\"2022-09-02T01:00:00+01:00\",\"2022-09-03T01:00:00+01:00\",\"2022-09-04T01:00:00+01:00\",\"2022-09-05T01:00:00+01:00\",\"2022-09-06T01:00:00+01:00\",\"2022-09-07T01:00:00+01:00\",\"2022-09-08T01:00:00+01:00\",\"2022-09-09T01:00:00+01:00\",\"2022-09-10T01:00:00+01:00\",\"2022-09-11T01:00:00+01:00\",\"2022-09-12T01:00:00+01:00\",\"2022-09-13T01:00:00+01:00\",\"2022-09-14T01:00:00+01:00\",\"2022-09-15T01:00:00+01:00\",\"2022-09-16T01:00:00+01:00\",\"2022-09-17T01:00:00+01:00\",\"2022-09-18T01:00:00+01:00\",\"2022-09-19T01:00:00+01:00\",\"2022-09-20T01:00:00+01:00\",\"2022-09-21T01:00:00+01:00\",\"2022-09-22T01:00:00+01:00\",\"2022-09-23T01:00:00+01:00\",\"2022-09-24T01:00:00+01:00\",\"2022-09-25T01:00:00+01:00\",\"2022-09-26T01:00:00+01:00\",\"2022-09-27T01:00:00+01:00\",\"2022-09-28T01:00:00+01:00\",\"2022-09-29T01:00:00+01:00\",\"2022-09-30T01:00:00+01:00\",\"2022-10-01T01:00:00+01:00\",\"2022-10-02T01:00:00+01:00\",\"2022-10-03T01:00:00+01:00\",\"2022-10-04T01:00:00+01:00\",\"2022-10-05T01:00:00+01:00\",\"2022-10-06T01:00:00+01:00\",\"2022-10-07T01:00:00+01:00\",\"2022-10-08T01:00:00+01:00\",\"2022-10-09T01:00:00+01:00\",\"2022-10-10T01:00:00+01:00\",\"2022-10-11T01:00:00+01:00\",\"2022-10-12T01:00:00+01:00\",\"2022-10-13T01:00:00+01:00\",\"2022-10-14T01:00:00+01:00\",\"2022-10-15T01:00:00+01:00\",\"2022-10-16T01:00:00+01:00\",\"2022-10-17T01:00:00+01:00\",\"2022-10-18T01:00:00+01:00\",\"2022-10-19T01:00:00+01:00\",\"2022-10-20T01:00:00+01:00\",\"2022-10-21T01:00:00+01:00\",\"2022-10-22T01:00:00+01:00\",\"2022-10-23T01:00:00+01:00\",\"2022-10-24T01:00:00+01:00\",\"2022-10-25T01:00:00+01:00\",\"2022-10-26T01:00:00+01:00\",\"2022-10-27T01:00:00+01:00\",\"2022-10-28T01:00:00+01:00\",\"2022-10-29T01:00:00+01:00\",\"2022-10-30T01:00:00+01:00\",\"2022-10-31T01:00:00+01:00\",\"2022-11-01T01:00:00+01:00\",\"2022-11-02T01:00:00+01:00\",\"2022-11-03T01:00:00+01:00\",\"2022-11-04T01:00:00+01:00\",\"2022-11-05T01:00:00+01:00\",\"2022-11-06T01:00:00+01:00\",\"2022-11-07T01:00:00+01:00\",\"2022-11-08T01:00:00+01:00\",\"2022-11-09T01:00:00+01:00\",\"2022-11-10T01:00:00+01:00\",\"2022-11-11T01:00:00+01:00\",\"2022-11-12T01:00:00+01:00\",\"2022-11-13T01:00:00+01:00\",\"2022-11-14T01:00:00+01:00\",\"2022-11-15T01:00:00+01:00\",\"2022-11-16T01:00:00+01:00\",\"2022-11-17T01:00:00+01:00\",\"2022-11-18T01:00:00+01:00\",\"2022-11-19T01:00:00+01:00\",\"2022-11-20T01:00:00+01:00\",\"2022-11-21T01:00:00+01:00\",\"2022-11-22T01:00:00+01:00\",\"2022-11-23T01:00:00+01:00\",\"2022-11-24T01:00:00+01:00\",\"2022-11-25T01:00:00+01:00\",\"2022-11-26T01:00:00+01:00\",\"2022-11-27T01:00:00+01:00\",\"2022-11-28T01:00:00+01:00\",\"2022-11-29T01:00:00+01:00\",\"2022-11-30T01:00:00+01:00\",\"2022-12-01T01:00:00+01:00\",\"2022-12-02T01:00:00+01:00\",\"2022-12-03T01:00:00+01:00\",\"2022-12-04T01:00:00+01:00\",\"2022-12-05T01:00:00+01:00\",\"2022-12-06T01:00:00+01:00\",\"2022-12-07T01:00:00+01:00\",\"2022-12-08T01:00:00+01:00\",\"2022-12-09T01:00:00+01:00\",\"2022-12-10T01:00:00+01:00\",\"2022-12-11T01:00:00+01:00\",\"2022-12-12T01:00:00+01:00\",\"2022-12-13T01:00:00+01:00\",\"2022-12-14T01:00:00+01:00\",\"2022-12-15T01:00:00+01:00\",\"2022-12-16T01:00:00+01:00\",\"2022-12-17T01:00:00+01:00\",\"2022-12-18T01:00:00+01:00\",\"2022-12-19T01:00:00+01:00\",\"2022-12-20T01:00:00+01:00\",\"2022-12-21T01:00:00+01:00\",\"2022-12-22T01:00:00+01:00\",\"2022-12-23T01:00:00+01:00\",\"2022-12-24T01:00:00+01:00\",\"2022-12-25T01:00:00+01:00\",\"2022-12-26T01:00:00+01:00\",\"2022-12-27T01:00:00+01:00\",\"2022-12-28T01:00:00+01:00\",\"2022-12-29T01:00:00+01:00\",\"2022-12-30T01:00:00+01:00\",\"2022-12-31T01:00:00+01:00\"],\"xaxis\":\"x\",\"y\":[28.447082509620905,29.774513622445184,28.666744697503198,28.634520361964594,28.235980273956372,27.61005393582577,28.002022406949084,27.627365833051385,27.266281542041842,27.280169005123835,28.069972817032102,27.66016135004809,28.0914440786226,28.47193712687086,27.92720866779381,27.267884411844577,27.191993280773946,27.025072391129065,27.292664352523722,27.1091253064237,26.55197982666487,26.153977789920486,26.4624236570464,26.6466719828576,27.330816350327193,28.773467019665762,28.875715965609906,28.948549327619254,28.99795950877968,28.651578304759397,28.817896956674144,28.845628490857095,28.648955374577387,29.180423657963562,29.026532320389386,29.035586760635905,28.535497905475655,28.73382067151024,28.429276681451253,28.886582801146634,28.93768134097168,29.114214296883304,28.773399469256,28.841893142307672,27.58814752060454,28.127689404533005,27.72244090532062,26.867997441261785,27.19439579479107,27.14741951974141,27.103684368270226,27.068933763500798,25.9824258490049,26.1868084545489,25.758732185837232,26.26209687796026,26.972084624262568,27.384380889922028,27.645020533229882,27.734431249740503,27.71404293168711,27.642450962606492,28.444520446837757,28.663453960354598,29.087657572760126,28.765658035919955,29.079371744717513,28.310100545419623,27.42421464253845,27.401455417943616,27.403916760418003,26.811240387883473,26.984009050292563,26.350669562266987,27.131913444360098,26.862358690795652,27.148811202264515,26.202267277361916,25.83525046972607,25.982234923033005,25.766264236025652,25.94165347213576,26.86910214900721,26.81207253990507,25.942954751444006,26.886893170182592,26.182225818140594,26.054539618705604,26.317577619084478,25.97704034866766,26.78115450151305,27.503458776398897,27.84257258357487,27.960088509942118,27.056712387955077,26.927559472227003,27.534877006627017,25.15700742069567,25.052461397640403,25.24171401186803,31.642694618658922,29.227867708700828,30.00194480119925,31.545446971448854,29.38196950130702,28.945282383606468,26.437202938165516,26.003946718333346,26.545825491035174,27.631267114190738,27.257801368819052,26.822921310232182,27.4803138161203,26.6135816335177,26.150433282450777,27.72853616133675,28.95138812282949,29.514112726026315,31.314359458545532,30.313095991275084,30.33054363612741,32.501355363499954,30.534273011012424,31.992079483630143,32.354278383266475,31.95814704845525,30.47919653284593,29.0660889036686,28.521474609660203,28.200229535069294,30.351463432908535,30.77066983159859,31.560524190815883,31.990721220262607,31.486281021628365,31.90673749088423,33.088524618231,32.77171253439923,33.34185393955021,33.966480345068796,35.027253392544765,33.03507789154198,32.596946681238386,32.02071670957646,30.532893103837793,31.854023024704237,31.741061803015707,32.155420278253494,31.889750109240637,31.582900748595925,31.783024261588313,32.62059944802997,33.233493994997616,33.74624725835225,33.75183018578221,34.678519615613546,34.353861752483915,34.12818131432915,34.4703345670959,34.37096481811223,34.34242361668553,35.32278119746813,34.68413166498685,34.33522184009576,34.05474018151706,34.31525411049116,34.26535022782896,34.32184748563876,34.913918073225204,34.05114403787639,34.5745835118372,34.517282829528476,34.571831841360975,34.5922928365861,34.82028026782406,34.789523275249316,35.814903378247315,35.48159603519427,35.933387961820365,34.28399403072434,34.48460361672234,33.76980478516636,34.19057027314729,33.96127623535333,34.484050691726495,33.9418759555779,34.501690688666145,34.69335096472738,34.3339837919067,35.33019092013158,34.38184716169597,34.150818851289316,34.61118763029558,34.958068585845176,35.82902881449779,34.78229816185858,32.75404390227515,32.95736712849371,31.893972386731306,32.62868116243654,32.48176045309248,33.51528845118647,34.01185201805133,33.23563053162958,32.202047762276,32.409128067524385,33.30955285795358,33.40104600567916,32.43576458973478,33.71422005246641,33.25308629335544,32.88387275257355,33.14396121612502,31.236999439363352,32.106568650730246,32.23839574678439,30.575900984204992,32.035651671304024,31.829576550118084,32.84221853424682,32.54777227632057,33.78779215109517,33.352442311302454,30.6218597444801,32.79800761323993,31.712809114520187,29.61978009674901,32.72427512806424,31.01211039945764,27.80595171305344,30.852227125002894,30.264514939028782,27.568402527909573,29.51611143423998,29.72055113078184,30.58605585991814,30.867892616965175,29.905508338388724,30.997658524203807,29.73368171861665,30.58517113822234,30.18978370414373,27.695436262633965,29.362534816424805,29.750209741914805,30.260923339556754,26.927623448751458,26.750759112675993,28.658791365955825,28.54348882031508,28.951944221968752,29.549163708577346,30.363605316016955,29.432445496002423,29.632166398763676,28.987749587811887,28.80311032986433,29.859268513844007,27.027684406812305,27.792745477545687,26.374036886064808,27.454060541526914,28.630625281168587,28.461120041719212,27.184455260103174,27.25798060125502,28.068374785860055,27.38452207734463,26.439926055686076,27.317323284814865,28.865363961003986,29.148798998925344,27.010597739253797,26.827807098059978,27.182986243052802,28.164026275463552,26.601379132642876,28.21052443822393,27.432441512900915,27.18965172716174,27.66112820388431,27.027620054892004,25.362834216171798,26.75674855712209,25.953393952076677,25.083616915163567,26.4010701667228,25.825505962956747,27.226568456623422,27.33433443140228,25.997165469456238,27.373932151187645,28.556577559516047,26.405501728205465,26.333810871436057,27.04520813196719,27.146512051913792,26.4385537579819,27.502539520835516,26.303436153949903,27.850749018667347,27.62554890900485,27.546300938758222,27.461079064695138,27.872477566459384,26.81991496572639,28.895308451464512,27.64310245890655,27.392755648105908,29.08346973011549,28.107570229033048,27.58093774782487,29.38421400180662,29.42719709246961,28.62323138236411,29.218626429638977,29.417019361035447,29.312652341430276,30.39933305758931,30.225459168376414,30.232293752061537,29.35964787313706,28.29935685485282,28.65553521083063,28.477219987902316,29.21618515309011,29.088856738258,29.587282972773803,29.551929417918515,28.952221660540612,29.412755960909035,30.05469464986851,30.260417844360347,31.271415133097474,31.600857085384035,32.06615061651423,31.703916659175057,31.10870039606577,31.307534112063834,31.349339984881333,31.641345906809857,31.69238457044905,31.150599067336724,31.22290853580373,30.583297005557874,31.534284772029068,31.807392098997493,30.833144383044637,29.933406966285126,30.34531316917558,30.343131840024718,31.307856565896117,30.975636768716488,30.975422677619367,30.96631488804223,30.880420767556817,31.198671801798202,30.42093027519488,29.882220148601117,30.71088020019062,30.69487754346669,30.165162971878754,31.159674280433556,31.310137464557446,30.587860327423584,31.313067769852722,31.56154107978279,31.94400013635765,31.892837022147358,31.71266290730489,30.74928068454113,30.674212947071496,30.227249479865055,29.87819650185781,30.55023604458536,30.464014168639867,30.29663837653587,30.06438701264733,29.37784780324899,29.70198578702191,30.50033761498122,30.48604583501503,30.312607090442494,30.171773025833215,30.30646250479324,29.746606056678964,29.860093573306592,31.633762708262985,30.072071941394245,29.701252259298023,29.795663407312638,28.673945662753844,29.033319411653274,29.198020708571693,29.133270202763214,28.04565891386068,28.48529578659528,28.060786054736948,27.98179883368558,27.474752750788063,27.305237914660623,26.9651733973564,27.533189067220295,27.692245555917747,27.934832155142047,27.83571708308498,27.991038517490434,27.66718717981504,27.47162094466382,25.998632840680784,25.693323455886176,25.289935751276026,25.341982392105045,25.555777947796656,26.536948752082008,26.103645705857826,26.00805582174563,26.00144921432764,24.878051592662615,25.213165460586332,25.00146265833887,24.985906634339926,24.947406185200787,24.96091113250519,24.78543001597759,24.584328630049782,24.008064705962877,23.934854116639187,25.722120042705765,23.173740073708593,23.838240388696924,24.018584033256403,23.343822537475116,23.73914284121448,26.68478749515558,26.322685680350812,25.63025658377421,25.36911549612863,24.528465042092755,22.716697245841726,23.657177544475683,23.821975070069364,23.687686772311153,24.455551835250816,24.229205987561862,23.167949926094735,24.401882785340213,23.800481022928928,24.77913180742774,25.58272658550755,25.42435822630338,26.7494472690386,26.112164642387107,25.2536012510988,24.525553012552816,24.878554113500847,24.6948135854501,24.711388741774247,25.3074844823193,26.123731531374982,25.83824957141925,27.3863918901622,27.267063756003314,26.604973227403164,27.058650597047006,26.48628459921981,26.658730262666342,27.2780171640875,27.50996439922239,29.446116553052438,29.277718350335682,29.917649593543636,30.06877571728861,28.84119241399688,28.576246063030965,29.227503749673808,29.477383270167458,30.69802173286794,30.692619431198562,30.24901290014391,31.081986083575416,28.814271639437873,30.272542218016547,31.19507484196415,30.45286407948903,30.839516205362337,31.09873959847416,30.74741099653023,29.3926965538031,30.203790398491236,30.984230086192788,30.88497913182824,32.56967139727403,32.326777279863585,32.24506916587704,32.715941305209604,32.6548998077441,32.74097213194043,33.11760369411138,33.6040772045314,34.00192543625025,33.620140404360306,32.53519671415155,33.367725306452684,33.1416008126793,31.29496732243885,31.272624465144396,33.291939610419185,33.09383384584208,33.039272118310734,33.20181368309568,33.192113268288466,33.518767130091554,33.20783465415569,33.78071120265179,34.529067195734726,35.01706235175858,34.99863233350732,34.609955757357156,35.221991436561325,35.32185203451116,34.84560330569585,34.88019079012109,33.81494213627589,35.04231489730296,35.16417595495768,34.070199064724534,30.81079197741703,30.96325076018305,31.70377159382416,31.657176329285427,33.0675892940112,33.72580168641494,34.22310772964396,34.30862425146172,34.41534436149226,33.35457116656981,34.22965619662878,34.195666644264136,32.921892056138816,32.5648154509351,33.538718312063416,33.53067032281866,33.961039605499174,33.74963196564342,33.62359570501551,34.62845831507289,35.58637767666797,34.60035523924117,35.9712183844791,35.72489225756576,34.09063410371802,34.58822690357627,35.475096645428586,35.10834307368256,35.069798291372564,35.5759779664063,34.86197120957216,35.38251244943189,35.520521900264875,34.45564851158011,34.97218700108281,33.04071362245004,32.07447353435859,29.59292956512285,31.15539700833677,32.255306649085256,31.568757251528723,33.36182802613179,34.39023383881408,34.02864927286369,29.39963620069778,29.75332447027638,32.96136444143225,32.88732917908414,33.30014482780381,32.87822766662091,33.714388281112704,31.505941979125936,31.32962011325534,29.03612656299289,31.525834855809087,33.23363992501205,30.20355753961245,29.69914254839437,29.729989677075253,30.48079814387343,30.07075314538226,28.667492649177067,28.24578395259944,28.17844636730168,29.60771672637284,29.350334648736418,29.051589553849524,28.398328698634824,29.136450922022064,29.249425889785932,27.606218990292877,30.11585707196279,29.150344690403408,30.329389390141635,27.66147877670059,29.01752256083424,29.26525268048778,28.74920249644697,27.54247380052897,28.09544622938243,27.403370545907364,28.56648503891028,29.36863519706519,29.53533098338212,29.140700812481313,30.384212965727347,29.80031977477434,28.691786092724346,27.9146324048885,28.184447579265118,29.170051631090388,27.598157798086483,28.71973338938286,28.791393820875488,25.610008604401877,25.943038603004396,27.517558414517545,27.09809977775447,28.54088869999708,26.751985695443846,28.642643333011865,27.866045733126164,27.959909274887984,27.86038922163641,27.456618064418286,27.73682638977747,28.633129789491708,25.38533111118185,26.988167212799443,27.154199138337702,26.557446307732356,26.093187802587266,26.449190972642203,28.6578564287387,26.585847646120925,27.052144311159932,27.32828419937673,27.422510666697004,27.68727796970578,28.231968633559482,26.2284291822834,27.67408239459813,25.866381873444404,25.641496548034972,27.254904088069544,27.805025992958484,26.089021389752343,27.69694813075343,27.575817123854186,25.82532738917078,25.720795983261592,26.872628646345404,26.28341435845728,25.397198866914195,25.502476489677903,25.857917924019755,25.545626390139574,26.24708596856604,25.836878186292385,25.991305278598347,26.592369258057698,27.186778799561345,28.441120158830103,26.873508922517022,28.161336676617996,27.337018791052397,26.340155031148644,25.702402835276814,26.74371187564076,26.658834942941073,25.807485319954704,27.69624138904002,27.354114985385646,26.53191301106339,26.59667770969807,26.33586631025834,26.948546364922706,26.154015229661127,26.65157876738494,27.687877960990477,27.256878113897972,27.60068863320165,28.139022030290395,26.86310372988984,26.655830517682958,27.88742581672449,27.34513817095171,26.955929724043706,26.68977549695473,27.574500982375966,28.216274032097793,28.536891788203814,28.994067697554264,27.164649035461252,28.430641631658613,28.676071127030756,28.06673802851519,28.92325455910176,28.769661818714262,29.732807836267323,29.225817179827075,28.930228961234928,29.070107708830903,28.779559864765574,30.123789649748467,30.095999933299105,30.342431012463297,30.40779644109399,29.71484100671319,29.410810525347085,29.45639272250483,29.862795133442177,31.026836972625667,30.470470551509877,30.271244239752985,29.810848620071948,29.304092468577316,28.63909157570413,28.99954578133218,29.15348010014937,29.32316492117344,29.443679339761275,29.25381946558495,29.137139063645364,28.773994913395804,29.25477289779485,28.34006228896271,29.142303034588373,28.965329263861825,28.4498166771872,29.368350071275376,29.034296995207296,29.12518065110999,27.540651327884582,26.95918875163361,27.24663232918863,26.55177609659343,27.427297574228067,27.628464532504665,27.951024214223665,27.494659087688326,27.333180736700434,27.02822240009475,26.233926259584063,27.46948172137278,26.6986237976288,26.529294395806588,26.874220428123152,27.504017607676513,27.111960648161478,28.353656073814236,28.6064110730699,29.283283674173518,29.80690943730627,29.084251715387413,28.750979136766546,28.058050338766442,27.2259227415065,26.81022168838308,26.329890772456455,26.712993038718817,26.411529157899675,26.65832881688904,26.8440406308314,26.347031542584187,26.861439018616917,27.22144997398458,27.11558840123449,26.534139605007027,26.625952581879194,25.48073523575602,24.681183206828834,24.25484503601821,24.254119736080057,23.563387375815537,25.041480310415043,25.22108491707183,24.776635033813836,25.114222242396828],\"yaxis\":\"y\",\"type\":\"scattergl\"}],                        {\"template\":{\"data\":{\"histogram2dcontour\":[{\"type\":\"histogram2dcontour\",\"colorbar\":{\"outlinewidth\":0,\"ticks\":\"\"},\"colorscale\":[[0.0,\"#0d0887\"],[0.1111111111111111,\"#46039f\"],[0.2222222222222222,\"#7201a8\"],[0.3333333333333333,\"#9c179e\"],[0.4444444444444444,\"#bd3786\"],[0.5555555555555556,\"#d8576b\"],[0.6666666666666666,\"#ed7953\"],[0.7777777777777778,\"#fb9f3a\"],[0.8888888888888888,\"#fdca26\"],[1.0,\"#f0f921\"]]}],\"choropleth\":[{\"type\":\"choropleth\",\"colorbar\":{\"outlinewidth\":0,\"ticks\":\"\"}}],\"histogram2d\":[{\"type\":\"histogram2d\",\"colorbar\":{\"outlinewidth\":0,\"ticks\":\"\"},\"colorscale\":[[0.0,\"#0d0887\"],[0.1111111111111111,\"#46039f\"],[0.2222222222222222,\"#7201a8\"],[0.3333333333333333,\"#9c179e\"],[0.4444444444444444,\"#bd3786\"],[0.5555555555555556,\"#d8576b\"],[0.6666666666666666,\"#ed7953\"],[0.7777777777777778,\"#fb9f3a\"],[0.8888888888888888,\"#fdca26\"],[1.0,\"#f0f921\"]]}],\"heatmap\":[{\"type\":\"heatmap\",\"colorbar\":{\"outlinewidth\":0,\"ticks\":\"\"},\"colorscale\":[[0.0,\"#0d0887\"],[0.1111111111111111,\"#46039f\"],[0.2222222222222222,\"#7201a8\"],[0.3333333333333333,\"#9c179e\"],[0.4444444444444444,\"#bd3786\"],[0.5555555555555556,\"#d8576b\"],[0.6666666666666666,\"#ed7953\"],[0.7777777777777778,\"#fb9f3a\"],[0.8888888888888888,\"#fdca26\"],[1.0,\"#f0f921\"]]}],\"heatmapgl\":[{\"type\":\"heatmapgl\",\"colorbar\":{\"outlinewidth\":0,\"ticks\":\"\"},\"colorscale\":[[0.0,\"#0d0887\"],[0.1111111111111111,\"#46039f\"],[0.2222222222222222,\"#7201a8\"],[0.3333333333333333,\"#9c179e\"],[0.4444444444444444,\"#bd3786\"],[0.5555555555555556,\"#d8576b\"],[0.6666666666666666,\"#ed7953\"],[0.7777777777777778,\"#fb9f3a\"],[0.8888888888888888,\"#fdca26\"],[1.0,\"#f0f921\"]]}],\"contourcarpet\":[{\"type\":\"contourcarpet\",\"colorbar\":{\"outlinewidth\":0,\"ticks\":\"\"}}],\"contour\":[{\"type\":\"contour\",\"colorbar\":{\"outlinewidth\":0,\"ticks\":\"\"},\"colorscale\":[[0.0,\"#0d0887\"],[0.1111111111111111,\"#46039f\"],[0.2222222222222222,\"#7201a8\"],[0.3333333333333333,\"#9c179e\"],[0.4444444444444444,\"#bd3786\"],[0.5555555555555556,\"#d8576b\"],[0.6666666666666666,\"#ed7953\"],[0.7777777777777778,\"#fb9f3a\"],[0.8888888888888888,\"#fdca26\"],[1.0,\"#f0f921\"]]}],\"surface\":[{\"type\":\"surface\",\"colorbar\":{\"outlinewidth\":0,\"ticks\":\"\"},\"colorscale\":[[0.0,\"#0d0887\"],[0.1111111111111111,\"#46039f\"],[0.2222222222222222,\"#7201a8\"],[0.3333333333333333,\"#9c179e\"],[0.4444444444444444,\"#bd3786\"],[0.5555555555555556,\"#d8576b\"],[0.6666666666666666,\"#ed7953\"],[0.7777777777777778,\"#fb9f3a\"],[0.8888888888888888,\"#fdca26\"],[1.0,\"#f0f921\"]]}],\"mesh3d\":[{\"type\":\"mesh3d\",\"colorbar\":{\"outlinewidth\":0,\"ticks\":\"\"}}],\"scatter\":[{\"fillpattern\":{\"fillmode\":\"overlay\",\"size\":10,\"solidity\":0.2},\"type\":\"scatter\"}],\"parcoords\":[{\"type\":\"parcoords\",\"line\":{\"colorbar\":{\"outlinewidth\":0,\"ticks\":\"\"}}}],\"scatterpolargl\":[{\"type\":\"scatterpolargl\",\"marker\":{\"colorbar\":{\"outlinewidth\":0,\"ticks\":\"\"}}}],\"bar\":[{\"error_x\":{\"color\":\"#2a3f5f\"},\"error_y\":{\"color\":\"#2a3f5f\"},\"marker\":{\"line\":{\"color\":\"#E5ECF6\",\"width\":0.5},\"pattern\":{\"fillmode\":\"overlay\",\"size\":10,\"solidity\":0.2}},\"type\":\"bar\"}],\"scattergeo\":[{\"type\":\"scattergeo\",\"marker\":{\"colorbar\":{\"outlinewidth\":0,\"ticks\":\"\"}}}],\"scatterpolar\":[{\"type\":\"scatterpolar\",\"marker\":{\"colorbar\":{\"outlinewidth\":0,\"ticks\":\"\"}}}],\"histogram\":[{\"marker\":{\"pattern\":{\"fillmode\":\"overlay\",\"size\":10,\"solidity\":0.2}},\"type\":\"histogram\"}],\"scattergl\":[{\"type\":\"scattergl\",\"marker\":{\"colorbar\":{\"outlinewidth\":0,\"ticks\":\"\"}}}],\"scatter3d\":[{\"type\":\"scatter3d\",\"line\":{\"colorbar\":{\"outlinewidth\":0,\"ticks\":\"\"}},\"marker\":{\"colorbar\":{\"outlinewidth\":0,\"ticks\":\"\"}}}],\"scattermapbox\":[{\"type\":\"scattermapbox\",\"marker\":{\"colorbar\":{\"outlinewidth\":0,\"ticks\":\"\"}}}],\"scatterternary\":[{\"type\":\"scatterternary\",\"marker\":{\"colorbar\":{\"outlinewidth\":0,\"ticks\":\"\"}}}],\"scattercarpet\":[{\"type\":\"scattercarpet\",\"marker\":{\"colorbar\":{\"outlinewidth\":0,\"ticks\":\"\"}}}],\"carpet\":[{\"aaxis\":{\"endlinecolor\":\"#2a3f5f\",\"gridcolor\":\"white\",\"linecolor\":\"white\",\"minorgridcolor\":\"white\",\"startlinecolor\":\"#2a3f5f\"},\"baxis\":{\"endlinecolor\":\"#2a3f5f\",\"gridcolor\":\"white\",\"linecolor\":\"white\",\"minorgridcolor\":\"white\",\"startlinecolor\":\"#2a3f5f\"},\"type\":\"carpet\"}],\"table\":[{\"cells\":{\"fill\":{\"color\":\"#EBF0F8\"},\"line\":{\"color\":\"white\"}},\"header\":{\"fill\":{\"color\":\"#C8D4E3\"},\"line\":{\"color\":\"white\"}},\"type\":\"table\"}],\"barpolar\":[{\"marker\":{\"line\":{\"color\":\"#E5ECF6\",\"width\":0.5},\"pattern\":{\"fillmode\":\"overlay\",\"size\":10,\"solidity\":0.2}},\"type\":\"barpolar\"}],\"pie\":[{\"automargin\":true,\"type\":\"pie\"}]},\"layout\":{\"autotypenumbers\":\"strict\",\"colorway\":[\"#636efa\",\"#EF553B\",\"#00cc96\",\"#ab63fa\",\"#FFA15A\",\"#19d3f3\",\"#FF6692\",\"#B6E880\",\"#FF97FF\",\"#FECB52\"],\"font\":{\"color\":\"#2a3f5f\"},\"hovermode\":\"closest\",\"hoverlabel\":{\"align\":\"left\"},\"paper_bgcolor\":\"white\",\"plot_bgcolor\":\"#E5ECF6\",\"polar\":{\"bgcolor\":\"#E5ECF6\",\"angularaxis\":{\"gridcolor\":\"white\",\"linecolor\":\"white\",\"ticks\":\"\"},\"radialaxis\":{\"gridcolor\":\"white\",\"linecolor\":\"white\",\"ticks\":\"\"}},\"ternary\":{\"bgcolor\":\"#E5ECF6\",\"aaxis\":{\"gridcolor\":\"white\",\"linecolor\":\"white\",\"ticks\":\"\"},\"baxis\":{\"gridcolor\":\"white\",\"linecolor\":\"white\",\"ticks\":\"\"},\"caxis\":{\"gridcolor\":\"white\",\"linecolor\":\"white\",\"ticks\":\"\"}},\"coloraxis\":{\"colorbar\":{\"outlinewidth\":0,\"ticks\":\"\"}},\"colorscale\":{\"sequential\":[[0.0,\"#0d0887\"],[0.1111111111111111,\"#46039f\"],[0.2222222222222222,\"#7201a8\"],[0.3333333333333333,\"#9c179e\"],[0.4444444444444444,\"#bd3786\"],[0.5555555555555556,\"#d8576b\"],[0.6666666666666666,\"#ed7953\"],[0.7777777777777778,\"#fb9f3a\"],[0.8888888888888888,\"#fdca26\"],[1.0,\"#f0f921\"]],\"sequentialminus\":[[0.0,\"#0d0887\"],[0.1111111111111111,\"#46039f\"],[0.2222222222222222,\"#7201a8\"],[0.3333333333333333,\"#9c179e\"],[0.4444444444444444,\"#bd3786\"],[0.5555555555555556,\"#d8576b\"],[0.6666666666666666,\"#ed7953\"],[0.7777777777777778,\"#fb9f3a\"],[0.8888888888888888,\"#fdca26\"],[1.0,\"#f0f921\"]],\"diverging\":[[0,\"#8e0152\"],[0.1,\"#c51b7d\"],[0.2,\"#de77ae\"],[0.3,\"#f1b6da\"],[0.4,\"#fde0ef\"],[0.5,\"#f7f7f7\"],[0.6,\"#e6f5d0\"],[0.7,\"#b8e186\"],[0.8,\"#7fbc41\"],[0.9,\"#4d9221\"],[1,\"#276419\"]]},\"xaxis\":{\"gridcolor\":\"white\",\"linecolor\":\"white\",\"ticks\":\"\",\"title\":{\"standoff\":15},\"zerolinecolor\":\"white\",\"automargin\":true,\"zerolinewidth\":2},\"yaxis\":{\"gridcolor\":\"white\",\"linecolor\":\"white\",\"ticks\":\"\",\"title\":{\"standoff\":15},\"zerolinecolor\":\"white\",\"automargin\":true,\"zerolinewidth\":2},\"scene\":{\"xaxis\":{\"backgroundcolor\":\"#E5ECF6\",\"gridcolor\":\"white\",\"linecolor\":\"white\",\"showbackground\":true,\"ticks\":\"\",\"zerolinecolor\":\"white\",\"gridwidth\":2},\"yaxis\":{\"backgroundcolor\":\"#E5ECF6\",\"gridcolor\":\"white\",\"linecolor\":\"white\",\"showbackground\":true,\"ticks\":\"\",\"zerolinecolor\":\"white\",\"gridwidth\":2},\"zaxis\":{\"backgroundcolor\":\"#E5ECF6\",\"gridcolor\":\"white\",\"linecolor\":\"white\",\"showbackground\":true,\"ticks\":\"\",\"zerolinecolor\":\"white\",\"gridwidth\":2}},\"shapedefaults\":{\"line\":{\"color\":\"#2a3f5f\"}},\"annotationdefaults\":{\"arrowcolor\":\"#2a3f5f\",\"arrowhead\":0,\"arrowwidth\":1},\"geo\":{\"bgcolor\":\"white\",\"landcolor\":\"#E5ECF6\",\"subunitcolor\":\"white\",\"showland\":true,\"showlakes\":true,\"lakecolor\":\"white\"},\"title\":{\"x\":0.05},\"mapbox\":{\"style\":\"light\"}}},\"xaxis\":{\"anchor\":\"y\",\"domain\":[0.0,1.0],\"title\":{\"text\":\"date\"}},\"yaxis\":{\"anchor\":\"x\",\"domain\":[0.0,1.0],\"title\":{\"text\":\"Air Temp.\"}},\"legend\":{\"title\":{\"text\":\"variable\"},\"tracegroupgap\":0},\"margin\":{\"t\":60}},                        {\"responsive\": true}                    ).then(function(){\n",
              "                            \n",
              "var gd = document.getElementById('1be9a382-5169-48e5-a991-3f3d1573a070');\n",
              "var x = new MutationObserver(function (mutations, observer) {{\n",
              "        var display = window.getComputedStyle(gd).display;\n",
              "        if (!display || display === 'none') {{\n",
              "            console.log([gd, 'removed!']);\n",
              "            Plotly.purge(gd);\n",
              "            observer.disconnect();\n",
              "        }}\n",
              "}});\n",
              "\n",
              "// Listen for the removal of the full notebook cells\n",
              "var notebookContainer = gd.closest('#notebook-container');\n",
              "if (notebookContainer) {{\n",
              "    x.observe(notebookContainer, {childList: true});\n",
              "}}\n",
              "\n",
              "// Listen for the clearing of the current output cell\n",
              "var outputEl = gd.closest('.output');\n",
              "if (outputEl) {{\n",
              "    x.observe(outputEl, {childList: true});\n",
              "}}\n",
              "\n",
              "                        })                };                            </script>        </div>\n",
              "</body>\n",
              "</html>"
            ]
          },
          "metadata": {}
        }
      ],
      "source": [
        "fig = px.line(df_pred_test, labels={\"value\": \"Air Temp.\"})\n",
        "fig.show()"
      ]
    },
    {
      "cell_type": "code",
      "source": [
        "data_forecast = y_test.loc['2022-12-28': '2022-12-31']\n",
        "\n",
        "len(data_forecast)"
      ],
      "metadata": {
        "colab": {
          "base_uri": "https://localhost:8080/"
        },
        "id": "R85RxEi5eaQn",
        "outputId": "4c503288-325e-4a9d-a30e-b606b73e2701"
      },
      "execution_count": 36,
      "outputs": [
        {
          "output_type": "execute_result",
          "data": {
            "text/plain": [
              "4"
            ]
          },
          "metadata": {},
          "execution_count": 36
        }
      ]
    },
    {
      "cell_type": "code",
      "execution_count": 37,
      "metadata": {
        "colab": {
          "base_uri": "https://localhost:8080/"
        },
        "id": "FQUzVlmZdOVE",
        "outputId": "c674dffd-b0d9-422f-ca2b-f2fbcd4470a8"
      },
      "outputs": [
        {
          "output_type": "stream",
          "name": "stderr",
          "text": [
            "<ipython-input-37-a057e4b76530>:1: FutureWarning:\n",
            "\n",
            "The default dtype for empty Series will be 'object' instead of 'float64' in a future version. Specify a dtype explicitly to silence this warning.\n",
            "\n",
            "/usr/local/lib/python3.10/dist-packages/statsmodels/tsa/base/tsa_model.py:473: ValueWarning:\n",
            "\n",
            "No frequency information was provided, so inferred frequency D will be used.\n",
            "\n",
            "/usr/local/lib/python3.10/dist-packages/statsmodels/tsa/base/tsa_model.py:473: ValueWarning:\n",
            "\n",
            "No frequency information was provided, so inferred frequency D will be used.\n",
            "\n",
            "/usr/local/lib/python3.10/dist-packages/statsmodels/tsa/base/tsa_model.py:473: ValueWarning:\n",
            "\n",
            "No frequency information was provided, so inferred frequency D will be used.\n",
            "\n",
            "/usr/local/lib/python3.10/dist-packages/statsmodels/base/model.py:607: ConvergenceWarning:\n",
            "\n",
            "Maximum Likelihood optimization failed to converge. Check mle_retvals\n",
            "\n",
            "<ipython-input-37-a057e4b76530>:6: FutureWarning:\n",
            "\n",
            "The series.append method is deprecated and will be removed from pandas in a future version. Use pandas.concat instead.\n",
            "\n",
            "<ipython-input-37-a057e4b76530>:7: FutureWarning:\n",
            "\n",
            "The series.append method is deprecated and will be removed from pandas in a future version. Use pandas.concat instead.\n",
            "\n",
            "/usr/local/lib/python3.10/dist-packages/statsmodels/tsa/base/tsa_model.py:473: ValueWarning:\n",
            "\n",
            "No frequency information was provided, so inferred frequency D will be used.\n",
            "\n",
            "/usr/local/lib/python3.10/dist-packages/statsmodels/tsa/base/tsa_model.py:473: ValueWarning:\n",
            "\n",
            "No frequency information was provided, so inferred frequency D will be used.\n",
            "\n",
            "/usr/local/lib/python3.10/dist-packages/statsmodels/tsa/base/tsa_model.py:473: ValueWarning:\n",
            "\n",
            "No frequency information was provided, so inferred frequency D will be used.\n",
            "\n",
            "/usr/local/lib/python3.10/dist-packages/statsmodels/base/model.py:607: ConvergenceWarning:\n",
            "\n",
            "Maximum Likelihood optimization failed to converge. Check mle_retvals\n",
            "\n",
            "<ipython-input-37-a057e4b76530>:6: FutureWarning:\n",
            "\n",
            "The series.append method is deprecated and will be removed from pandas in a future version. Use pandas.concat instead.\n",
            "\n",
            "<ipython-input-37-a057e4b76530>:7: FutureWarning:\n",
            "\n",
            "The series.append method is deprecated and will be removed from pandas in a future version. Use pandas.concat instead.\n",
            "\n",
            "/usr/local/lib/python3.10/dist-packages/statsmodels/tsa/base/tsa_model.py:473: ValueWarning:\n",
            "\n",
            "No frequency information was provided, so inferred frequency D will be used.\n",
            "\n",
            "/usr/local/lib/python3.10/dist-packages/statsmodels/tsa/base/tsa_model.py:473: ValueWarning:\n",
            "\n",
            "No frequency information was provided, so inferred frequency D will be used.\n",
            "\n",
            "/usr/local/lib/python3.10/dist-packages/statsmodels/tsa/base/tsa_model.py:473: ValueWarning:\n",
            "\n",
            "No frequency information was provided, so inferred frequency D will be used.\n",
            "\n",
            "/usr/local/lib/python3.10/dist-packages/statsmodels/base/model.py:607: ConvergenceWarning:\n",
            "\n",
            "Maximum Likelihood optimization failed to converge. Check mle_retvals\n",
            "\n",
            "<ipython-input-37-a057e4b76530>:6: FutureWarning:\n",
            "\n",
            "The series.append method is deprecated and will be removed from pandas in a future version. Use pandas.concat instead.\n",
            "\n",
            "<ipython-input-37-a057e4b76530>:7: FutureWarning:\n",
            "\n",
            "The series.append method is deprecated and will be removed from pandas in a future version. Use pandas.concat instead.\n",
            "\n",
            "/usr/local/lib/python3.10/dist-packages/statsmodels/tsa/base/tsa_model.py:473: ValueWarning:\n",
            "\n",
            "No frequency information was provided, so inferred frequency D will be used.\n",
            "\n",
            "/usr/local/lib/python3.10/dist-packages/statsmodels/tsa/base/tsa_model.py:473: ValueWarning:\n",
            "\n",
            "No frequency information was provided, so inferred frequency D will be used.\n",
            "\n",
            "/usr/local/lib/python3.10/dist-packages/statsmodels/tsa/base/tsa_model.py:473: ValueWarning:\n",
            "\n",
            "No frequency information was provided, so inferred frequency D will be used.\n",
            "\n",
            "/usr/local/lib/python3.10/dist-packages/statsmodels/base/model.py:607: ConvergenceWarning:\n",
            "\n",
            "Maximum Likelihood optimization failed to converge. Check mle_retvals\n",
            "\n",
            "<ipython-input-37-a057e4b76530>:6: FutureWarning:\n",
            "\n",
            "The series.append method is deprecated and will be removed from pandas in a future version. Use pandas.concat instead.\n",
            "\n",
            "<ipython-input-37-a057e4b76530>:7: FutureWarning:\n",
            "\n",
            "The series.append method is deprecated and will be removed from pandas in a future version. Use pandas.concat instead.\n",
            "\n"
          ]
        }
      ],
      "source": [
        "y_pred_wfv = pd.Series()\n",
        "history = y_train.copy()\n",
        "for i in range(len(data_forecast)):\n",
        "    model = ARIMA(history, order= (24,0,2)).fit()\n",
        "    next_pred = model.forecast()\n",
        "    y_pred_wfv = y_pred_wfv.append(next_pred)\n",
        "    history = history.append(y_test[next_pred.index])"
      ]
    },
    {
      "cell_type": "code",
      "source": [
        "history"
      ],
      "metadata": {
        "colab": {
          "base_uri": "https://localhost:8080/"
        },
        "id": "3jb6wD5DrMIV",
        "outputId": "ab30c3d4-3814-4fed-f603-c673efb650c6"
      },
      "execution_count": 28,
      "outputs": [
        {
          "output_type": "execute_result",
          "data": {
            "text/plain": [
              "date\n",
              "1980-01-01 01:00:00+01:00    23.89\n",
              "1980-01-02 01:00:00+01:00    24.44\n",
              "1980-01-03 01:00:00+01:00    24.44\n",
              "1980-01-04 01:00:00+01:00    23.33\n",
              "1980-01-05 01:00:00+01:00    23.89\n",
              "                             ...  \n",
              "2020-11-01 01:00:00+01:00    29.44\n",
              "2020-11-02 01:00:00+01:00    28.89\n",
              "2020-11-03 01:00:00+01:00    28.89\n",
              "2020-11-04 01:00:00+01:00    29.44\n",
              "2020-11-05 01:00:00+01:00    30.00\n",
              "Name: UV000005502, Length: 14920, dtype: float64"
            ]
          },
          "metadata": {},
          "execution_count": 28
        }
      ]
    },
    {
      "cell_type": "code",
      "source": [
        "y_pred_wfv"
      ],
      "metadata": {
        "colab": {
          "base_uri": "https://localhost:8080/"
        },
        "id": "7yoYL1JOrW9Z",
        "outputId": "e6a6eb37-f2e2-46b8-95e9-014a37c98978"
      },
      "execution_count": 38,
      "outputs": [
        {
          "output_type": "execute_result",
          "data": {
            "text/plain": [
              "2020-11-06 01:00:00+01:00    29.823922\n",
              "2020-11-07 01:00:00+01:00    29.829112\n",
              "2020-11-08 01:00:00+01:00    28.842042\n",
              "2020-11-09 01:00:00+01:00    28.824218\n",
              "Freq: D, dtype: float64"
            ]
          },
          "metadata": {},
          "execution_count": 38
        }
      ]
    },
    {
      "cell_type": "code",
      "source": [
        "y_test.loc['2020-11-06': '2020-11-10']"
      ],
      "metadata": {
        "colab": {
          "base_uri": "https://localhost:8080/"
        },
        "id": "G9xDEPMcgAMr",
        "outputId": "540da4ba-73d0-4b3f-89fb-a83314ee4df1"
      },
      "execution_count": 46,
      "outputs": [
        {
          "output_type": "execute_result",
          "data": {
            "text/plain": [
              "date\n",
              "2020-11-06 01:00:00+01:00    30.00\n",
              "2020-11-07 01:00:00+01:00    28.33\n",
              "2020-11-08 01:00:00+01:00    28.33\n",
              "2020-11-09 01:00:00+01:00    27.78\n",
              "2020-11-10 01:00:00+01:00    27.22\n",
              "Name: UV000005502, dtype: float64"
            ]
          },
          "metadata": {},
          "execution_count": 46
        }
      ]
    },
    {
      "cell_type": "code",
      "execution_count": 47,
      "metadata": {
        "id": "I6mwHpbcs5-m",
        "colab": {
          "base_uri": "https://localhost:8080/"
        },
        "outputId": "1854bc77-db17-4f16-a490-8a7869708ed4"
      },
      "outputs": [
        {
          "output_type": "stream",
          "name": "stdout",
          "text": [
            "Test MAE (walk forward validation): 0.81\n"
          ]
        }
      ],
      "source": [
        "test_mae = mean_absolute_error(y_test.loc['2020-11-06': '2020-11-09'], y_pred_wfv)\n",
        "print(\"Test MAE (walk forward validation):\", round(test_mae, 2))"
      ]
    },
    {
      "cell_type": "code",
      "execution_count": 50,
      "metadata": {
        "id": "ea-BjMBNcPEb",
        "colab": {
          "base_uri": "https://localhost:8080/",
          "height": 542
        },
        "outputId": "6a3d3c3a-9d8c-4fbe-eee0-1e0454858bc1"
      },
      "outputs": [
        {
          "output_type": "display_data",
          "data": {
            "text/html": [
              "<html>\n",
              "<head><meta charset=\"utf-8\" /></head>\n",
              "<body>\n",
              "    <div>            <script src=\"https://cdnjs.cloudflare.com/ajax/libs/mathjax/2.7.5/MathJax.js?config=TeX-AMS-MML_SVG\"></script><script type=\"text/javascript\">if (window.MathJax && window.MathJax.Hub && window.MathJax.Hub.Config) {window.MathJax.Hub.Config({SVG: {font: \"STIX-Web\"}});}</script>                <script type=\"text/javascript\">window.PlotlyConfig = {MathJaxConfig: 'local'};</script>\n",
              "        <script charset=\"utf-8\" src=\"https://cdn.plot.ly/plotly-2.24.1.min.js\"></script>                <div id=\"8ad9486a-b4a0-4be4-bff1-496f9cb207bb\" class=\"plotly-graph-div\" style=\"height:525px; width:100%;\"></div>            <script type=\"text/javascript\">                                    window.PLOTLYENV=window.PLOTLYENV || {};                                    if (document.getElementById(\"8ad9486a-b4a0-4be4-bff1-496f9cb207bb\")) {                    Plotly.newPlot(                        \"8ad9486a-b4a0-4be4-bff1-496f9cb207bb\",                        [{\"hovertemplate\":\"variable=forecasted data\\u003cbr\\u003eindex=%{x}\\u003cbr\\u003eAir Temperature=%{y}\\u003cextra\\u003e\\u003c\\u002fextra\\u003e\",\"legendgroup\":\"forecasted data\",\"line\":{\"color\":\"#636efa\",\"dash\":\"solid\"},\"marker\":{\"symbol\":\"circle\"},\"mode\":\"lines\",\"name\":\"forecasted data\",\"orientation\":\"v\",\"showlegend\":true,\"x\":[\"2020-11-06T01:00:00+01:00\",\"2020-11-07T01:00:00+01:00\",\"2020-11-08T01:00:00+01:00\",\"2020-11-09T01:00:00+01:00\"],\"xaxis\":\"x\",\"y\":[30.0,28.33,28.33,27.78],\"yaxis\":\"y\",\"type\":\"scatter\"},{\"hovertemplate\":\"variable=y_pred_wfv\\u003cbr\\u003eindex=%{x}\\u003cbr\\u003eAir Temperature=%{y}\\u003cextra\\u003e\\u003c\\u002fextra\\u003e\",\"legendgroup\":\"y_pred_wfv\",\"line\":{\"color\":\"#EF553B\",\"dash\":\"solid\"},\"marker\":{\"symbol\":\"circle\"},\"mode\":\"lines\",\"name\":\"y_pred_wfv\",\"orientation\":\"v\",\"showlegend\":true,\"x\":[\"2020-11-06T01:00:00+01:00\",\"2020-11-07T01:00:00+01:00\",\"2020-11-08T01:00:00+01:00\",\"2020-11-09T01:00:00+01:00\"],\"xaxis\":\"x\",\"y\":[29.823921587618603,29.829111549203592,28.842041989531506,28.824218431239277],\"yaxis\":\"y\",\"type\":\"scatter\"}],                        {\"template\":{\"data\":{\"histogram2dcontour\":[{\"type\":\"histogram2dcontour\",\"colorbar\":{\"outlinewidth\":0,\"ticks\":\"\"},\"colorscale\":[[0.0,\"#0d0887\"],[0.1111111111111111,\"#46039f\"],[0.2222222222222222,\"#7201a8\"],[0.3333333333333333,\"#9c179e\"],[0.4444444444444444,\"#bd3786\"],[0.5555555555555556,\"#d8576b\"],[0.6666666666666666,\"#ed7953\"],[0.7777777777777778,\"#fb9f3a\"],[0.8888888888888888,\"#fdca26\"],[1.0,\"#f0f921\"]]}],\"choropleth\":[{\"type\":\"choropleth\",\"colorbar\":{\"outlinewidth\":0,\"ticks\":\"\"}}],\"histogram2d\":[{\"type\":\"histogram2d\",\"colorbar\":{\"outlinewidth\":0,\"ticks\":\"\"},\"colorscale\":[[0.0,\"#0d0887\"],[0.1111111111111111,\"#46039f\"],[0.2222222222222222,\"#7201a8\"],[0.3333333333333333,\"#9c179e\"],[0.4444444444444444,\"#bd3786\"],[0.5555555555555556,\"#d8576b\"],[0.6666666666666666,\"#ed7953\"],[0.7777777777777778,\"#fb9f3a\"],[0.8888888888888888,\"#fdca26\"],[1.0,\"#f0f921\"]]}],\"heatmap\":[{\"type\":\"heatmap\",\"colorbar\":{\"outlinewidth\":0,\"ticks\":\"\"},\"colorscale\":[[0.0,\"#0d0887\"],[0.1111111111111111,\"#46039f\"],[0.2222222222222222,\"#7201a8\"],[0.3333333333333333,\"#9c179e\"],[0.4444444444444444,\"#bd3786\"],[0.5555555555555556,\"#d8576b\"],[0.6666666666666666,\"#ed7953\"],[0.7777777777777778,\"#fb9f3a\"],[0.8888888888888888,\"#fdca26\"],[1.0,\"#f0f921\"]]}],\"heatmapgl\":[{\"type\":\"heatmapgl\",\"colorbar\":{\"outlinewidth\":0,\"ticks\":\"\"},\"colorscale\":[[0.0,\"#0d0887\"],[0.1111111111111111,\"#46039f\"],[0.2222222222222222,\"#7201a8\"],[0.3333333333333333,\"#9c179e\"],[0.4444444444444444,\"#bd3786\"],[0.5555555555555556,\"#d8576b\"],[0.6666666666666666,\"#ed7953\"],[0.7777777777777778,\"#fb9f3a\"],[0.8888888888888888,\"#fdca26\"],[1.0,\"#f0f921\"]]}],\"contourcarpet\":[{\"type\":\"contourcarpet\",\"colorbar\":{\"outlinewidth\":0,\"ticks\":\"\"}}],\"contour\":[{\"type\":\"contour\",\"colorbar\":{\"outlinewidth\":0,\"ticks\":\"\"},\"colorscale\":[[0.0,\"#0d0887\"],[0.1111111111111111,\"#46039f\"],[0.2222222222222222,\"#7201a8\"],[0.3333333333333333,\"#9c179e\"],[0.4444444444444444,\"#bd3786\"],[0.5555555555555556,\"#d8576b\"],[0.6666666666666666,\"#ed7953\"],[0.7777777777777778,\"#fb9f3a\"],[0.8888888888888888,\"#fdca26\"],[1.0,\"#f0f921\"]]}],\"surface\":[{\"type\":\"surface\",\"colorbar\":{\"outlinewidth\":0,\"ticks\":\"\"},\"colorscale\":[[0.0,\"#0d0887\"],[0.1111111111111111,\"#46039f\"],[0.2222222222222222,\"#7201a8\"],[0.3333333333333333,\"#9c179e\"],[0.4444444444444444,\"#bd3786\"],[0.5555555555555556,\"#d8576b\"],[0.6666666666666666,\"#ed7953\"],[0.7777777777777778,\"#fb9f3a\"],[0.8888888888888888,\"#fdca26\"],[1.0,\"#f0f921\"]]}],\"mesh3d\":[{\"type\":\"mesh3d\",\"colorbar\":{\"outlinewidth\":0,\"ticks\":\"\"}}],\"scatter\":[{\"fillpattern\":{\"fillmode\":\"overlay\",\"size\":10,\"solidity\":0.2},\"type\":\"scatter\"}],\"parcoords\":[{\"type\":\"parcoords\",\"line\":{\"colorbar\":{\"outlinewidth\":0,\"ticks\":\"\"}}}],\"scatterpolargl\":[{\"type\":\"scatterpolargl\",\"marker\":{\"colorbar\":{\"outlinewidth\":0,\"ticks\":\"\"}}}],\"bar\":[{\"error_x\":{\"color\":\"#2a3f5f\"},\"error_y\":{\"color\":\"#2a3f5f\"},\"marker\":{\"line\":{\"color\":\"#E5ECF6\",\"width\":0.5},\"pattern\":{\"fillmode\":\"overlay\",\"size\":10,\"solidity\":0.2}},\"type\":\"bar\"}],\"scattergeo\":[{\"type\":\"scattergeo\",\"marker\":{\"colorbar\":{\"outlinewidth\":0,\"ticks\":\"\"}}}],\"scatterpolar\":[{\"type\":\"scatterpolar\",\"marker\":{\"colorbar\":{\"outlinewidth\":0,\"ticks\":\"\"}}}],\"histogram\":[{\"marker\":{\"pattern\":{\"fillmode\":\"overlay\",\"size\":10,\"solidity\":0.2}},\"type\":\"histogram\"}],\"scattergl\":[{\"type\":\"scattergl\",\"marker\":{\"colorbar\":{\"outlinewidth\":0,\"ticks\":\"\"}}}],\"scatter3d\":[{\"type\":\"scatter3d\",\"line\":{\"colorbar\":{\"outlinewidth\":0,\"ticks\":\"\"}},\"marker\":{\"colorbar\":{\"outlinewidth\":0,\"ticks\":\"\"}}}],\"scattermapbox\":[{\"type\":\"scattermapbox\",\"marker\":{\"colorbar\":{\"outlinewidth\":0,\"ticks\":\"\"}}}],\"scatterternary\":[{\"type\":\"scatterternary\",\"marker\":{\"colorbar\":{\"outlinewidth\":0,\"ticks\":\"\"}}}],\"scattercarpet\":[{\"type\":\"scattercarpet\",\"marker\":{\"colorbar\":{\"outlinewidth\":0,\"ticks\":\"\"}}}],\"carpet\":[{\"aaxis\":{\"endlinecolor\":\"#2a3f5f\",\"gridcolor\":\"white\",\"linecolor\":\"white\",\"minorgridcolor\":\"white\",\"startlinecolor\":\"#2a3f5f\"},\"baxis\":{\"endlinecolor\":\"#2a3f5f\",\"gridcolor\":\"white\",\"linecolor\":\"white\",\"minorgridcolor\":\"white\",\"startlinecolor\":\"#2a3f5f\"},\"type\":\"carpet\"}],\"table\":[{\"cells\":{\"fill\":{\"color\":\"#EBF0F8\"},\"line\":{\"color\":\"white\"}},\"header\":{\"fill\":{\"color\":\"#C8D4E3\"},\"line\":{\"color\":\"white\"}},\"type\":\"table\"}],\"barpolar\":[{\"marker\":{\"line\":{\"color\":\"#E5ECF6\",\"width\":0.5},\"pattern\":{\"fillmode\":\"overlay\",\"size\":10,\"solidity\":0.2}},\"type\":\"barpolar\"}],\"pie\":[{\"automargin\":true,\"type\":\"pie\"}]},\"layout\":{\"autotypenumbers\":\"strict\",\"colorway\":[\"#636efa\",\"#EF553B\",\"#00cc96\",\"#ab63fa\",\"#FFA15A\",\"#19d3f3\",\"#FF6692\",\"#B6E880\",\"#FF97FF\",\"#FECB52\"],\"font\":{\"color\":\"#2a3f5f\"},\"hovermode\":\"closest\",\"hoverlabel\":{\"align\":\"left\"},\"paper_bgcolor\":\"white\",\"plot_bgcolor\":\"#E5ECF6\",\"polar\":{\"bgcolor\":\"#E5ECF6\",\"angularaxis\":{\"gridcolor\":\"white\",\"linecolor\":\"white\",\"ticks\":\"\"},\"radialaxis\":{\"gridcolor\":\"white\",\"linecolor\":\"white\",\"ticks\":\"\"}},\"ternary\":{\"bgcolor\":\"#E5ECF6\",\"aaxis\":{\"gridcolor\":\"white\",\"linecolor\":\"white\",\"ticks\":\"\"},\"baxis\":{\"gridcolor\":\"white\",\"linecolor\":\"white\",\"ticks\":\"\"},\"caxis\":{\"gridcolor\":\"white\",\"linecolor\":\"white\",\"ticks\":\"\"}},\"coloraxis\":{\"colorbar\":{\"outlinewidth\":0,\"ticks\":\"\"}},\"colorscale\":{\"sequential\":[[0.0,\"#0d0887\"],[0.1111111111111111,\"#46039f\"],[0.2222222222222222,\"#7201a8\"],[0.3333333333333333,\"#9c179e\"],[0.4444444444444444,\"#bd3786\"],[0.5555555555555556,\"#d8576b\"],[0.6666666666666666,\"#ed7953\"],[0.7777777777777778,\"#fb9f3a\"],[0.8888888888888888,\"#fdca26\"],[1.0,\"#f0f921\"]],\"sequentialminus\":[[0.0,\"#0d0887\"],[0.1111111111111111,\"#46039f\"],[0.2222222222222222,\"#7201a8\"],[0.3333333333333333,\"#9c179e\"],[0.4444444444444444,\"#bd3786\"],[0.5555555555555556,\"#d8576b\"],[0.6666666666666666,\"#ed7953\"],[0.7777777777777778,\"#fb9f3a\"],[0.8888888888888888,\"#fdca26\"],[1.0,\"#f0f921\"]],\"diverging\":[[0,\"#8e0152\"],[0.1,\"#c51b7d\"],[0.2,\"#de77ae\"],[0.3,\"#f1b6da\"],[0.4,\"#fde0ef\"],[0.5,\"#f7f7f7\"],[0.6,\"#e6f5d0\"],[0.7,\"#b8e186\"],[0.8,\"#7fbc41\"],[0.9,\"#4d9221\"],[1,\"#276419\"]]},\"xaxis\":{\"gridcolor\":\"white\",\"linecolor\":\"white\",\"ticks\":\"\",\"title\":{\"standoff\":15},\"zerolinecolor\":\"white\",\"automargin\":true,\"zerolinewidth\":2},\"yaxis\":{\"gridcolor\":\"white\",\"linecolor\":\"white\",\"ticks\":\"\",\"title\":{\"standoff\":15},\"zerolinecolor\":\"white\",\"automargin\":true,\"zerolinewidth\":2},\"scene\":{\"xaxis\":{\"backgroundcolor\":\"#E5ECF6\",\"gridcolor\":\"white\",\"linecolor\":\"white\",\"showbackground\":true,\"ticks\":\"\",\"zerolinecolor\":\"white\",\"gridwidth\":2},\"yaxis\":{\"backgroundcolor\":\"#E5ECF6\",\"gridcolor\":\"white\",\"linecolor\":\"white\",\"showbackground\":true,\"ticks\":\"\",\"zerolinecolor\":\"white\",\"gridwidth\":2},\"zaxis\":{\"backgroundcolor\":\"#E5ECF6\",\"gridcolor\":\"white\",\"linecolor\":\"white\",\"showbackground\":true,\"ticks\":\"\",\"zerolinecolor\":\"white\",\"gridwidth\":2}},\"shapedefaults\":{\"line\":{\"color\":\"#2a3f5f\"}},\"annotationdefaults\":{\"arrowcolor\":\"#2a3f5f\",\"arrowhead\":0,\"arrowwidth\":1},\"geo\":{\"bgcolor\":\"white\",\"landcolor\":\"#E5ECF6\",\"subunitcolor\":\"white\",\"showland\":true,\"showlakes\":true,\"lakecolor\":\"white\"},\"title\":{\"x\":0.05},\"mapbox\":{\"style\":\"light\"}}},\"xaxis\":{\"anchor\":\"y\",\"domain\":[0.0,1.0],\"title\":{\"text\":\"index\"}},\"yaxis\":{\"anchor\":\"x\",\"domain\":[0.0,1.0],\"title\":{\"text\":\"Air Temperature\"}},\"legend\":{\"title\":{\"text\":\"variable\"},\"tracegroupgap\":0},\"margin\":{\"t\":60}},                        {\"responsive\": true}                    ).then(function(){\n",
              "                            \n",
              "var gd = document.getElementById('8ad9486a-b4a0-4be4-bff1-496f9cb207bb');\n",
              "var x = new MutationObserver(function (mutations, observer) {{\n",
              "        var display = window.getComputedStyle(gd).display;\n",
              "        if (!display || display === 'none') {{\n",
              "            console.log([gd, 'removed!']);\n",
              "            Plotly.purge(gd);\n",
              "            observer.disconnect();\n",
              "        }}\n",
              "}});\n",
              "\n",
              "// Listen for the removal of the full notebook cells\n",
              "var notebookContainer = gd.closest('#notebook-container');\n",
              "if (notebookContainer) {{\n",
              "    x.observe(notebookContainer, {childList: true});\n",
              "}}\n",
              "\n",
              "// Listen for the clearing of the current output cell\n",
              "var outputEl = gd.closest('.output');\n",
              "if (outputEl) {{\n",
              "    x.observe(outputEl, {childList: true});\n",
              "}}\n",
              "\n",
              "                        })                };                            </script>        </div>\n",
              "</body>\n",
              "</html>"
            ]
          },
          "metadata": {}
        }
      ],
      "source": [
        "df_predictions = pd.DataFrame({\"forecasted data\": y_test.loc['2020-11-06': '2020-11-09'], \"y_pred_wfv\": y_pred_wfv})\n",
        "fig = px.line(df_predictions, labels = {\"value\": \"Air Temperature\"})\n",
        "fig.show()"
      ]
    },
    {
      "cell_type": "markdown",
      "source": [
        "### Dealing with all the Models all at once"
      ],
      "metadata": {
        "id": "xQom91Xn7Lnh"
      }
    },
    {
      "cell_type": "code",
      "source": [
        "model_df.head()"
      ],
      "metadata": {
        "id": "iLQYPfVBrk7S",
        "colab": {
          "base_uri": "https://localhost:8080/",
          "height": 374
        },
        "outputId": "e46acfe7-7c62-48a3-f737-f7d4bc903006"
      },
      "execution_count": 41,
      "outputs": [
        {
          "output_type": "execute_result",
          "data": {
            "text/plain": [
              "                           UV000005502  UV000005507  UV000005522  UV000065501  \\\n",
              "date                                                                            \n",
              "1980-01-01 01:00:00+01:00        23.89        24.44        26.67        21.67   \n",
              "1980-01-02 01:00:00+01:00        24.44        24.44        27.22        24.44   \n",
              "1980-01-03 01:00:00+01:00        24.44        25.00        26.11        22.78   \n",
              "1980-01-04 01:00:00+01:00        23.33        25.00        26.11        23.33   \n",
              "1980-01-05 01:00:00+01:00        23.89        25.56        27.22        23.89   \n",
              "\n",
              "                           UV000065516  UVM00065503  UVM00065510  UVM00065518  \\\n",
              "date                                                                            \n",
              "1980-01-01 01:00:00+01:00        24.44        23.33        24.44        26.67   \n",
              "1980-01-02 01:00:00+01:00        26.11        25.00        26.11        26.67   \n",
              "1980-01-03 01:00:00+01:00        25.00        25.56        25.00        26.67   \n",
              "1980-01-04 01:00:00+01:00        24.44        24.44        25.00        26.67   \n",
              "1980-01-05 01:00:00+01:00        25.56        25.56        26.67        26.67   \n",
              "\n",
              "                           IV000005557  IV000005562  ...  SGM00061695  \\\n",
              "date                                                 ...                \n",
              "1980-01-01 01:00:00+01:00        25.56        24.44  ...        23.33   \n",
              "1980-01-02 01:00:00+01:00        25.56        27.22  ...        24.44   \n",
              "1980-01-03 01:00:00+01:00        26.11        27.22  ...        23.33   \n",
              "1980-01-04 01:00:00+01:00        26.67        26.67  ...        21.67   \n",
              "1980-01-05 01:00:00+01:00        26.11        26.67  ...        24.44   \n",
              "\n",
              "                           SGM00061697  SGM00061698  SGM00061699  SL000061856  \\\n",
              "date                                                                            \n",
              "1980-01-01 01:00:00+01:00        26.67        28.89        30.00        26.67   \n",
              "1980-01-02 01:00:00+01:00        26.67        27.78        26.11        26.67   \n",
              "1980-01-03 01:00:00+01:00        26.67        28.89        27.78        26.67   \n",
              "1980-01-04 01:00:00+01:00        26.67        23.33        28.33        26.67   \n",
              "1980-01-05 01:00:00+01:00        26.67        23.33        27.22        26.67   \n",
              "\n",
              "                           LIM00065660  GHM00065472  CVM00008594  GV000001832  \\\n",
              "date                                                                            \n",
              "1980-01-01 01:00:00+01:00        27.78        26.11        21.67        26.11   \n",
              "1980-01-02 01:00:00+01:00        27.78        28.89        22.22        26.11   \n",
              "1980-01-03 01:00:00+01:00        27.78        28.89        21.11        26.11   \n",
              "1980-01-04 01:00:00+01:00        27.78        28.89        21.67        26.11   \n",
              "1980-01-05 01:00:00+01:00        27.78        28.89        21.67        26.11   \n",
              "\n",
              "                            avg_temp  \n",
              "date                                  \n",
              "1980-01-01 01:00:00+01:00  24.630000  \n",
              "1980-01-02 01:00:00+01:00  25.208750  \n",
              "1980-01-03 01:00:00+01:00  25.409583  \n",
              "1980-01-04 01:00:00+01:00  25.547778  \n",
              "1980-01-05 01:00:00+01:00  25.339583  \n",
              "\n",
              "[5 rows x 73 columns]"
            ],
            "text/html": [
              "\n",
              "  <div id=\"df-fe2b52e7-5dcf-419a-b017-de6e4f7670ad\" class=\"colab-df-container\">\n",
              "    <div>\n",
              "<style scoped>\n",
              "    .dataframe tbody tr th:only-of-type {\n",
              "        vertical-align: middle;\n",
              "    }\n",
              "\n",
              "    .dataframe tbody tr th {\n",
              "        vertical-align: top;\n",
              "    }\n",
              "\n",
              "    .dataframe thead th {\n",
              "        text-align: right;\n",
              "    }\n",
              "</style>\n",
              "<table border=\"1\" class=\"dataframe\">\n",
              "  <thead>\n",
              "    <tr style=\"text-align: right;\">\n",
              "      <th></th>\n",
              "      <th>UV000005502</th>\n",
              "      <th>UV000005507</th>\n",
              "      <th>UV000005522</th>\n",
              "      <th>UV000065501</th>\n",
              "      <th>UV000065516</th>\n",
              "      <th>UVM00065503</th>\n",
              "      <th>UVM00065510</th>\n",
              "      <th>UVM00065518</th>\n",
              "      <th>IV000005557</th>\n",
              "      <th>IV000005562</th>\n",
              "      <th>...</th>\n",
              "      <th>SGM00061695</th>\n",
              "      <th>SGM00061697</th>\n",
              "      <th>SGM00061698</th>\n",
              "      <th>SGM00061699</th>\n",
              "      <th>SL000061856</th>\n",
              "      <th>LIM00065660</th>\n",
              "      <th>GHM00065472</th>\n",
              "      <th>CVM00008594</th>\n",
              "      <th>GV000001832</th>\n",
              "      <th>avg_temp</th>\n",
              "    </tr>\n",
              "    <tr>\n",
              "      <th>date</th>\n",
              "      <th></th>\n",
              "      <th></th>\n",
              "      <th></th>\n",
              "      <th></th>\n",
              "      <th></th>\n",
              "      <th></th>\n",
              "      <th></th>\n",
              "      <th></th>\n",
              "      <th></th>\n",
              "      <th></th>\n",
              "      <th></th>\n",
              "      <th></th>\n",
              "      <th></th>\n",
              "      <th></th>\n",
              "      <th></th>\n",
              "      <th></th>\n",
              "      <th></th>\n",
              "      <th></th>\n",
              "      <th></th>\n",
              "      <th></th>\n",
              "      <th></th>\n",
              "    </tr>\n",
              "  </thead>\n",
              "  <tbody>\n",
              "    <tr>\n",
              "      <th>1980-01-01 01:00:00+01:00</th>\n",
              "      <td>23.89</td>\n",
              "      <td>24.44</td>\n",
              "      <td>26.67</td>\n",
              "      <td>21.67</td>\n",
              "      <td>24.44</td>\n",
              "      <td>23.33</td>\n",
              "      <td>24.44</td>\n",
              "      <td>26.67</td>\n",
              "      <td>25.56</td>\n",
              "      <td>24.44</td>\n",
              "      <td>...</td>\n",
              "      <td>23.33</td>\n",
              "      <td>26.67</td>\n",
              "      <td>28.89</td>\n",
              "      <td>30.00</td>\n",
              "      <td>26.67</td>\n",
              "      <td>27.78</td>\n",
              "      <td>26.11</td>\n",
              "      <td>21.67</td>\n",
              "      <td>26.11</td>\n",
              "      <td>24.630000</td>\n",
              "    </tr>\n",
              "    <tr>\n",
              "      <th>1980-01-02 01:00:00+01:00</th>\n",
              "      <td>24.44</td>\n",
              "      <td>24.44</td>\n",
              "      <td>27.22</td>\n",
              "      <td>24.44</td>\n",
              "      <td>26.11</td>\n",
              "      <td>25.00</td>\n",
              "      <td>26.11</td>\n",
              "      <td>26.67</td>\n",
              "      <td>25.56</td>\n",
              "      <td>27.22</td>\n",
              "      <td>...</td>\n",
              "      <td>24.44</td>\n",
              "      <td>26.67</td>\n",
              "      <td>27.78</td>\n",
              "      <td>26.11</td>\n",
              "      <td>26.67</td>\n",
              "      <td>27.78</td>\n",
              "      <td>28.89</td>\n",
              "      <td>22.22</td>\n",
              "      <td>26.11</td>\n",
              "      <td>25.208750</td>\n",
              "    </tr>\n",
              "    <tr>\n",
              "      <th>1980-01-03 01:00:00+01:00</th>\n",
              "      <td>24.44</td>\n",
              "      <td>25.00</td>\n",
              "      <td>26.11</td>\n",
              "      <td>22.78</td>\n",
              "      <td>25.00</td>\n",
              "      <td>25.56</td>\n",
              "      <td>25.00</td>\n",
              "      <td>26.67</td>\n",
              "      <td>26.11</td>\n",
              "      <td>27.22</td>\n",
              "      <td>...</td>\n",
              "      <td>23.33</td>\n",
              "      <td>26.67</td>\n",
              "      <td>28.89</td>\n",
              "      <td>27.78</td>\n",
              "      <td>26.67</td>\n",
              "      <td>27.78</td>\n",
              "      <td>28.89</td>\n",
              "      <td>21.11</td>\n",
              "      <td>26.11</td>\n",
              "      <td>25.409583</td>\n",
              "    </tr>\n",
              "    <tr>\n",
              "      <th>1980-01-04 01:00:00+01:00</th>\n",
              "      <td>23.33</td>\n",
              "      <td>25.00</td>\n",
              "      <td>26.11</td>\n",
              "      <td>23.33</td>\n",
              "      <td>24.44</td>\n",
              "      <td>24.44</td>\n",
              "      <td>25.00</td>\n",
              "      <td>26.67</td>\n",
              "      <td>26.67</td>\n",
              "      <td>26.67</td>\n",
              "      <td>...</td>\n",
              "      <td>21.67</td>\n",
              "      <td>26.67</td>\n",
              "      <td>23.33</td>\n",
              "      <td>28.33</td>\n",
              "      <td>26.67</td>\n",
              "      <td>27.78</td>\n",
              "      <td>28.89</td>\n",
              "      <td>21.67</td>\n",
              "      <td>26.11</td>\n",
              "      <td>25.547778</td>\n",
              "    </tr>\n",
              "    <tr>\n",
              "      <th>1980-01-05 01:00:00+01:00</th>\n",
              "      <td>23.89</td>\n",
              "      <td>25.56</td>\n",
              "      <td>27.22</td>\n",
              "      <td>23.89</td>\n",
              "      <td>25.56</td>\n",
              "      <td>25.56</td>\n",
              "      <td>26.67</td>\n",
              "      <td>26.67</td>\n",
              "      <td>26.11</td>\n",
              "      <td>26.67</td>\n",
              "      <td>...</td>\n",
              "      <td>24.44</td>\n",
              "      <td>26.67</td>\n",
              "      <td>23.33</td>\n",
              "      <td>27.22</td>\n",
              "      <td>26.67</td>\n",
              "      <td>27.78</td>\n",
              "      <td>28.89</td>\n",
              "      <td>21.67</td>\n",
              "      <td>26.11</td>\n",
              "      <td>25.339583</td>\n",
              "    </tr>\n",
              "  </tbody>\n",
              "</table>\n",
              "<p>5 rows × 73 columns</p>\n",
              "</div>\n",
              "    <div class=\"colab-df-buttons\">\n",
              "\n",
              "  <div class=\"colab-df-container\">\n",
              "    <button class=\"colab-df-convert\" onclick=\"convertToInteractive('df-fe2b52e7-5dcf-419a-b017-de6e4f7670ad')\"\n",
              "            title=\"Convert this dataframe to an interactive table.\"\n",
              "            style=\"display:none;\">\n",
              "\n",
              "  <svg xmlns=\"http://www.w3.org/2000/svg\" height=\"24px\" viewBox=\"0 -960 960 960\">\n",
              "    <path d=\"M120-120v-720h720v720H120Zm60-500h600v-160H180v160Zm220 220h160v-160H400v160Zm0 220h160v-160H400v160ZM180-400h160v-160H180v160Zm440 0h160v-160H620v160ZM180-180h160v-160H180v160Zm440 0h160v-160H620v160Z\"/>\n",
              "  </svg>\n",
              "    </button>\n",
              "\n",
              "  <style>\n",
              "    .colab-df-container {\n",
              "      display:flex;\n",
              "      gap: 12px;\n",
              "    }\n",
              "\n",
              "    .colab-df-convert {\n",
              "      background-color: #E8F0FE;\n",
              "      border: none;\n",
              "      border-radius: 50%;\n",
              "      cursor: pointer;\n",
              "      display: none;\n",
              "      fill: #1967D2;\n",
              "      height: 32px;\n",
              "      padding: 0 0 0 0;\n",
              "      width: 32px;\n",
              "    }\n",
              "\n",
              "    .colab-df-convert:hover {\n",
              "      background-color: #E2EBFA;\n",
              "      box-shadow: 0px 1px 2px rgba(60, 64, 67, 0.3), 0px 1px 3px 1px rgba(60, 64, 67, 0.15);\n",
              "      fill: #174EA6;\n",
              "    }\n",
              "\n",
              "    .colab-df-buttons div {\n",
              "      margin-bottom: 4px;\n",
              "    }\n",
              "\n",
              "    [theme=dark] .colab-df-convert {\n",
              "      background-color: #3B4455;\n",
              "      fill: #D2E3FC;\n",
              "    }\n",
              "\n",
              "    [theme=dark] .colab-df-convert:hover {\n",
              "      background-color: #434B5C;\n",
              "      box-shadow: 0px 1px 3px 1px rgba(0, 0, 0, 0.15);\n",
              "      filter: drop-shadow(0px 1px 2px rgba(0, 0, 0, 0.3));\n",
              "      fill: #FFFFFF;\n",
              "    }\n",
              "  </style>\n",
              "\n",
              "    <script>\n",
              "      const buttonEl =\n",
              "        document.querySelector('#df-fe2b52e7-5dcf-419a-b017-de6e4f7670ad button.colab-df-convert');\n",
              "      buttonEl.style.display =\n",
              "        google.colab.kernel.accessAllowed ? 'block' : 'none';\n",
              "\n",
              "      async function convertToInteractive(key) {\n",
              "        const element = document.querySelector('#df-fe2b52e7-5dcf-419a-b017-de6e4f7670ad');\n",
              "        const dataTable =\n",
              "          await google.colab.kernel.invokeFunction('convertToInteractive',\n",
              "                                                    [key], {});\n",
              "        if (!dataTable) return;\n",
              "\n",
              "        const docLinkHtml = 'Like what you see? Visit the ' +\n",
              "          '<a target=\"_blank\" href=https://colab.research.google.com/notebooks/data_table.ipynb>data table notebook</a>'\n",
              "          + ' to learn more about interactive tables.';\n",
              "        element.innerHTML = '';\n",
              "        dataTable['output_type'] = 'display_data';\n",
              "        await google.colab.output.renderOutput(dataTable, element);\n",
              "        const docLink = document.createElement('div');\n",
              "        docLink.innerHTML = docLinkHtml;\n",
              "        element.appendChild(docLink);\n",
              "      }\n",
              "    </script>\n",
              "  </div>\n",
              "\n",
              "\n",
              "<div id=\"df-5f9abfe5-c9e6-4f76-a7b2-087bd0ae5f6f\">\n",
              "  <button class=\"colab-df-quickchart\" onclick=\"quickchart('df-5f9abfe5-c9e6-4f76-a7b2-087bd0ae5f6f')\"\n",
              "            title=\"Suggest charts\"\n",
              "            style=\"display:none;\">\n",
              "\n",
              "<svg xmlns=\"http://www.w3.org/2000/svg\" height=\"24px\"viewBox=\"0 0 24 24\"\n",
              "     width=\"24px\">\n",
              "    <g>\n",
              "        <path d=\"M19 3H5c-1.1 0-2 .9-2 2v14c0 1.1.9 2 2 2h14c1.1 0 2-.9 2-2V5c0-1.1-.9-2-2-2zM9 17H7v-7h2v7zm4 0h-2V7h2v10zm4 0h-2v-4h2v4z\"/>\n",
              "    </g>\n",
              "</svg>\n",
              "  </button>\n",
              "\n",
              "<style>\n",
              "  .colab-df-quickchart {\n",
              "      --bg-color: #E8F0FE;\n",
              "      --fill-color: #1967D2;\n",
              "      --hover-bg-color: #E2EBFA;\n",
              "      --hover-fill-color: #174EA6;\n",
              "      --disabled-fill-color: #AAA;\n",
              "      --disabled-bg-color: #DDD;\n",
              "  }\n",
              "\n",
              "  [theme=dark] .colab-df-quickchart {\n",
              "      --bg-color: #3B4455;\n",
              "      --fill-color: #D2E3FC;\n",
              "      --hover-bg-color: #434B5C;\n",
              "      --hover-fill-color: #FFFFFF;\n",
              "      --disabled-bg-color: #3B4455;\n",
              "      --disabled-fill-color: #666;\n",
              "  }\n",
              "\n",
              "  .colab-df-quickchart {\n",
              "    background-color: var(--bg-color);\n",
              "    border: none;\n",
              "    border-radius: 50%;\n",
              "    cursor: pointer;\n",
              "    display: none;\n",
              "    fill: var(--fill-color);\n",
              "    height: 32px;\n",
              "    padding: 0;\n",
              "    width: 32px;\n",
              "  }\n",
              "\n",
              "  .colab-df-quickchart:hover {\n",
              "    background-color: var(--hover-bg-color);\n",
              "    box-shadow: 0 1px 2px rgba(60, 64, 67, 0.3), 0 1px 3px 1px rgba(60, 64, 67, 0.15);\n",
              "    fill: var(--button-hover-fill-color);\n",
              "  }\n",
              "\n",
              "  .colab-df-quickchart-complete:disabled,\n",
              "  .colab-df-quickchart-complete:disabled:hover {\n",
              "    background-color: var(--disabled-bg-color);\n",
              "    fill: var(--disabled-fill-color);\n",
              "    box-shadow: none;\n",
              "  }\n",
              "\n",
              "  .colab-df-spinner {\n",
              "    border: 2px solid var(--fill-color);\n",
              "    border-color: transparent;\n",
              "    border-bottom-color: var(--fill-color);\n",
              "    animation:\n",
              "      spin 1s steps(1) infinite;\n",
              "  }\n",
              "\n",
              "  @keyframes spin {\n",
              "    0% {\n",
              "      border-color: transparent;\n",
              "      border-bottom-color: var(--fill-color);\n",
              "      border-left-color: var(--fill-color);\n",
              "    }\n",
              "    20% {\n",
              "      border-color: transparent;\n",
              "      border-left-color: var(--fill-color);\n",
              "      border-top-color: var(--fill-color);\n",
              "    }\n",
              "    30% {\n",
              "      border-color: transparent;\n",
              "      border-left-color: var(--fill-color);\n",
              "      border-top-color: var(--fill-color);\n",
              "      border-right-color: var(--fill-color);\n",
              "    }\n",
              "    40% {\n",
              "      border-color: transparent;\n",
              "      border-right-color: var(--fill-color);\n",
              "      border-top-color: var(--fill-color);\n",
              "    }\n",
              "    60% {\n",
              "      border-color: transparent;\n",
              "      border-right-color: var(--fill-color);\n",
              "    }\n",
              "    80% {\n",
              "      border-color: transparent;\n",
              "      border-right-color: var(--fill-color);\n",
              "      border-bottom-color: var(--fill-color);\n",
              "    }\n",
              "    90% {\n",
              "      border-color: transparent;\n",
              "      border-bottom-color: var(--fill-color);\n",
              "    }\n",
              "  }\n",
              "</style>\n",
              "\n",
              "  <script>\n",
              "    async function quickchart(key) {\n",
              "      const quickchartButtonEl =\n",
              "        document.querySelector('#' + key + ' button');\n",
              "      quickchartButtonEl.disabled = true;  // To prevent multiple clicks.\n",
              "      quickchartButtonEl.classList.add('colab-df-spinner');\n",
              "      try {\n",
              "        const charts = await google.colab.kernel.invokeFunction(\n",
              "            'suggestCharts', [key], {});\n",
              "      } catch (error) {\n",
              "        console.error('Error during call to suggestCharts:', error);\n",
              "      }\n",
              "      quickchartButtonEl.classList.remove('colab-df-spinner');\n",
              "      quickchartButtonEl.classList.add('colab-df-quickchart-complete');\n",
              "    }\n",
              "    (() => {\n",
              "      let quickchartButtonEl =\n",
              "        document.querySelector('#df-5f9abfe5-c9e6-4f76-a7b2-087bd0ae5f6f button');\n",
              "      quickchartButtonEl.style.display =\n",
              "        google.colab.kernel.accessAllowed ? 'block' : 'none';\n",
              "    })();\n",
              "  </script>\n",
              "</div>\n",
              "    </div>\n",
              "  </div>\n"
            ]
          },
          "metadata": {},
          "execution_count": 41
        }
      ]
    },
    {
      "cell_type": "code",
      "source": [
        "# Check for Stationality using ADF to confirm if differencing is required or not\n",
        "\n",
        "columns = model_df.columns\n",
        "\n",
        "for station in columns:\n",
        "  y = model_df[station]\n",
        "  # Check for Adf test\n",
        "  result = adfuller(y)\n",
        "  print(station)\n",
        "  print('ADF Statistic: %f' % result[0])\n",
        "  print('p-value: %f' % result[1])"
      ],
      "metadata": {
        "colab": {
          "base_uri": "https://localhost:8080/"
        },
        "id": "l8r0H3nS7TnM",
        "outputId": "abb52f2e-0ebb-40aa-b6b0-890823ef4c63"
      },
      "execution_count": 42,
      "outputs": [
        {
          "output_type": "stream",
          "name": "stdout",
          "text": [
            "UV000005502\n",
            "ADF Statistic: -14.608482\n",
            "p-value: 0.000000\n",
            "UV000005507\n",
            "ADF Statistic: -13.597260\n",
            "p-value: 0.000000\n",
            "UV000005522\n",
            "ADF Statistic: -12.677597\n",
            "p-value: 0.000000\n",
            "UV000065501\n",
            "ADF Statistic: -14.058749\n",
            "p-value: 0.000000\n",
            "UV000065516\n",
            "ADF Statistic: -13.461369\n",
            "p-value: 0.000000\n",
            "UVM00065503\n",
            "ADF Statistic: -14.865656\n",
            "p-value: 0.000000\n",
            "UVM00065510\n",
            "ADF Statistic: -12.790538\n",
            "p-value: 0.000000\n",
            "UVM00065518\n",
            "ADF Statistic: -12.341820\n",
            "p-value: 0.000000\n",
            "IV000005557\n",
            "ADF Statistic: -10.318544\n",
            "p-value: 0.000000\n",
            "IV000005562\n",
            "ADF Statistic: -11.306980\n",
            "p-value: 0.000000\n",
            "IV000005592\n",
            "ADF Statistic: -9.152275\n",
            "p-value: 0.000000\n",
            "IV000065585\n",
            "ADF Statistic: -9.867955\n",
            "p-value: 0.000000\n",
            "IV000065599\n",
            "ADF Statistic: -9.535234\n",
            "p-value: 0.000000\n",
            "IVM00065545\n",
            "ADF Statistic: -9.441641\n",
            "p-value: 0.000000\n",
            "IVM00065560\n",
            "ADF Statistic: -9.491261\n",
            "p-value: 0.000000\n",
            "IVM00065563\n",
            "ADF Statistic: -10.416192\n",
            "p-value: 0.000000\n",
            "IVM00065578\n",
            "ADF Statistic: -10.556275\n",
            "p-value: 0.000000\n",
            "IVM00065594\n",
            "ADF Statistic: -8.777393\n",
            "p-value: 0.000000\n",
            "NG000001036\n",
            "ADF Statistic: -14.144777\n",
            "p-value: 0.000000\n",
            "NG000001049\n",
            "ADF Statistic: -11.644803\n",
            "p-value: 0.000000\n",
            "NG000001052\n",
            "ADF Statistic: -14.982345\n",
            "p-value: 0.000000\n",
            "NG000001075\n",
            "ADF Statistic: -13.454349\n",
            "p-value: 0.000000\n",
            "NG000001080\n",
            "ADF Statistic: -13.166589\n",
            "p-value: 0.000000\n",
            "NG000001090\n",
            "ADF Statistic: -13.355562\n",
            "p-value: 0.000000\n",
            "NG000061017\n",
            "ADF Statistic: -9.239805\n",
            "p-value: 0.000000\n",
            "NG000061024\n",
            "ADF Statistic: -11.185169\n",
            "p-value: 0.000000\n",
            "NG000061043\n",
            "ADF Statistic: -13.569357\n",
            "p-value: 0.000000\n",
            "NG000061096\n",
            "ADF Statistic: -13.088481\n",
            "p-value: 0.000000\n",
            "NGM00061045\n",
            "ADF Statistic: -12.480843\n",
            "p-value: 0.000000\n",
            "NGM00061091\n",
            "ADF Statistic: -12.937769\n",
            "p-value: 0.000000\n",
            "NGM00061099\n",
            "ADF Statistic: -14.099379\n",
            "p-value: 0.000000\n",
            "UVM00065505\n",
            "ADF Statistic: -14.091002\n",
            "p-value: 0.000000\n",
            "TO000005361\n",
            "ADF Statistic: -10.230893\n",
            "p-value: 0.000000\n",
            "TO000005376\n",
            "ADF Statistic: -9.131136\n",
            "p-value: 0.000000\n",
            "TOM00065352\n",
            "ADF Statistic: -11.192979\n",
            "p-value: 0.000000\n",
            "TOM00065355\n",
            "ADF Statistic: -9.607563\n",
            "p-value: 0.000000\n",
            "TOM00065387\n",
            "ADF Statistic: -10.469815\n",
            "p-value: 0.000000\n",
            "GAM00061701\n",
            "ADF Statistic: -10.196194\n",
            "p-value: 0.000000\n",
            "ML000061297\n",
            "ADF Statistic: -13.804369\n",
            "p-value: 0.000000\n",
            "MLM00061230\n",
            "ADF Statistic: -13.596724\n",
            "p-value: 0.000000\n",
            "MLM00061257\n",
            "ADF Statistic: -13.997261\n",
            "p-value: 0.000000\n",
            "MLM00061265\n",
            "ADF Statistic: -13.549129\n",
            "p-value: 0.000000\n",
            "MLM00061272\n",
            "ADF Statistic: -14.257891\n",
            "p-value: 0.000000\n",
            "MLM00061277\n",
            "ADF Statistic: -14.395746\n",
            "p-value: 0.000000\n",
            "MLM00061291\n",
            "ADF Statistic: -13.482130\n",
            "p-value: 0.000000\n",
            "MLM00061293\n",
            "ADF Statistic: -14.765333\n",
            "p-value: 0.000000\n",
            "MLM00061296\n",
            "ADF Statistic: -12.837427\n",
            "p-value: 0.000000\n",
            "PUM00061766\n",
            "ADF Statistic: -11.768891\n",
            "p-value: 0.000000\n",
            "BN000005319\n",
            "ADF Statistic: -11.242549\n",
            "p-value: 0.000000\n",
            "BN000005344\n",
            "ADF Statistic: -10.726118\n",
            "p-value: 0.000000\n",
            "BN000065306\n",
            "ADF Statistic: -13.320503\n",
            "p-value: 0.000000\n",
            "BN000065335\n",
            "ADF Statistic: -9.688840\n",
            "p-value: 0.000000\n",
            "BNM00065330\n",
            "ADF Statistic: -10.064279\n",
            "p-value: 0.000000\n",
            "BNM00065338\n",
            "ADF Statistic: -9.738250\n",
            "p-value: 0.000000\n",
            "NIM00065201\n",
            "ADF Statistic: -9.197860\n",
            "p-value: 0.000000\n",
            "SG000001627\n",
            "ADF Statistic: -12.291209\n",
            "p-value: 0.000000\n",
            "SG000061612\n",
            "ADF Statistic: -11.372890\n",
            "p-value: 0.000000\n",
            "SG000061641\n",
            "ADF Statistic: -10.284150\n",
            "p-value: 0.000000\n",
            "SG000061687\n",
            "ADF Statistic: -13.564837\n",
            "p-value: 0.000000\n",
            "SGM00061600\n",
            "ADF Statistic: -9.297287\n",
            "p-value: 0.000000\n",
            "SGM00061630\n",
            "ADF Statistic: -13.288894\n",
            "p-value: 0.000000\n",
            "SGM00061666\n",
            "ADF Statistic: -10.731810\n",
            "p-value: 0.000000\n",
            "SGM00061679\n",
            "ADF Statistic: -13.451589\n",
            "p-value: 0.000000\n",
            "SGM00061695\n",
            "ADF Statistic: -12.476366\n",
            "p-value: 0.000000\n",
            "SGM00061697\n",
            "ADF Statistic: -10.652582\n",
            "p-value: 0.000000\n",
            "SGM00061698\n",
            "ADF Statistic: -12.763388\n",
            "p-value: 0.000000\n",
            "SGM00061699\n",
            "ADF Statistic: -12.843553\n",
            "p-value: 0.000000\n",
            "SL000061856\n",
            "ADF Statistic: -9.523411\n",
            "p-value: 0.000000\n",
            "LIM00065660\n",
            "ADF Statistic: -6.475618\n",
            "p-value: 0.000000\n",
            "GHM00065472\n",
            "ADF Statistic: -9.357717\n",
            "p-value: 0.000000\n",
            "CVM00008594\n",
            "ADF Statistic: -11.065641\n",
            "p-value: 0.000000\n",
            "GV000001832\n",
            "ADF Statistic: -9.836503\n",
            "p-value: 0.000000\n",
            "avg_temp\n",
            "ADF Statistic: -15.588257\n",
            "p-value: 0.000000\n"
          ]
        }
      ]
    },
    {
      "cell_type": "code",
      "source": [
        "# Create a function for the modeling and return the Accuracy Metrics\n",
        "\n",
        "def ARIMA_model(station):\n",
        "  y = model_df[station]\n",
        "  # Check for Adf test\n",
        "  result = adfuller(y)\n",
        "  print(station)\n",
        "  print('ADF Statistic: %f' % result[0])\n",
        "  print('p-value: %f' % result[1])\n",
        "\n",
        "  # Split the data into train-test split with 90% train data\n",
        "  cutoff_test = int(len(y) * 0.95)\n",
        "\n",
        "  y_train = y.iloc[:cutoff_test]\n",
        "  y_test = y.iloc[cutoff_test:]\n",
        "\n",
        "  # Build a Baseline Model with train data\n",
        "  y_train_mean = y_train.mean()\n",
        "  y_pred_baseline = [y_train_mean] * len(y_train)\n",
        "  mae_baseline = mean_absolute_error(y_train, y_pred_baseline)\n",
        "  rmse_baseline = np.sqrt(mean_squared_error(y_train, y_pred_baseline))\n",
        "  print(\"Mean Temperatrure Reading:\", round(y_train_mean, 2))\n",
        "  print(\"Baseline MAE:\", round(mae_baseline, 2))\n",
        "  print(\"Baseline RMSE:\", round(rmse_baseline, 2))\n",
        "\n",
        "  # Build an ARIMA model with train test. Confirm the ARIMA p and q parameters with hyperparameter tuning\n",
        "  # This was done using only one station\n",
        "  model = ARIMA(y_train, order= (24,0,2)).fit()\n",
        "\n",
        "  y_pred = model.predict()\n",
        "  # Calculate training MAE and RMSE\n",
        "  mae = mean_absolute_error(y_train, y_pred)\n",
        "  rmse = np.sqrt(mean_squared_error(y_train, y_pred))\n",
        "  print(\"Mean Absolute Error: \", round(mae, 2))\n",
        "  print(\"Root Mean Squared Error: \", round(rmse, 2))\n",
        "  print(model.summary())"
      ],
      "metadata": {
        "id": "a76g90b1-QL-"
      },
      "execution_count": 43,
      "outputs": []
    },
    {
      "cell_type": "code",
      "source": [
        "ARIMA_model('GV000001832')"
      ],
      "metadata": {
        "colab": {
          "base_uri": "https://localhost:8080/"
        },
        "id": "MSGvyZpVCDnO",
        "outputId": "0aeaf175-74f8-4ac6-8d06-40b5a9cb9fe4"
      },
      "execution_count": 44,
      "outputs": [
        {
          "output_type": "stream",
          "name": "stdout",
          "text": [
            "GV000001832\n",
            "ADF Statistic: -9.836503\n",
            "p-value: 0.000000\n",
            "Mean Temperatrure Reading: 27.2\n",
            "Baseline MAE: 1.19\n",
            "Baseline RMSE: 1.46\n"
          ]
        },
        {
          "output_type": "stream",
          "name": "stderr",
          "text": [
            "/usr/local/lib/python3.10/dist-packages/statsmodels/tsa/base/tsa_model.py:473: ValueWarning:\n",
            "\n",
            "No frequency information was provided, so inferred frequency D will be used.\n",
            "\n",
            "/usr/local/lib/python3.10/dist-packages/statsmodels/tsa/base/tsa_model.py:473: ValueWarning:\n",
            "\n",
            "No frequency information was provided, so inferred frequency D will be used.\n",
            "\n",
            "/usr/local/lib/python3.10/dist-packages/statsmodels/tsa/base/tsa_model.py:473: ValueWarning:\n",
            "\n",
            "No frequency information was provided, so inferred frequency D will be used.\n",
            "\n",
            "/usr/local/lib/python3.10/dist-packages/statsmodels/base/model.py:607: ConvergenceWarning:\n",
            "\n",
            "Maximum Likelihood optimization failed to converge. Check mle_retvals\n",
            "\n"
          ]
        },
        {
          "output_type": "stream",
          "name": "stdout",
          "text": [
            "Mean Absolute Error:  0.59\n",
            "Root Mean Squared Error:  0.87\n",
            "                               SARIMAX Results                                \n",
            "==============================================================================\n",
            "Dep. Variable:            GV000001832   No. Observations:                14920\n",
            "Model:                ARIMA(24, 0, 2)   Log Likelihood              -19010.072\n",
            "Date:                Tue, 12 Dec 2023   AIC                          38076.145\n",
            "Time:                        19:24:20   BIC                          38289.237\n",
            "Sample:                    01-01-1980   HQIC                         38146.864\n",
            "                         - 11-05-2020                                         \n",
            "Covariance Type:                  opg                                         \n",
            "==============================================================================\n",
            "                 coef    std err          z      P>|z|      [0.025      0.975]\n",
            "------------------------------------------------------------------------------\n",
            "const         27.1683      0.134    202.434      0.000      26.905      27.431\n",
            "ar.L1          0.4897      0.091      5.402      0.000       0.312       0.667\n",
            "ar.L2         -0.6421      0.086     -7.505      0.000      -0.810      -0.474\n",
            "ar.L3          0.3682      0.028     12.930      0.000       0.312       0.424\n",
            "ar.L4          0.1240      0.013      9.856      0.000       0.099       0.149\n",
            "ar.L5          0.1040      0.012      8.631      0.000       0.080       0.128\n",
            "ar.L6          0.0825      0.011      7.633      0.000       0.061       0.104\n",
            "ar.L7          0.0465      0.010      4.601      0.000       0.027       0.066\n",
            "ar.L8          0.0696      0.010      7.134      0.000       0.051       0.089\n",
            "ar.L9          0.0209      0.010      2.060      0.039       0.001       0.041\n",
            "ar.L10         0.0510      0.010      5.027      0.000       0.031       0.071\n",
            "ar.L11         0.0129      0.010      1.355      0.175      -0.006       0.032\n",
            "ar.L12         0.0369      0.010      3.840      0.000       0.018       0.056\n",
            "ar.L13         0.0263      0.010      2.702      0.007       0.007       0.045\n",
            "ar.L14         0.0075      0.010      0.766      0.444      -0.012       0.027\n",
            "ar.L15         0.0338      0.010      3.556      0.000       0.015       0.052\n",
            "ar.L16         0.0172      0.009      1.857      0.063      -0.001       0.035\n",
            "ar.L17         0.0064      0.010      0.656      0.512      -0.013       0.026\n",
            "ar.L18         0.0205      0.010      2.100      0.036       0.001       0.040\n",
            "ar.L19        -0.0145      0.009     -1.556      0.120      -0.033       0.004\n",
            "ar.L20         0.0208      0.009      2.210      0.027       0.002       0.039\n",
            "ar.L21         0.0002      0.010      0.017      0.986      -0.019       0.019\n",
            "ar.L22        -0.0147      0.010     -1.533      0.125      -0.033       0.004\n",
            "ar.L23         0.0368      0.010      3.801      0.000       0.018       0.056\n",
            "ar.L24         0.0080      0.010      0.832      0.405      -0.011       0.027\n",
            "ma.L1         -0.0858      0.091     -0.948      0.343      -0.263       0.092\n",
            "ma.L2          0.6974      0.070     10.011      0.000       0.561       0.834\n",
            "sigma2         0.7482      0.005    144.687      0.000       0.738       0.758\n",
            "===================================================================================\n",
            "Ljung-Box (L1) (Q):                   0.00   Jarque-Bera (JB):             12401.75\n",
            "Prob(Q):                              0.96   Prob(JB):                         0.00\n",
            "Heteroskedasticity (H):               1.76   Skew:                            -0.33\n",
            "Prob(H) (two-sided):                  0.00   Kurtosis:                         7.42\n",
            "===================================================================================\n",
            "\n",
            "Warnings:\n",
            "[1] Covariance matrix calculated using the outer product of gradients (complex-step).\n"
          ]
        }
      ]
    }
  ],
  "metadata": {
    "colab": {
      "provenance": []
    },
    "kernelspec": {
      "display_name": "Python 3",
      "name": "python3"
    },
    "language_info": {
      "name": "python"
    }
  },
  "nbformat": 4,
  "nbformat_minor": 0
}